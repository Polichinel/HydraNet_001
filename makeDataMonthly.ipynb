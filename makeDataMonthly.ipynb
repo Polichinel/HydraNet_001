{
 "cells": [
  {
   "cell_type": "code",
   "execution_count": 1,
   "metadata": {},
   "outputs": [],
   "source": [
    "import numpy as np\n",
    "import pandas as pd\n",
    "import geopandas as gpd\n",
    "import pickle\n",
    "import urllib.request\n",
    "import os\n",
    "\n",
    "import matplotlib.pyplot as plt"
   ]
  },
  {
   "cell_type": "code",
   "execution_count": 2,
   "metadata": {},
   "outputs": [],
   "source": [
    "def get_gwno():\n",
    "\n",
    "    #location = '/home/projects/ku_00017/data/raw/PRIO'\n",
    "    location = '/home/simon/Documents/Bodies/data/PRIO'#local\n",
    "    #path_gwno = location + '/PRIO-GRID Yearly Variables for 2003-2009 - 2022-06-16.csv' #https://grid.prio.org/#/download # need to figrue out the API\n",
    "    path_gwno = location + '/PRIO-GRID Yearly Variables for 1989-2014 - 2022-06-16.csv' #https://grid.prio.org/#/download # need to figrue out the API\n",
    "\n",
    "    # why not just go 1989 - 2019 like ucdp...\n",
    "\n",
    "    gwno = pd.read_csv(path_gwno)\n",
    "\n",
    "    return gwno\n",
    "\n",
    "def get_prio_shape():\n",
    "\n",
    "    #location = '/home/projects/ku_00017/data/raw/PRIO'\n",
    "    location = '/home/simon/Documents/Bodies/data/PRIO'#local\n",
    "    path_prio = location + '/priogrid_shapefiles.zip'\n",
    "\n",
    "    if os.path.isfile(path_prio) == True:\n",
    "        \n",
    "        print('File already downloaded')\n",
    "        prio_grid = gpd.read_file('zip://' + path_prio)\n",
    "\n",
    "        prio_grid =  pd.DataFrame(prio_grid.drop(columns = ['geometry']))\n",
    "\n",
    "    else:\n",
    "        print('Beginning file download PRIO...')\n",
    "        url_prio = 'http://file.prio.no/ReplicationData/PRIO-GRID/priogrid_shapefiles.zip'\n",
    "\n",
    "        urllib.request.urlretrieve(url_prio, path_prio)\n",
    "        prio_grid = gpd.read_file('zip://' + path_prio)\n",
    "\n",
    "        prio_grid =  pd.DataFrame(prio_grid.drop(columns = ['geometry']))\n",
    "\n",
    "    return prio_grid\n",
    "\n",
    "\n",
    "def get_gwno():\n",
    "\n",
    "    #location = '/home/projects/ku_00017/data/raw/PRIO'\n",
    "    location = '/home/simon/Documents/Bodies/data/PRIO' #local\n",
    "    #path_gwno = location + '/PRIO-GRID Yearly Variables for 2003-2009 - 2022-06-16.csv' #https://grid.prio.org/#/download # need to figrue out the API\n",
    "    path_gwno = location + '/PRIO-GRID Yearly Variables for 1989-2014 - 2022-06-16.csv' #https://grid.prio.org/#/download # need to figrue out the API\n",
    "\n",
    "    # why not just go 1989 - 2019 like ucdp...\n",
    "\n",
    "    gwno = pd.read_csv(path_gwno)\n",
    "\n",
    "    return gwno\n",
    "\n",
    "\n",
    "def get_ucdp():\n",
    "\n",
    "    #location = '/home/projects/ku_00017/data/raw/UCDP'\n",
    "    location = '/home/simon/Documents/Bodies/data/UCDP' #local\n",
    "    path_ucdp = location + \"/ged201-csv.zip\"\n",
    "    \n",
    "    if os.path.isfile(path_ucdp) == True:\n",
    "        print('file already downloaded')\n",
    "        ucdp = pd.read_csv(path_ucdp, low_memory=False)\n",
    "\n",
    "\n",
    "    else: \n",
    "        print('Beginning file download UCDP...')\n",
    "\n",
    "        url_ucdp = 'https://ucdp.uu.se/downloads/ged/ged201-csv.zip'\n",
    "    \n",
    "        urllib.request.urlretrieve(url_ucdp, path_ucdp)\n",
    "        ucdp = pd.read_csv(path_ucdp, low_memory=False)\n",
    "\n",
    "    ucdp['month'] = pd.to_datetime(ucdp['date_start']).dt.month\n",
    "    ucdp.rename(columns= {'priogrid_gid' : 'gid'}, inplace= True)\n",
    "    ucdp['in_ucdp'] = True # handy later when I wnat to remove water and stuff.\n",
    "\n",
    "\n",
    "    # just to save ram for now !!!!!!!!!!!!!!!!!!!!!!!!!!!!!!!!!!!!!!!!!!!!!!!!!!!!!!!!!!!!!!!!!!!!!!!!!!!!\n",
    "    sub_years = sorted(ucdp['year'].unique())[:2]\n",
    "    ucdp = ucdp[ucdp['year'].isin(sub_years)]\n",
    "    # -----------------------------------------------------------------------------------------------------\n",
    "\n",
    "    \n",
    "    return ucdp\n"
   ]
  },
  {
   "cell_type": "code",
   "execution_count": 3,
   "metadata": {},
   "outputs": [],
   "source": [
    "# def add_months(ucdp, world_grid):\n",
    "\n",
    "#     diff = ucdp['year'].max() - world_grid['year'].max()\n",
    "\n",
    "#     subset_list = []\n",
    "\n",
    "#     for i in np.arange(1, diff+1, 1):\n",
    "\n",
    "#         subset = world_grid[world_grid['year'] == world_grid['year'].max()].copy()\n",
    "#         subset['year'] = world_grid['year'].max() + i\n",
    "\n",
    "#         subset_list.append(subset)\n",
    "\n",
    "#     new_years = pd.concat(subset_list)\n",
    "#     world_grid_all_years = pd.concat([world_grid, new_years])\n",
    "\n",
    "#     month = [str(i).zfill(2) for i in np.arange(1,13,1)]\n",
    "#     world_grid_all_years.loc[:,'month'] = world_grid_all_years.apply(lambda _: month, axis=1)\n",
    "#     world_grid_all_months = world_grid_all_years.sort_values('year').explode('month').copy()\n",
    "#     world_grid_all_months['year_months_start'] =  world_grid_all_months['year'].astype(str) + '-' +  world_grid_all_months['month'].astype(str)\n",
    "\n",
    "#     year_months = sorted(world_grid_all_months['year_months_start'].unique())\n",
    "#     ts = len(year_months)\n",
    "#     month_ids = np.arange(109, ts + 109, 1)\n",
    "#     month_id_dict = dict(zip(year_months,month_ids))\n",
    "#     month_df = pd.DataFrame({'year_months_start' : year_months, 'month_id': month_ids})\n",
    "#     world_grid_all_months_id = world_grid_all_months.merge(month_df, how = 'left', on = 'year_months_start')\n",
    "\n",
    "#     return world_grid_all_months_id\n",
    "\n",
    "\n",
    "# def prio_ucdp_merge(ucdp, world_grid_all_months):\n",
    "#     ucdp_tmp1 = ucdp.copy()\n",
    "\n",
    "#     ucdp_tmp1['year_months_start'] = ucdp_tmp1['date_start'].str.slice(start = 0, stop = 7) # Date YYYY-MM-DD\n",
    "#     ucdp_tmp1['year_months_end'] = ucdp_tmp1['date_start'].str.slice(start = 0, stop = 7) # Date YYYY-MM-DD\n",
    "\n",
    "\n",
    "#     mask1 = (ucdp_tmp1['year'] != ucdp_tmp1['year_months_start'].str.slice(start = 0, stop = 4).astype(int))\n",
    "#     mask2 = (ucdp_tmp1['year'] != ucdp_tmp1['year_months_end'].str.slice(start = 0, stop = 4).astype(int))\n",
    "\n",
    "#     # correction. Note that end and start year for the four entries that is corrected is the same.\n",
    "#     ucdp_tmp1.loc[mask1 | mask2, 'year'] = ucdp_tmp1.loc[mask1 | mask2,'year_months_start'].str.slice(start = 0, stop = 4).astype(int)\n",
    "\n",
    "#     feature_list = ['deaths_a','deaths_b', 'deaths_civilians', 'deaths_unknown','best', 'high', 'low']\n",
    "\n",
    "#     ucdp_monthly_unit = ucdp_tmp1.groupby(['year_months_start','year', 'priogrid_gid']).sum()[feature_list].reset_index()\n",
    "#     ucdp_monthly_unit.rename(columns={'priogrid_gid':'gid'}, inplace=True)\n",
    "\n",
    "#     ucdp_monthly_unit['log_best'] = np.log(ucdp_monthly_unit['best'] +1)\n",
    "#     ucdp_monthly_unit['log_low'] = np.log(ucdp_monthly_unit['low'] +1)\n",
    "#     ucdp_monthly_unit['log_high'] = np.log(ucdp_monthly_unit['high'] +1)\n",
    "\n",
    "#     prio_ucdp_df = world_grid_all_months.merge(ucdp_monthly_unit, how = 'left', on = ['gid', 'year_months_start', 'year'])\n",
    "#     prio_ucdp_df.fillna(0, inplace=True)\n",
    "\n",
    "#     return prio_ucdp_df"
   ]
  },
  {
   "cell_type": "code",
   "execution_count": 4,
   "metadata": {},
   "outputs": [],
   "source": [
    "# and you can also add some prio stuff here."
   ]
  },
  {
   "cell_type": "code",
   "execution_count": 5,
   "metadata": {},
   "outputs": [],
   "source": [
    "def make_volumn(df):\n",
    "\n",
    "    # we start with wat we know - but there is no reason not to try with more down til line.\n",
    "\n",
    "    sub_df = df[['gid', 'xcoord', 'ycoord', 'month_id', 'best', 'low', 'high', 'log_best', 'log_low', 'log_high']].copy() # remove the everything also the geo col.\n",
    "\n",
    "    sub_df_sorted = sub_df.sort_values(['month_id', 'ycoord', 'xcoord'], ascending = [True, False, True])\n",
    "\n",
    "    # try to keep the jazz\n",
    "    #grid_ucdpS = grid_ucdpS[['gid','best', 'low',  'high', 'log_best', 'log_low', 'log_high']].copy() # remove the everything also the geo col. But keep gid. Why not.\n",
    "\n",
    "    x_dim = sub_df['xcoord'].unique().shape[0]\n",
    "    y_dim = sub_df['ycoord'].unique().shape[0]\n",
    "    z_dim = sub_df['month_id'].unique().shape[0]\n",
    "\n",
    "    ucpd_vol = np.array(sub_df_sorted).reshape((z_dim, y_dim, x_dim, -1))\n",
    "\n",
    "    return ucpd_vol"
   ]
  },
  {
   "cell_type": "code",
   "execution_count": 6,
   "metadata": {},
   "outputs": [],
   "source": [
    "def monthly_grid(prio_grid, ucdp):\n",
    "\n",
    "    years = [sorted(ucdp['year'].unique())] * prio_grid.shape[0]\n",
    "    months = [list(np.arange(1, 13))] * prio_grid.shape[0]\n",
    "\n",
    "    prio_grid['year'] = years\n",
    "    prio_grid['month'] = months\n",
    "\n",
    "    prio_grid = prio_grid.explode('year').reset_index(drop=True) \n",
    "    prio_grid = prio_grid.explode('month').reset_index(drop=True) \n",
    "\n",
    "    return prio_grid"
   ]
  },
  {
   "cell_type": "code",
   "execution_count": 7,
   "metadata": {},
   "outputs": [],
   "source": [
    "\n",
    "def make_full_grid(prio_grid, ucdp, gwno):\n",
    "\n",
    "    prio_grid = prio_grid.merge(gwno, on = ['gid', 'year'], how = 'left') \n",
    "\n",
    "    # you can easily add monthly prio features here (if you got the ram for it)\n",
    "\n",
    "    full_grid = prio_grid.merge(ucdp, on = ['gid', 'year', 'month'], how = 'left') \n",
    "    full_grid.fillna({'best' : 0, 'low' : 0, 'high' : 0, 'log_best' : 0, 'log_low' : 0, 'log_high' : 0, 'gwno' : 0}, inplace = True) # for gwno 0 is no country\n",
    "    full_grid.fillna({'in_ucdp' : False}, inplace = True)\n",
    "\n",
    "    full_grid['log_best'] = np.log(full_grid['best'] + 1)\n",
    "    full_grid['log_high'] = np.log(full_grid['high'] + 1)\n",
    "    full_grid['log_low'] = np.log(full_grid['low'] + 1)\n",
    "\n",
    "    return full_grid"
   ]
  },
  {
   "cell_type": "code",
   "execution_count": 18,
   "metadata": {},
   "outputs": [],
   "source": [
    "def add_month_id(prio_grid):\n",
    "    ts = prio_grid['year_month'].unique()\n",
    "    n_ts = len(ts)\n",
    "    month_ids = np.arange(109, n_ts + 109, 1)\n",
    "    month_id_df = pd.DataFrame({'year_month' : ts, 'month_id': month_ids})\n",
    "    prio_grid = prio_grid.merge(month_id_df, on = 'year_month', how = 'left')\n",
    "\n",
    "    return prio_grid"
   ]
  },
  {
   "cell_type": "code",
   "execution_count": null,
   "metadata": {},
   "outputs": [],
   "source": [
    "def check_month_id(prio_grid):\n",
    "\n",
    "    for year in prio_grid['year'].unique():\n",
    "        print(year, end = ': ')\n",
    "        print(prio_grid[prio_grid['year'] == year]['month_id'].unique(), end = ': ')\n",
    "        print(len(prio_grid[prio_grid['year'] == year]['month_id'].unique()))"
   ]
  },
  {
   "cell_type": "code",
   "execution_count": 8,
   "metadata": {},
   "outputs": [
    {
     "name": "stdout",
     "output_type": "stream",
     "text": [
      "File already downloaded\n",
      "file already downloaded\n"
     ]
    }
   ],
   "source": [
    "prio_grid = get_prio_shape()\n",
    "gwno = get_gwno()\n",
    "ucdp = get_ucdp()\n",
    "prio_grid = monthly_grid(prio_grid, ucdp)\n",
    "prio_grid = make_full_grid(prio_grid, ucdp, gwno)\n",
    "prio_grid = add_month_id(prio_grid)"
   ]
  },
  {
   "cell_type": "code",
   "execution_count": 19,
   "metadata": {},
   "outputs": [],
   "source": [
    "check_month_id(prio_grid)"
   ]
  },
  {
   "cell_type": "code",
   "execution_count": null,
   "metadata": {},
   "outputs": [],
   "source": []
  },
  {
   "cell_type": "code",
   "execution_count": null,
   "metadata": {},
   "outputs": [],
   "source": []
  },
  {
   "cell_type": "code",
   "execution_count": 12,
   "metadata": {},
   "outputs": [],
   "source": [
    "prio_grid.sort_values(['year', 'month'], inplace = True)"
   ]
  },
  {
   "cell_type": "code",
   "execution_count": 15,
   "metadata": {},
   "outputs": [],
   "source": [
    "prio_grid['year_month'] = prio_grid['year'].astype(str) + '_' + prio_grid['month'].astype(str) "
   ]
  },
  {
   "cell_type": "code",
   "execution_count": null,
   "metadata": {},
   "outputs": [],
   "source": [
    "def add_month_id(prio_grid):\n",
    "    ts = prio_grid['year_month'].unique()\n",
    "    n_ts = len(ts)\n",
    "    month_ids = np.arange(109, ts + 109, 1)\n",
    "    month_id_df = pd.DataFrame({'year_month' : ts, 'month_id': month_ids})\n",
    "    prio_grid = prio_grid.merge(month_id_df, on = 'year_month', how = 'left')\n",
    "\n",
    "    return prio_grid"
   ]
  },
  {
   "cell_type": "code",
   "execution_count": null,
   "metadata": {},
   "outputs": [],
   "source": [
    "    ts = len(year_months)\n",
    "    month_ids = np.arange(109, ts + 109, 1)\n",
    "    month_id_dict = dict(zip(year_months,month_ids))\n",
    "    month_df = pd.DataFrame({'year_months_start' : year_months, 'month_id': month_ids})\n",
    "    world_grid_all_months_id = world_grid_all_months.merge(month_df, how = 'left', on = 'year_months_start')"
   ]
  },
  {
   "cell_type": "code",
   "execution_count": null,
   "metadata": {},
   "outputs": [],
   "source": []
  },
  {
   "cell_type": "code",
   "execution_count": null,
   "metadata": {},
   "outputs": [],
   "source": []
  },
  {
   "cell_type": "code",
   "execution_count": null,
   "metadata": {},
   "outputs": [],
   "source": []
  },
  {
   "cell_type": "code",
   "execution_count": null,
   "metadata": {},
   "outputs": [],
   "source": [
    "full_grid['month_id'] = "
   ]
  },
  {
   "cell_type": "code",
   "execution_count": 11,
   "metadata": {},
   "outputs": [
    {
     "data": {
      "text/plain": [
       "Index(['gid', 'xcoord', 'ycoord', 'col', 'row', 'year', 'month', 'gwno', 'id',\n",
       "       'relid', 'active_year', 'code_status', 'type_of_violence',\n",
       "       'conflict_dset_id', 'conflict_new_id', 'conflict_name', 'dyad_dset_id',\n",
       "       'dyad_new_id', 'dyad_name', 'side_a_dset_id', 'side_a_new_id', 'side_a',\n",
       "       'side_b_dset_id', 'side_b_new_id', 'side_b', 'number_of_sources',\n",
       "       'source_article', 'source_office', 'source_date', 'source_headline',\n",
       "       'source_original', 'where_prec', 'where_coordinates',\n",
       "       'where_description', 'adm_1', 'adm_2', 'latitude', 'longitude',\n",
       "       'geom_wkt', 'country', 'country_id', 'region', 'event_clarity',\n",
       "       'date_prec', 'date_start', 'date_end', 'deaths_a', 'deaths_b',\n",
       "       'deaths_civilians', 'deaths_unknown', 'best', 'high', 'low', 'gwnoa',\n",
       "       'gwnob', 'in_ucdp', 'log_best', 'log_high', 'log_low'],\n",
       "      dtype='object')"
      ]
     },
     "execution_count": 11,
     "metadata": {},
     "output_type": "execute_result"
    }
   ],
   "source": [
    "full_grid.columns"
   ]
  },
  {
   "cell_type": "code",
   "execution_count": 10,
   "metadata": {},
   "outputs": [
    {
     "data": {
      "image/png": "[encoded data removed]",
      "text/plain": [
       "<Figure size 2000x800 with 1 Axes>"
      ]
     },
     "metadata": {},
     "output_type": "display_data"
    }
   ],
   "source": [
    "mask = (prio_grid['year'] == 1989) & (prio_grid['month'] == 1) & (prio_grid['gwno'] != 0)\n",
    "sub_grid = prio_grid[mask]\n",
    "\n",
    "x = sub_grid['xcoord']\n",
    "y = sub_grid['ycoord']\n",
    "z = sub_grid['log_best']\n",
    "\n",
    "plt.figure(figsize= [20,8])\n",
    "plt.scatter(x, y, c = z, marker= 's', s = 1, cmap = 'rainbow' )\n",
    "plt.show()"
   ]
  },
  {
   "cell_type": "code",
   "execution_count": null,
   "metadata": {},
   "outputs": [],
   "source": []
  },
  {
   "cell_type": "code",
   "execution_count": null,
   "metadata": {},
   "outputs": [],
   "source": []
  },
  {
   "cell_type": "code",
   "execution_count": null,
   "metadata": {},
   "outputs": [],
   "source": []
  },
  {
   "cell_type": "code",
   "execution_count": null,
   "metadata": {},
   "outputs": [],
   "source": []
  },
  {
   "cell_type": "code",
   "execution_count": null,
   "metadata": {},
   "outputs": [],
   "source": []
  },
  {
   "cell_type": "code",
   "execution_count": null,
   "metadata": {},
   "outputs": [],
   "source": []
  },
  {
   "cell_type": "code",
   "execution_count": null,
   "metadata": {},
   "outputs": [],
   "source": [
    "prio_grid['year'].unique()"
   ]
  },
  {
   "cell_type": "code",
   "execution_count": null,
   "metadata": {},
   "outputs": [],
   "source": [
    "ucdp['year'].unique()"
   ]
  },
  {
   "cell_type": "code",
   "execution_count": null,
   "metadata": {},
   "outputs": [],
   "source": [
    "sub_years = sorted(ucdp['year'].unique())[:2]\n",
    "ucdp = ucdp[ucdp['year'].isin(sub_years)]"
   ]
  },
  {
   "cell_type": "code",
   "execution_count": null,
   "metadata": {},
   "outputs": [],
   "source": [
    "ucdp['in_ucdp'] = True"
   ]
  },
  {
   "cell_type": "code",
   "execution_count": null,
   "metadata": {},
   "outputs": [],
   "source": [
    "ucdp"
   ]
  },
  {
   "cell_type": "code",
   "execution_count": null,
   "metadata": {},
   "outputs": [],
   "source": [
    "prio_grid"
   ]
  },
  {
   "cell_type": "code",
   "execution_count": null,
   "metadata": {},
   "outputs": [],
   "source": []
  },
  {
   "cell_type": "code",
   "execution_count": null,
   "metadata": {},
   "outputs": [],
   "source": [
    "ucdp['month'] = pd.to_datetime(ucdp['date_start']).dt.month\n",
    "ucdp.rename(columns= {'priogrid_gid' : 'gid'}, inplace= True)\n",
    "\n",
    "\n"
   ]
  },
  {
   "cell_type": "code",
   "execution_count": null,
   "metadata": {},
   "outputs": [],
   "source": []
  },
  {
   "cell_type": "code",
   "execution_count": null,
   "metadata": {},
   "outputs": [],
   "source": []
  },
  {
   "cell_type": "code",
   "execution_count": null,
   "metadata": {},
   "outputs": [],
   "source": [
    "sorted(ucdp['year'].unique())[:2]"
   ]
  },
  {
   "cell_type": "code",
   "execution_count": null,
   "metadata": {},
   "outputs": [],
   "source": [
    "years = list(prio_grid['year'].unique())\n",
    "print(years)"
   ]
  },
  {
   "cell_type": "code",
   "execution_count": null,
   "metadata": {},
   "outputs": [],
   "source": [
    "prio_grid"
   ]
  },
  {
   "cell_type": "code",
   "execution_count": null,
   "metadata": {},
   "outputs": [],
   "source": []
  },
  {
   "cell_type": "code",
   "execution_count": null,
   "metadata": {},
   "outputs": [],
   "source": [
    "full_grid = prio_grid.merge(ucdp, on = ['gid', 'year', 'month'], how = 'left') "
   ]
  },
  {
   "cell_type": "code",
   "execution_count": null,
   "metadata": {},
   "outputs": [],
   "source": []
  },
  {
   "cell_type": "code",
   "execution_count": null,
   "metadata": {},
   "outputs": [],
   "source": []
  },
  {
   "cell_type": "code",
   "execution_count": null,
   "metadata": {},
   "outputs": [],
   "source": []
  },
  {
   "cell_type": "code",
   "execution_count": null,
   "metadata": {},
   "outputs": [],
   "source": []
  },
  {
   "cell_type": "code",
   "execution_count": null,
   "metadata": {},
   "outputs": [],
   "source": []
  },
  {
   "cell_type": "code",
   "execution_count": null,
   "metadata": {},
   "outputs": [],
   "source": [
    "mask = (prio_grid['year'] == 1989) & (prio_grid['month'] == 1)\n",
    "sub_grid = prio_grid[mask]\n",
    "\n",
    "x = sub_grid['xcoord']\n",
    "y = sub_grid['ycoord']\n",
    "z = sub_grid['gid']\n",
    "\n",
    "plt.figure(figsize= [20,10])\n",
    "plt.scatter(x, y, c = z, marker= 'o')\n",
    "plt.show()"
   ]
  },
  {
   "cell_type": "code",
   "execution_count": null,
   "metadata": {},
   "outputs": [],
   "source": []
  },
  {
   "cell_type": "code",
   "execution_count": null,
   "metadata": {},
   "outputs": [],
   "source": []
  },
  {
   "cell_type": "code",
   "execution_count": null,
   "metadata": {},
   "outputs": [],
   "source": []
  },
  {
   "cell_type": "code",
   "execution_count": null,
   "metadata": {},
   "outputs": [],
   "source": [
    "# x = ucdp[ucdp['year'] == 2017]['longitude']\n",
    "# y = ucdp[ucdp['year'] == 2017]['latitude']\n",
    "# z = np.log(ucdp[ucdp['year'] == 2017]['best'] + 1)\n",
    "\n",
    "# plt.figure(figsize= [20,10])\n",
    "# plt.scatter(x, y, c = z, marker= 'o')\n",
    "# plt.show()"
   ]
  },
  {
   "cell_type": "code",
   "execution_count": null,
   "metadata": {},
   "outputs": [],
   "source": [
    "ucdp.columns"
   ]
  },
  {
   "cell_type": "code",
   "execution_count": null,
   "metadata": {},
   "outputs": [],
   "source": [
    "start_round = (pd.to_datetime(ucdp['date_start']).dt.day > 15) * 1\n",
    "end_round = (pd.to_datetime(ucdp['date_end']).dt.day > 15) * 1\n",
    "\n",
    "date_start = pd.to_datetime(ucdp['date_start']).dt.month\n",
    "date_end = pd.to_datetime(ucdp['date_end']).dt.month\n",
    "\n",
    "date_start += start_round\n",
    "date_end += end_round\n",
    "\n",
    "date_start = date_start.clip(1,12)\n",
    "date_end = date_end.clip(1,12)"
   ]
  },
  {
   "cell_type": "code",
   "execution_count": null,
   "metadata": {},
   "outputs": [],
   "source": [
    "(date_start != date_end).sum()"
   ]
  },
  {
   "cell_type": "code",
   "execution_count": null,
   "metadata": {},
   "outputs": [],
   "source": []
  },
  {
   "cell_type": "code",
   "execution_count": null,
   "metadata": {},
   "outputs": [],
   "source": []
  },
  {
   "cell_type": "code",
   "execution_count": null,
   "metadata": {},
   "outputs": [],
   "source": [
    "prio_grid"
   ]
  },
  {
   "cell_type": "code",
   "execution_count": null,
   "metadata": {},
   "outputs": [],
   "source": [
    "    n_months = 12\n",
    "    n_gid = data['gid'].unique().shape[0] # number of groups\n",
    "    n_years = data['year'].unique().shape[0] # number of years\n",
    "\n",
    "    # list of lists with temporal sub unites. eg. months\n",
    "    months = [list(np.arange(1, n_months+1))] * data.shape[0] # list of lists with temporal sub unites. eg. months\n",
    "\n",
    "    # append the colum\n",
    "    data['month'] = months \n",
    "\n",
    "    # explode the df in reference to the new col and drop the ond index\n",
    "    data = data.explode('month').reset_index(drop=True) "
   ]
  },
  {
   "cell_type": "code",
   "execution_count": null,
   "metadata": {},
   "outputs": [],
   "source": []
  },
  {
   "cell_type": "code",
   "execution_count": null,
   "metadata": {},
   "outputs": [],
   "source": []
  },
  {
   "cell_type": "code",
   "execution_count": null,
   "metadata": {},
   "outputs": [],
   "source": []
  },
  {
   "cell_type": "code",
   "execution_count": null,
   "metadata": {},
   "outputs": [],
   "source": []
  },
  {
   "cell_type": "code",
   "execution_count": null,
   "metadata": {},
   "outputs": [],
   "source": []
  },
  {
   "cell_type": "code",
   "execution_count": null,
   "metadata": {},
   "outputs": [],
   "source": []
  },
  {
   "cell_type": "code",
   "execution_count": null,
   "metadata": {},
   "outputs": [],
   "source": []
  },
  {
   "cell_type": "code",
   "execution_count": null,
   "metadata": {},
   "outputs": [],
   "source": []
  },
  {
   "cell_type": "code",
   "execution_count": null,
   "metadata": {},
   "outputs": [],
   "source": [
    "#world_grid = prio_grid.merge(gwno, how = 'right', on = 'gid') # if you just merge this on outer I think you get the full grid needed for R-UNET\n",
    "world_grid = prio_grid.merge(gwno, how = 'outer', on = 'gid') # if you just merge this on outer I think you get the full grid needed for R-UNET\n",
    "world_grid.fillna({'best' : 0, 'low' : 0, 'high' : 0, 'log_best' : 0, 'log_low' : 0, 'log_high' : 0}, inplace = True)"
   ]
  },
  {
   "cell_type": "code",
   "execution_count": null,
   "metadata": {},
   "outputs": [],
   "source": []
  },
  {
   "cell_type": "code",
   "execution_count": null,
   "metadata": {},
   "outputs": [],
   "source": []
  },
  {
   "cell_type": "code",
   "execution_count": null,
   "metadata": {},
   "outputs": [],
   "source": [
    "grid_ucdp =  pd.merge(prio_grid_yearly, ucdp_gid, how = 'left', on = ['gid', 'year'])\n",
    "grid_ucdp.fillna({'best' : 0, 'low' : 0, 'high' : 0, 'log_best' : 0, 'log_low' : 0, 'log_high' : 0}, inplace = True)"
   ]
  },
  {
   "cell_type": "code",
   "execution_count": null,
   "metadata": {},
   "outputs": [],
   "source": []
  },
  {
   "cell_type": "code",
   "execution_count": null,
   "metadata": {},
   "outputs": [],
   "source": []
  },
  {
   "cell_type": "code",
   "execution_count": null,
   "metadata": {},
   "outputs": [],
   "source": []
  },
  {
   "cell_type": "code",
   "execution_count": null,
   "metadata": {},
   "outputs": [],
   "source": [
    "def get_prio_ucdp():\n",
    "\n",
    "    prio_grid = get_prio_shape()\n",
    "    gwno = get_gwno()\n",
    "    ucdp = get_ucdp()\n",
    "\n",
    "    #world_grid = prio_grid.merge(gwno, how = 'right', on = 'gid') # if you just merge this on outer I think you get the full grid needed for R-UNET\n",
    "    world_grid = prio_grid.merge(gwno, how = 'outer', on = 'gid') # if you just merge this on outer I think you get the full grid needed for R-UNET\n",
    "    world_grid.fillna({'best' : 0, 'low' : 0, 'high' : 0, 'log_best' : 0, 'log_low' : 0, 'log_high' : 0}, inplace = True)\n",
    "\n",
    "    \n",
    "    world_grid_all_months = add_months(ucdp, world_grid)\n",
    "    prio_ucdp = prio_ucdp_merge(ucdp, world_grid_all_months)\n",
    "\n",
    "    return prio_ucdp"
   ]
  },
  {
   "cell_type": "code",
   "execution_count": null,
   "metadata": {},
   "outputs": [],
   "source": []
  },
  {
   "cell_type": "code",
   "execution_count": null,
   "metadata": {},
   "outputs": [],
   "source": []
  },
  {
   "cell_type": "code",
   "execution_count": null,
   "metadata": {},
   "outputs": [],
   "source": []
  },
  {
   "cell_type": "code",
   "execution_count": null,
   "metadata": {},
   "outputs": [],
   "source": []
  },
  {
   "cell_type": "code",
   "execution_count": null,
   "metadata": {},
   "outputs": [],
   "source": [
    "prio_ucdp = get_prio_ucdp()\n",
    "\n",
    "\n",
    "# ucpd_vol = make_volumn(prio_ucdp)\n",
    "\n",
    "\n",
    "# location = '/home/projects/ku_00017/data/raw/conflictNet'\n",
    "# #location = '/home/simon/Documents/Articles/ConflictNet/data/raw'\n",
    "\n",
    "# print('Saving pickle')\n",
    "# file_name = \"/ucpd_monthly_vol.pkl\"\n",
    "# output = open(location + file_name, 'wb')\n",
    "# pickle.dump(ucpd_vol, output)\n",
    "# output.close()\n",
    "\n",
    "# print('Done')"
   ]
  },
  {
   "cell_type": "code",
   "execution_count": null,
   "metadata": {},
   "outputs": [],
   "source": [
    "m_sub =  prio_ucdp[prio_ucdp['month_id'] == prio_ucdp['month_id'].max()]\n",
    "\n",
    "x = prio_ucdp[]\n",
    "y = \n",
    "z ="
   ]
  },
  {
   "cell_type": "code",
   "execution_count": null,
   "metadata": {},
   "outputs": [],
   "source": []
  },
  {
   "cell_type": "code",
   "execution_count": null,
   "metadata": {},
   "outputs": [],
   "source": [
    "def make_df(prio_grid, ucdp):\n",
    "\n",
    "    print('Creating DF...')\n",
    "\n",
    "    ucdp_gid = trim_ucdp(ucdp=ucdp)\n",
    "    prio_grid_yearly = elong_df(prio_grid, ucdp_gid)\n",
    "\n",
    "    grid_ucdp =  pd.merge(prio_grid_yearly, ucdp_gid, how = 'left', on = ['gid', 'year'])\n",
    "    grid_ucdp.fillna({'best' : 0, 'low' : 0, 'high' : 0, 'log_best' : 0, 'log_low' : 0, 'log_high' : 0}, inplace = True)\n",
    "\n",
    "    grid_ucdp = grid_ucdp[['gid', 'xcoord', 'ycoord', 'year', 'best', 'low', 'high', 'log_best', 'log_low', 'log_high']].copy() # remove the everything also the geo col.\n",
    "\n",
    "    grid_ucdpS = grid_ucdp.sort_values(['year', 'ycoord', 'xcoord'], ascending = [True, False, True])\n",
    "\n",
    "    # try to keep the jazz\n",
    "    #grid_ucdpS = grid_ucdpS[['gid','best', 'low',  'high', 'log_best', 'log_low', 'log_high']].copy() # remove the everything also the geo col. But keep gid. Why not.\n",
    "\n",
    "    x_dim = grid_ucdp['xcoord'].unique().shape[0]\n",
    "    y_dim = grid_ucdp['ycoord'].unique().shape[0]\n",
    "    z_dim = grid_ucdp['year'].unique().shape[0]\n",
    "\n",
    "    ucpd_vol = np.array(grid_ucdpS).reshape((z_dim, y_dim, x_dim, -1))\n",
    "\n",
    "    return ucpd_vol"
   ]
  },
  {
   "cell_type": "code",
   "execution_count": null,
   "metadata": {},
   "outputs": [],
   "source": []
  },
  {
   "cell_type": "code",
   "execution_count": null,
   "metadata": {},
   "outputs": [],
   "source": []
  },
  {
   "cell_type": "code",
   "execution_count": null,
   "metadata": {},
   "outputs": [],
   "source": []
  }
 ],
 "metadata": {
  "kernelspec": {
   "display_name": "Python 3.8.13 ('geo_env_2022')",
   "language": "python",
   "name": "python3"
  },
  "language_info": {
   "codemirror_mode": {
    "name": "ipython",
    "version": 3
   },
   "file_extension": ".py",
   "mimetype": "text/x-python",
   "name": "python",
   "nbconvert_exporter": "python",
   "pygments_lexer": "ipython3",
   "version": "3.8.13"
  },
  "orig_nbformat": 4,
  "vscode": {
   "interpreter": {
    "hash": "5129632b36db574984207cd0a6a7eba6bc5bd4272ef35f5fb4074faf0a719fbc"
   }
  }
 },
 "nbformat": 4,
 "nbformat_minor": 2
}
