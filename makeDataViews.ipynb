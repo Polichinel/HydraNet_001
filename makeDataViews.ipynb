{
 "cells": [
  {
   "cell_type": "code",
   "execution_count": 1,
   "metadata": {},
   "outputs": [],
   "source": [
    "import numpy as np\n",
    "import pandas as pd\n",
    "import geopandas as gpd\n",
    "import pickle\n",
    "import urllib.request\n",
    "import os\n",
    "\n",
    "import matplotlib.pyplot as plt"
   ]
  },
  {
   "cell_type": "code",
   "execution_count": 2,
   "metadata": {},
   "outputs": [],
   "source": [
    "def get_gwno():\n",
    "\n",
    "    #location = '/home/projects/ku_00017/data/raw/PRIO'\n",
    "    location = '/home/simon/Documents/Bodies/data/PRIO'#local\n",
    "    #path_gwno = location + '/PRIO-GRID Yearly Variables for 2003-2009 - 2022-06-16.csv' #https://grid.prio.org/#/download # need to figrue out the API\n",
    "    path_gwno = location + '/PRIO-GRID Yearly Variables for 1989-2014 - 2022-06-16.csv' #https://grid.prio.org/#/download # need to figrue out the API\n",
    "\n",
    "    # why not just go 1989 - 2019 like ucdp...\n",
    "\n",
    "    gwno = pd.read_csv(path_gwno)\n",
    "\n",
    "    return gwno\n",
    "\n",
    "def get_prio_shape():\n",
    "\n",
    "    #location = '/home/projects/ku_00017/data/raw/PRIO'\n",
    "    location = '/home/simon/Documents/Bodies/data/PRIO'#local\n",
    "    path_prio = location + '/priogrid_shapefiles.zip'\n",
    "\n",
    "    if os.path.isfile(path_prio) == True:\n",
    "        \n",
    "        print('File already downloaded')\n",
    "        prio_grid = gpd.read_file('zip://' + path_prio)\n",
    "\n",
    "        prio_grid =  pd.DataFrame(prio_grid.drop(columns = ['geometry']))\n",
    "\n",
    "    else:\n",
    "        print('Beginning file download PRIO...')\n",
    "        url_prio = 'http://file.prio.no/ReplicationData/PRIO-GRID/priogrid_shapefiles.zip'\n",
    "\n",
    "        urllib.request.urlretrieve(url_prio, path_prio)\n",
    "        prio_grid = gpd.read_file('zip://' + path_prio)\n",
    "\n",
    "        prio_grid =  pd.DataFrame(prio_grid.drop(columns = ['geometry']))\n",
    "\n",
    "    return prio_grid\n",
    "\n",
    "\n",
    "def get_gwno():\n",
    "\n",
    "    #location = '/home/projects/ku_00017/data/raw/PRIO'\n",
    "    location = '/home/simon/Documents/Bodies/data/PRIO' #local\n",
    "    #path_gwno = location + '/PRIO-GRID Yearly Variables for 2003-2009 - 2022-06-16.csv' #https://grid.prio.org/#/download # need to figrue out the API\n",
    "    path_gwno = location + '/PRIO-GRID Yearly Variables for 1989-2014 - 2022-06-16.csv' #https://grid.prio.org/#/download # need to figrue out the API\n",
    "\n",
    "    # why not just go 1989 - 2019 like ucdp...\n",
    "\n",
    "    gwno = pd.read_csv(path_gwno)\n",
    "\n",
    "    return gwno\n",
    "\n",
    "\n",
    "def get_ucdp():\n",
    "\n",
    "    #location = '/home/projects/ku_00017/data/raw/UCDP'\n",
    "    location = '/home/simon/Documents/Bodies/data/UCDP' #local\n",
    "    path_ucdp = location + \"/ged201-csv.zip\"\n",
    "    \n",
    "    if os.path.isfile(path_ucdp) == True:\n",
    "        print('file already downloaded')\n",
    "        ucdp = pd.read_csv(path_ucdp, low_memory=False)\n",
    "\n",
    "\n",
    "    else: \n",
    "        print('Beginning file download UCDP...')\n",
    "\n",
    "        url_ucdp = 'https://ucdp.uu.se/downloads/ged/ged201-csv.zip'\n",
    "    \n",
    "        urllib.request.urlretrieve(url_ucdp, path_ucdp)\n",
    "        ucdp = pd.read_csv(path_ucdp, low_memory=False)\n",
    "\n",
    "\n",
    "    # just to save ram for now !!!!!!!!!!!!!!!!!!!!!!!!!!!!!!!!!!!!!!!!!!!!!!!!!!!!!!!!!!!!!!!!!!!!!!!!!!!!\n",
    "    sub_years = sorted(ucdp['year'].unique())[:4]\n",
    "    ucdp = ucdp[ucdp['year'].isin(sub_years)]\n",
    "    # -----------------------------------------------------------------------------------------------------\n",
    "\n",
    "    ucdp['month'] = pd.to_datetime(ucdp['date_start']).dt.month\n",
    "    ucdp.rename(columns= {'priogrid_gid' : 'gid'}, inplace= True)\n",
    "\n",
    "    feature_list = ['month','year', 'gid', 'deaths_a','deaths_b', 'deaths_civilians', 'deaths_unknown','best', 'high', 'low']\n",
    "\n",
    "    ucdp_monthly_unit = ucdp.loc[:,feature_list].groupby(['month','year', 'gid']).sum().reset_index()\n",
    "    ucdp_monthly_unit['log_best'] = np.log(ucdp_monthly_unit['best'] +1)\n",
    "    ucdp_monthly_unit['log_low'] = np.log(ucdp_monthly_unit['low'] +1)\n",
    "    ucdp_monthly_unit['log_high'] = np.log(ucdp_monthly_unit['high'] +1)\n",
    "\n",
    "    ucdp_monthly_unit['in_ucdp'] = True # handy later when I wnat to remove water and stuff.\n",
    "\n",
    "    return ucdp_monthly_unit\n"
   ]
  },
  {
   "cell_type": "code",
   "execution_count": 3,
   "metadata": {},
   "outputs": [],
   "source": [
    "def get_views_data():\n",
    "\n",
    "    path_views = '/home/simon/Documents/Articles/ConflictNet/data/raw/ucdp_views_priogrid_month.csv.zip'\n",
    "    #path_views = '/home/projects/ku_00017/data/raw/......./ucdp_views_priogrid_month.csv.zip'\n",
    "\n",
    "    if os.path.isfile(path_views) == True:\n",
    "\n",
    "        df_views = pd.read_csv(path_views)\n",
    "\n",
    "    else: \n",
    "        print('Beginning file download ViEWS...')\n",
    "        \n",
    "        url_views = 'https://views.pcr.uu.se/download/datasets/ucdp_views_priogrid_month.csv.zip'\n",
    "        urllib.request.urlretrieve(url_views, path_views)\n",
    "        df_views = pd.read_csv(path_views)\n",
    "\n",
    "    return df_views\n"
   ]
  },
  {
   "cell_type": "code",
   "execution_count": 4,
   "metadata": {},
   "outputs": [],
   "source": [
    "def monthly_grid(prio_grid, ucdp):\n",
    "\n",
    "    years = [sorted(ucdp['year'].unique())] * prio_grid.shape[0]\n",
    "    months = [list(np.arange(1, 13))] * prio_grid.shape[0]\n",
    "\n",
    "    prio_grid['year'] = years\n",
    "    prio_grid['month'] = months\n",
    "\n",
    "    prio_grid = prio_grid.explode('year').reset_index(drop=True) \n",
    "    prio_grid = prio_grid.explode('month').reset_index(drop=True) \n",
    "\n",
    "    prio_grid['year'] = prio_grid['year'].astype(int)\n",
    "    prio_grid['month'] = prio_grid['month'].astype(int)\n",
    "\n",
    "    return prio_grid"
   ]
  },
  {
   "cell_type": "code",
   "execution_count": 5,
   "metadata": {},
   "outputs": [],
   "source": [
    "\n",
    "def make_full_grid(prio_grid, ucdp, gwno):\n",
    "\n",
    "    prio_grid = prio_grid.merge(gwno, on = ['gid', 'year'], how = 'left') \n",
    "\n",
    "    # you can easily add monthly prio features here (if you got the ram for it)\n",
    "\n",
    "    full_grid = prio_grid.merge(ucdp, on = ['gid', 'year', 'month'], how = 'left') \n",
    "    full_grid.fillna({'best' : 0, 'low' : 0, 'high' : 0, 'log_best' : 0, 'log_low' : 0, 'log_high' : 0, 'gwno' : 0}, inplace = True) # for gwno 0 is no country\n",
    "    full_grid.fillna({'in_ucdp' : False}, inplace = True)\n",
    "\n",
    "    full_grid['log_best'] = np.log(full_grid['best'] + 1)\n",
    "    full_grid['log_high'] = np.log(full_grid['high'] + 1)\n",
    "    full_grid['log_low'] = np.log(full_grid['low'] + 1)\n",
    "\n",
    "    return full_grid"
   ]
  },
  {
   "cell_type": "code",
   "execution_count": 6,
   "metadata": {},
   "outputs": [],
   "source": [
    "def add_month_id(prio_grid):\n",
    "\n",
    "    prio_grid['year_month'] = prio_grid['year'].astype(str) + '_' + prio_grid['month'].astype(str) \n",
    "\n",
    "    ts = prio_grid['year_month'].unique()\n",
    "    n_ts = len(ts)\n",
    "    month_ids = np.arange(109, n_ts + 109, 1)\n",
    "    month_id_df = pd.DataFrame({'year_month' : ts, 'month_id': month_ids})\n",
    "    prio_grid = prio_grid.merge(month_id_df, on = 'year_month', how = 'left')\n",
    "\n",
    "    return prio_grid"
   ]
  },
  {
   "cell_type": "code",
   "execution_count": 7,
   "metadata": {},
   "outputs": [],
   "source": [
    "def check_month_id(prio_grid):\n",
    "\n",
    "    for year in prio_grid['year'].unique():\n",
    "        print(year, end = ': ')\n",
    "        print(prio_grid[prio_grid['year'] == year]['month_id'].unique(), end = ': ')\n",
    "        print(len(prio_grid[prio_grid['year'] == year]['month_id'].unique()))"
   ]
  },
  {
   "cell_type": "code",
   "execution_count": 8,
   "metadata": {},
   "outputs": [],
   "source": [
    "def get_views_sub(prio_grid, df_views):\n",
    "\n",
    "    africa_gids = df_views['pg_id'].unique()\n",
    "    #views_months = df_views['month_id'].unique()\n",
    "\n",
    "    #Last month in test is dec 2017\n",
    "    views_month_last = df_views[(df_views['year'] == 2017) & (df_views['month'] == 12)]['month_id'].unique()\n",
    "\n",
    "    max_coords = prio_grid[prio_grid['gid'].isin(africa_gids)][['xcoord', 'ycoord']].max() + 2 # +1 just for some room\n",
    "    min_coords = prio_grid[prio_grid['gid'].isin(africa_gids)][['xcoord', 'ycoord']].min() - 2\n",
    "    mask1 = ((prio_grid['xcoord'] < max_coords[0]) & (prio_grid['xcoord'] > min_coords[0]) & (prio_grid['ycoord'] < max_coords[1]) & (prio_grid['ycoord'] > min_coords[1]) & (prio_grid['month_id'] <= views_month_last))\n",
    "    views_subset = prio_grid[mask1].copy()\n",
    "    col_to_change = views_subset.columns[7:18]\n",
    "    views_subset.loc[~views_subset['gid'].isin(africa_gids), col_to_change] = 0\n",
    "    views_subset.reset_index(inplace=True, drop = True)\n",
    "\n",
    "    world_subset = prio_grid[prio_grid['month_id'] <= views_month_last].copy()\n",
    "\n",
    "    return views_subset, world_subset"
   ]
  },
  {
   "cell_type": "code",
   "execution_count": 9,
   "metadata": {},
   "outputs": [],
   "source": [
    "def make_volumn(df):\n",
    "\n",
    "    # we start with wat we know - but there is no reason not to try with more down til line.\n",
    "\n",
    "    sub_df = df[['gid', 'xcoord', 'ycoord', 'month_id', 'best', 'low', 'high', 'log_best', 'log_low', 'log_high', 'gwno']].copy() # remove the everything also the geo col.\n",
    "\n",
    "    sub_df_sorted = sub_df.sort_values(['month_id', 'ycoord', 'xcoord'], ascending = [True, False, True])\n",
    "\n",
    "    # try to keep the jazz\n",
    "    #grid_ucdpS = grid_ucdpS[['gid','best', 'low',  'high', 'log_best', 'log_low', 'log_high']].copy() # remove the everything also the geo col. But keep gid. Why not.\n",
    "\n",
    "    x_dim = sub_df['xcoord'].unique().shape[0]\n",
    "    y_dim = sub_df['ycoord'].unique().shape[0]\n",
    "    z_dim = sub_df['month_id'].unique().shape[0]\n",
    "\n",
    "    ucpd_vol = np.array(sub_df_sorted).reshape((z_dim, y_dim, x_dim, -1))\n",
    "\n",
    "    return ucpd_vol"
   ]
  },
  {
   "cell_type": "code",
   "execution_count": 10,
   "metadata": {},
   "outputs": [
    {
     "name": "stdout",
     "output_type": "stream",
     "text": [
      "File already downloaded\n",
      "file already downloaded\n"
     ]
    }
   ],
   "source": [
    "prio_grid = get_prio_shape()\n",
    "gwno = get_gwno()\n",
    "ucdp = get_ucdp()"
   ]
  },
  {
   "cell_type": "code",
   "execution_count": null,
   "metadata": {},
   "outputs": [],
   "source": [
    "prio_grid = monthly_grid(prio_grid, ucdp)\n",
    "prio_grid = make_full_grid(prio_grid, ucdp, gwno)\n",
    "prio_grid = add_month_id(prio_grid)\n",
    "print(prio_grid.shape)\n"
   ]
  },
  {
   "cell_type": "code",
   "execution_count": null,
   "metadata": {},
   "outputs": [],
   "source": [
    "df_views = get_views_data()\n",
    "views_subset, world_subset = get_views_sub(prio_grid, df_views)"
   ]
  },
  {
   "cell_type": "code",
   "execution_count": null,
   "metadata": {},
   "outputs": [],
   "source": [
    "world_subset['month_id'].unique() == views_subset['month_id'].unique()"
   ]
  },
  {
   "cell_type": "code",
   "execution_count": null,
   "metadata": {},
   "outputs": [],
   "source": [
    "views_vol = make_volumn(views_subset)\n",
    "print(views_vol.shape)"
   ]
  },
  {
   "cell_type": "code",
   "execution_count": null,
   "metadata": {},
   "outputs": [],
   "source": [
    "worlds_vol = make_volumn(world_subset)\n",
    "print(worlds_vol.shape)"
   ]
  },
  {
   "cell_type": "code",
   "execution_count": null,
   "metadata": {},
   "outputs": [],
   "source": [
    "# check_month_id(prio_grid)\n",
    "# check_month_id(df_views)"
   ]
  },
  {
   "cell_type": "markdown",
   "metadata": {},
   "source": [
    "But this does not fly as destroy the square format.\n",
    "the easy solotion: \n",
    "- Set all non african log_best (ect) to 0. \n",
    "- Drop all observationnot within some reasnoble square around africa."
   ]
  },
  {
   "cell_type": "code",
   "execution_count": null,
   "metadata": {},
   "outputs": [],
   "source": [
    "plt.figure(figsize= [24,10])\n",
    "\n",
    "sub_df = world_subset[(world_subset['month_id'] == 109) & (world_subset['gwno'] > 0)] # you nee to do sometion about all the not here gid cells?\n",
    "\n",
    "x = sub_df['xcoord']\n",
    "y = sub_df['ycoord']\n",
    "z =sub_df['log_best']\n",
    "\n",
    "plt.scatter(x, y, c=z, s=2, marker = 's', cmap = 'rainbow')\n",
    "plt.show()"
   ]
  },
  {
   "cell_type": "code",
   "execution_count": null,
   "metadata": {},
   "outputs": [],
   "source": [
    "plt.figure(figsize= [10,8])\n",
    "\n",
    "sub_df = views_subset[(views_subset['month_id'] == 109) & (views_subset['gwno'] > 0)] # you nee to do sometion about all the not here gid cells?\n",
    "\n",
    "x = sub_df['xcoord']\n",
    "y = sub_df['ycoord']\n",
    "z =sub_df['log_best']\n",
    "\n",
    "plt.scatter(x, y, c=z, s=5, marker = 's', cmap = 'rainbow')\n",
    "plt.show()"
   ]
  },
  {
   "cell_type": "code",
   "execution_count": null,
   "metadata": {},
   "outputs": [],
   "source": [
    "plt.figure(figsize= [10,8])\n",
    "\n",
    "sub_df = views_subset[(views_subset['month_id'] == 109)] # you nee to do sometion about all the not here gid cells?\n",
    "\n",
    "x = sub_df['xcoord']\n",
    "y = sub_df['ycoord']\n",
    "z =sub_df['log_best']\n",
    "\n",
    "plt.scatter(x, y, c=z, s=5, marker = 's', cmap = 'rainbow')\n",
    "plt.show()"
   ]
  },
  {
   "cell_type": "code",
   "execution_count": null,
   "metadata": {},
   "outputs": [],
   "source": []
  },
  {
   "cell_type": "code",
   "execution_count": null,
   "metadata": {},
   "outputs": [],
   "source": [
    "plt.figure(figsize= [20,8])\n",
    "plt.imshow(views_vol[-1,:,:,7], cmap = 'rainbow', vmin=views_vol[-1,:,:,7].min() , vmax=views_vol[-1,:,:,7].max())\n",
    "plt.show()"
   ]
  },
  {
   "cell_type": "code",
   "execution_count": null,
   "metadata": {},
   "outputs": [],
   "source": [
    "#mask = (prio_grid['month_id'] == 132) & (prio_grid['gwno'] != 0)\n",
    "mask = views_subset['month_id'] == 132\n",
    "\n",
    "sub_grid = views_subset[mask]\n",
    "\n",
    "x = sub_grid['xcoord']\n",
    "y = sub_grid['ycoord']\n",
    "z = sub_grid['log_best']\n",
    "\n",
    "plt.figure(figsize= [10,8])\n",
    "plt.scatter(x, y, c = z, marker= 's', s = 5, cmap = 'rainbow', vmin=z.min(), vmax=z.max() )\n",
    "plt.show()"
   ]
  },
  {
   "cell_type": "code",
   "execution_count": null,
   "metadata": {},
   "outputs": [],
   "source": [
    "for i in range(views_vol.shape[0]):\n",
    "\n",
    "    #plt.figure(figsize= [20,8])\n",
    "    plt.imshow(views_vol[i,:,:,7], cmap = 'rainbow', vmin=views_vol[-1,:,:,7].min() , vmax=views_vol[-1,:,:,7].max())\n",
    "    plt.show()"
   ]
  },
  {
   "cell_type": "code",
   "execution_count": null,
   "metadata": {},
   "outputs": [],
   "source": [
    "for i in range(views_vol.shape[0]):\n",
    "    data = np.ma.masked_where((views_vol[i,:,:,10] == 0), views_vol[i,:,:,7])\n",
    "\n",
    "    plt.imshow(data, cmap = 'rainbow', vmin=views_vol[-1,:,:,7].min() , vmax=views_vol[-1,:,:,7].max())\n",
    "    plt.show()"
   ]
  },
  {
   "cell_type": "code",
   "execution_count": null,
   "metadata": {},
   "outputs": [],
   "source": [
    "ucdp['year'].unique().shape"
   ]
  },
  {
   "cell_type": "code",
   "execution_count": null,
   "metadata": {},
   "outputs": [],
   "source": [
    "df_views['year'].unique().shape"
   ]
  },
  {
   "cell_type": "code",
   "execution_count": null,
   "metadata": {},
   "outputs": [],
   "source": [
    "df_views[(df_views['year'] == 2017) & (df_views['month'] == 12)]['month_id'].unique()"
   ]
  },
  {
   "cell_type": "code",
   "execution_count": null,
   "metadata": {},
   "outputs": [],
   "source": [
    "df_views['month_id'].max()"
   ]
  }
 ],
 "metadata": {
  "kernelspec": {
   "display_name": "Python 3.8.13 ('geo_env_2022')",
   "language": "python",
   "name": "python3"
  },
  "language_info": {
   "codemirror_mode": {
    "name": "ipython",
    "version": 3
   },
   "file_extension": ".py",
   "mimetype": "text/x-python",
   "name": "python",
   "nbconvert_exporter": "python",
   "pygments_lexer": "ipython3",
   "version": "3.8.13"
  },
  "orig_nbformat": 4,
  "vscode": {
   "interpreter": {
    "hash": "5129632b36db574984207cd0a6a7eba6bc5bd4272ef35f5fb4074faf0a719fbc"
   }
  }
 },
 "nbformat": 4,
 "nbformat_minor": 2
}
