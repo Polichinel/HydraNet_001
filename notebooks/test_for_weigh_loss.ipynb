{
 "cells": [
  {
   "cell_type": "code",
   "execution_count": 1,
   "metadata": {},
   "outputs": [],
   "source": [
    "import torch"
   ]
  },
  {
   "cell_type": "markdown",
   "metadata": {},
   "source": [
    "This might works, but also you can do it better in the individual loses"
   ]
  },
  {
   "cell_type": "code",
   "execution_count": 18,
   "metadata": {},
   "outputs": [],
   "source": [
    "def weigh_loss(loss, y_t0, y_t1, distance_scale):\n",
    "\n",
    "\n",
    "    # Calculate the squared distance between y_t0 and y_t1\n",
    "    squared_distance = torch.pow(y_t1 - y_t0, 2)\n",
    "    \n",
    "    # Add the distance penalty to the original loss\n",
    "    new_loss = loss + torch.mean(squared_distance) * distance_scale\n",
    "\n",
    "    return new_loss"
   ]
  },
  {
   "cell_type": "code",
   "execution_count": 19,
   "metadata": {},
   "outputs": [
    {
     "name": "stdout",
     "output_type": "stream",
     "text": [
      "The original loss is:  tensor(2.7000)\n",
      "The new loss is:  tensor(2.7425)\n"
     ]
    }
   ],
   "source": [
    "y0 = torch.tensor([0.0, 1.0, 2.0, 3.0])\n",
    "y1 = torch.tensor([0.0, 5.0, 2.0, 4.0])\n",
    "\n",
    "y1_hat = torch.tensor([0.4, 2.0, 3.0, 3.2])\n",
    "\n",
    "loss_function = torch.nn.MSELoss()\n",
    "original_loss = loss_function(y1, y1_hat)\n",
    "\n",
    "new_loss = weigh_loss(original_loss, y0, y1, 0.01)\n",
    "\n",
    "print(\"The original loss is: \", original_loss)\n",
    "print(\"The new loss is: \", new_loss)"
   ]
  },
  {
   "cell_type": "code",
   "execution_count": 20,
   "metadata": {},
   "outputs": [
    {
     "name": "stdout",
     "output_type": "stream",
     "text": [
      "The original loss is:  tensor(2.7000)\n",
      "The new loss is:  tensor(2.7650)\n"
     ]
    }
   ],
   "source": [
    "y0 = torch.tensor([0.0, 0.0, 2.0, 3.0])\n",
    "y1 = torch.tensor([0.0, 5.0, 2.0, 4.0])\n",
    "\n",
    "y1_hat = torch.tensor([0.4, 2.0, 3.0, 3.2])\n",
    "\n",
    "loss_function = torch.nn.MSELoss()\n",
    "original_loss = loss_function(y1, y1_hat)\n",
    "\n",
    "new_loss = weigh_loss(original_loss, y0, y1, 0.01)\n",
    "\n",
    "print(\"The original loss is: \", original_loss)\n",
    "print(\"The new loss is: \", new_loss)"
   ]
  },
  {
   "cell_type": "code",
   "execution_count": null,
   "metadata": {},
   "outputs": [],
   "source": []
  }
 ],
 "metadata": {
  "kernelspec": {
   "display_name": "pytorch_2023",
   "language": "python",
   "name": "python3"
  },
  "language_info": {
   "codemirror_mode": {
    "name": "ipython",
    "version": 3
   },
   "file_extension": ".py",
   "mimetype": "text/x-python",
   "name": "python",
   "nbconvert_exporter": "python",
   "pygments_lexer": "ipython3",
   "version": "3.8.16"
  }
 },
 "nbformat": 4,
 "nbformat_minor": 2
}
