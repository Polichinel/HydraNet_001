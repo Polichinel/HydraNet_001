{
 "cells": [
  {
   "cell_type": "code",
   "execution_count": 3,
   "metadata": {},
   "outputs": [],
   "source": [
    "# For local pytorch env (pytorch_2023)\n",
    "\n",
    "import numpy as np\n",
    "import pickle\n",
    "import time\n",
    "import sys\n",
    "import functools\n",
    "\n",
    "import torch\n",
    "import torchvision\n",
    "\n",
    "import sklearn\n",
    "\n",
    "#import wandb\n",
    "import sklearn"
   ]
  },
  {
   "cell_type": "code",
   "execution_count": 4,
   "metadata": {},
   "outputs": [
    {
     "name": "stdout",
     "output_type": "stream",
     "text": [
      "Python Version:  3.8.16 (default, Mar  2 2023, 03:21:46) \n",
      "[GCC 11.2.0]\n",
      "Numpy Version:  1.24.3\n",
      "PyTorch Version:  2.0.1\n",
      "Torchvision Version:  0.15.2\n",
      "Sklearn Version:  1.0.2\n"
     ]
    }
   ],
   "source": [
    "print(\"Python Version: \",sys.version)\n",
    "print(\"Numpy Version: \",np.__version__)\n",
    "print(\"PyTorch Version: \",torch.__version__)\n",
    "print(\"Torchvision Version: \",torchvision.__version__)\n",
    "print(\"Sklearn Version: \",sklearn.__version__)\n"
   ]
  }
 ],
 "metadata": {
  "kernelspec": {
   "display_name": "pytorch_2023",
   "language": "python",
   "name": "python3"
  },
  "language_info": {
   "codemirror_mode": {
    "name": "ipython",
    "version": 3
   },
   "file_extension": ".py",
   "mimetype": "text/x-python",
   "name": "python",
   "nbconvert_exporter": "python",
   "pygments_lexer": "ipython3",
   "version": "3.8.16"
  }
 },
 "nbformat": 4,
 "nbformat_minor": 2
}
