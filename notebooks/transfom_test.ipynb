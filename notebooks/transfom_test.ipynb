{
 "cells": [
  {
   "cell_type": "markdown",
   "metadata": {},
   "source": [
    "$x_{norm} = \\frac{(x-x_{mean})}{x_{std}}$\n",
    "\n",
    "$x_{denorm} = (x_{norm} \\times x_{std}) + x_{mean}$\n"
   ]
  },
  {
   "cell_type": "code",
   "execution_count": 2,
   "metadata": {},
   "outputs": [
    {
     "name": "stdout",
     "output_type": "stream",
     "text": [
      "[1. 2. 3.]\n"
     ]
    }
   ],
   "source": [
    "import numpy as np\n",
    "\n",
    "x = np.array([1, 2, 3])\n",
    "x_norm = (x - x.mean()) / x.std()\n",
    "\n",
    "x_denorm = x_norm * x.std() + x.mean()\n",
    "\n",
    "print(x_denorm)"
   ]
  },
  {
   "cell_type": "code",
   "execution_count": 21,
   "metadata": {},
   "outputs": [],
   "source": [
    "import numpy as np\n",
    "import torch\n",
    "import torchvision.transforms as transforms"
   ]
  },
  {
   "cell_type": "code",
   "execution_count": 22,
   "metadata": {},
   "outputs": [],
   "source": [
    "from scipy.stats import wasserstein_distance"
   ]
  },
  {
   "cell_type": "code",
   "execution_count": 23,
   "metadata": {},
   "outputs": [],
   "source": [
    "model_metadata = {\n",
    "\n",
    "    \"container_info\": {\n",
    "        \"container_type\": \"apptainer\", # Choose appropriate container type\n",
    "        \"container_version\": \"1.2\", # Version of the container\n",
    "        \"container_author\": \"John Doe\", # Author of the container. Likely, but not necessarily, the same as the author of the model.\n",
    "        \"container_date\": \"2023-04-01\", # Date of the last containerization\n",
    "        \"notes\": \"...\" # Include any additional information about the container\n",
    "    },\n",
    "\n",
    "    \"model_info\" : {\n",
    "\n",
    "        \"githhub_repo\": \"https://github.com/Jonh_D/RF_models.git\", # Link to the github repo where the code to train/test the model is stored\n",
    "        \"model_name\": \"RFR_36_months_pgm_africa_middle_east_2023_04_01\", #Unique name for the model. Preferably describtive including algorithm, the temp forecasting window, loa, and date of training.\n",
    "        \"model_description\": \"Random Forest Regressor trained for a 36 forecasting window using Stepshifter v.3.0 for pgm loa Africa and Middle East\", # Description of the model\n",
    "        \"model_version\": \"1.0\", # Version of the model\n",
    "        \"model_author\": \"John Doe\", # Author of the model\n",
    "        \"model_date\": \"2023-04-01\", # Date of the last model training, testing and evaluation before containerization.\n",
    "\n",
    "        \"regression_task\": True,\n",
    "        \"regression_optimization_criteria\": \"squared_error\", # Chioose appropriate regression criteria. Must relflect then name used in the documentation of the model.\n",
    "        \n",
    "        \"classification_task\": False,\n",
    "        \"classification_optimization_criteria\": None, # Choose appropriate classification criteria\n",
    "\n",
    "        \"loa\" : \"pgm\", #for instance \"pgm\" (prio grid month), \"cm\" (contry month), \"am\" (actor month), \"pgy\" (prio grid year), \"cy\" (country year), \"ay\" (actor year)\n",
    "\n",
    "        \"model_algorithm\": \"RandomForestRegressor\",  # Choose appropriate ML algorithm\n",
    "        \"model_library\": \"sklearn\",  # Choose appropriate ML library\n",
    "        \"model_dependencies\": [\"numpy 1.19.2\", \"pandas 1.1.3\", \"scikit-learn 0.23.2\"],  # List of dependencies and their versions\n",
    "        \"notes\": \"...\" # Include any additional information about the model\n",
    "    },\n",
    "\n",
    "    \"hyperparameters\": { # Include all hyperparameters used for the model training. Must be compatible with W&B config format. Exact hyperparameters included and naming convention will depend on the specific model.\n",
    "        \"criterion\": \"squared_error\", # Choose appropriate criterion\n",
    "        \"n_estimators\": 100,\n",
    "        \"max_depth\": 10,\n",
    "        \"learning_rate\": 0.01,\n",
    "        \"min_samples_split\": 2,\n",
    "        \"min_samples_leaf\": 1,\n",
    "        \"min_weight_fraction_leaf\": 0.0,\n",
    "        \"max_features\": \"auto\",\n",
    "        \"max_leaf_nodes\": None,\n",
    "        \"min_impurity_decrease\": 0.0,\n",
    "        \"min_impurity_split\": None,\n",
    "        \"bootstrap\": True,\n",
    "        \"oob_score\": False,\n",
    "        \"n_jobs\": -1,\n",
    "        \"random_state\": 42,\n",
    "        \"verbose\": 0,\n",
    "        \"warm_start\": False,\n",
    "        \"ccp_alpha\": 0.0,\n",
    "        \"max_samples\": None,\n",
    "        # ...\n",
    "        \"notes\" : \"...\" #Include any additional information about the hyperparameters\n",
    "    },\n",
    "\n",
    "    \"feature_info\": {\n",
    "        \"feature_names\": [\"feature_1\", \"feature_2\", \"feature_3\", \"feature_4\", \"feature_5\", \"feature_6\", \"feature_7\", \"feature_8\" ],\n",
    "        \"optained_from\": \"VIEWERS API v.3.0\",\n",
    "        \"optained_date\": \"2023-04-01\",\n",
    "        \"notes\" : \"...\" #Include any additional information about the features\n",
    "        },\n",
    "\n",
    "    \"target_info\": {\n",
    "        \"target_names\": [\"sb_best\"], # List of target names. If a target is logged, normalized, or outerwise transformed, this should be reflected in the name. eg. \"sb_best_ln\"\n",
    "        \"optained_from\": \"VIEWERS API v.3.0\",\n",
    "        \"optained_date\": \"2023-04-01\",\n",
    "        \"notes\" : \"...\" #Include any additional information about the target\n",
    "        },\n",
    "\n",
    "    \"temporal_forecasting_window\": { # realtive to end of history.\n",
    "        \"temporal_granularity\": \"month\", # Choose appropriate temporal granularity. Must be consistent with loa.\n",
    "        \"first_step\": 0,\n",
    "        \"last_step\": 35,\n",
    "        \"notes\": \"...\"\n",
    "    },\n",
    "\n",
    "    \"geographical_forecasting_window\": {\n",
    "        \"geographical_granularity\": \"prio_grid_cell\", # Choose appropriate geographical granularity. Must be consistent with loa.\n",
    "        \"Africa\": True,\n",
    "        \"Middle East\": True,\n",
    "        \"Asia\": False,\n",
    "        \"Europe\": False,\n",
    "        \"Americas\": False,\n",
    "        \"Oceania\": False,\n",
    "        \"custom\": False, # If True, specify custom geographical forecasting window custom_window notes. \n",
    "        \"custom_window\" : [], # If custom = Flase, leave list empty. If custom = True, specify custom geographical forecasting window here. For instance \"Ukrain\", or a list of countries, a list of prio grid cells.\n",
    "        \"notes\": \"...\"\n",
    "    },\n",
    "\n",
    "    \"actor_forcasting_window\": { # only for loa = \"am\" or \"ay\"\n",
    "        \"state_actors\" : [None], # List of all state actors included in the forecasts. If None, no actors specific forcasts are included.\n",
    "        \"non_state_actors\" : [None], # List of all non-state actors included in the forecasts. If None, no actors specific forcasts are included.\n",
    "\n",
    "        \"notes\": \"...\"\n",
    "    },\n",
    "\n",
    "    \"training_info\": {\n",
    "        \"start_month_id\": 0,\n",
    "        \"end_month_id\": 399,\n",
    "        \"notes\": \"...\", #Include special considerations or notes for the training set\n",
    "    },\n",
    "\n",
    "    \"validation_info\": {\n",
    "        \"start_month_id\": 400,\n",
    "        \"end_month_id\": 599,\n",
    "        \"notes\": \"...\", #Provide any specific details or constraints for the validation set. Perticualrly whether or not it was validated across multiple temporal forecasting windows.\n",
    "    },\n",
    "\n",
    "    \"testing_info\": {\n",
    "        \"start_month_id\": 600,\n",
    "        \"end_month_id\": 636,\n",
    "        \"notes\": \"...\", #Include information about the test set, such as any external factors affecting the data\n",
    "    },\n",
    "\n",
    "    \"evaluation_metrics\":{ \n",
    "        \"step_wise\": # Step is relative to end of history. Suggested step-specific enemble weights can be supplied by researcher.\n",
    "        [\n",
    "            {\"step\": 0, \"MSE\": 0.79493354, \"MAE\": 0.42519962, \"MSLE\": 0.12345678, \"KLD\": None, \"Jeffreys\": None, \"CRPS\": None, \"Brier\": None, \"AP\": None, \"AUC\": None, \"ensemble_weight_reg\": None, \"ensemble_weight_class\": None},\n",
    "            {\"step\": 1, \"MSE\": 0.68004244, \"MAE\": 0.34056406, \"MSLE\": 0.10353466, \"KLD\": None, \"Jeffreys\": None, \"CRPS\": None, \"Brier\": None, \"AP\": None, \"AUC\": None, \"ensemble_weight_reg\": None, \"ensemble_weight_class\": None},\n",
    "            #...\n",
    "            {\"step\": 36, \"MSE\": 0.5064236, \"MAE\": 0.23054364, \"MSLE\": 0.08345464, \"KLD\": None, \"Jeffreys\": None, \"CRPS\": None, \"Brier\": None, \"AP\": None, \"AUC\": None, \"ensemble_weight_reg\": None, \"ensemble_weight_class\": None},\n",
    "        ],\n",
    "        \"mean\" : {\"MSE\": 0.6538689, \"MAE\": 0.33056365, \"MSLE\": 0.10345545, \"KLD\": None, \"Jeffreys\": None, \"CRPS\": None, \"Brier\": None, \"AP\": None, \"AUC\": None, \"ensemble_weight_reg\": None, \"ensemble_weight_class\": None},\n",
    "        \"std\" : {\"MSE\": 0.0043682, \"MAE\": 0.00156365, \"MSLE\": 0.00345563, \"KLD\": None, \"Jeffreys\": None, \"CRPS\": None, \"Brier\": None, \"AP\": None, \"AUC\": None, \"ensemble_weight_reg\": None, \"ensemble_weight_class\": None},\n",
    "        \"median\" : {\"MSE\": 0.6538689, \"MAE\": 0.33056365, \"MSLE\": 0.10345545, \"KLD\": None, \"Jeffreys\": None, \"CRPS\": None, \"Brier\": None, \"AP\": None, \"AUC\": None, \"ensemble_weight_reg\": None, \"ensemble_weight_class\": None},\n",
    "    }\n",
    "}"
   ]
  },
  {
   "cell_type": "code",
   "execution_count": 24,
   "metadata": {},
   "outputs": [],
   "source": [
    "model_metadata = {\n",
    "\n",
    "    \"container_info\": {\n",
    "        \"container_type\": \"apptainer\", # Choose appropriate container type\n",
    "        \"container_version\": \"1.2\", # Version of the container\n",
    "        \"container_author\": \"John Doe\", # Author of the container. Likely, but not necessarily, the same as the author of the model.\n",
    "        \"container_date\": \"2023-04-01\", # Date of the last containerization\n",
    "        \"notes\": \"...\" # Include any additional information about the container\n",
    "    },\n",
    "\n",
    "    \"model_info\": {\n",
    "\n",
    "        \"githhub_repo\": \"https://github.com/Jonh_D/RF_models.git\", # Link to the github repo where the code to train/test the model is stored\n",
    "        \"model_name\": \"RFR_36_months_pgm_africa_middle_east_2023_04_01\", #Unique name for the model. Preferably describtive including algorithm, the temp forecasting window, loa, and date of training.\n",
    "        \"model_description\": \"Random Forest Regressor trained for a 36 forecasting window using Stepshifter v.3.0 for pgm loa Africa and Middle East\", # Description of the model\n",
    "        \"model_version\": \"1.0\", # Version of the model\n",
    "        \"model_author\": \"John Doe\", # Author of the model\n",
    "        \"model_date\": \"2023-04-01\", # Date of the last model training, testing, and evaluation before containerization.\n",
    "\n",
    "        \"regression_task\": True, # note that some models may be solving both regression and classification tasks. In this case, both regression_task and classification_task should be set to True.\n",
    "        \"regression_optimization_criteria\": \"squared_error\", # Chioose appropriate regression criteria. Must reflect the name used in the documentation of the model.\n",
    "        \n",
    "        \"classification_task\": False,# note that some models may be solving both regression and classification tasks. In this case, both regression_task and classification_task should be set to True.\n",
    "        \"classification_optimization_criteria\": None, # Choose appropriate classification criteria. Must reflect the name used in the documentation of the model.\n",
    "\n",
    "        \"loa\": \"pgm\", #for instance \"pgm\" (prio grid month), \"cm\" (country month), \"am\" (actor month), \"pgy\" (prio grid year), \"cy\" (country year), \"ay\" (actor year)\n",
    "\n",
    "        \"model_algorithm\": \"RandomForestRegressor\",  # Choose appropriate ML algorithm\n",
    "        \"model_library\": \"sklearn\",  # Choose appropriate ML library\n",
    "        \"model_dependencies\": [\"numpy 1.19.2\", \"pandas 1.1.3\", \"scikit-learn 0.23.2\"],  # List of dependencies and their versions\n",
    "        \"notes\": \"...\" # Include any additional information about the model\n",
    "    },\n",
    "\n",
    "    \"hyperparameters\": { # Include all hyperparameters used for the model training. Must be compatible with W&B config format. Exact hyperparameters included and naming convention will depend on the specific model.\n",
    "        \"criterion\": \"squared_error\", # Choose appropriate criterion\n",
    "        \"n_estimators\": 100,\n",
    "        \"max_depth\": 10,\n",
    "        \"learning_rate\": 0.01,\n",
    "        \"min_samples_split\": 2,\n",
    "        \"min_samples_leaf\": 1,\n",
    "        \"min_weight_fraction_leaf\": 0.0,\n",
    "        \"max_features\": \"auto\",\n",
    "        \"max_leaf_nodes\": None,\n",
    "        \"min_impurity_decrease\": 0.0,\n",
    "        \"min_impurity_split\": None,\n",
    "        \"bootstrap\": True,\n",
    "        \"oob_score\": False,\n",
    "        \"n_jobs\": -1,\n",
    "        \"random_state\": 42,\n",
    "        \"verbose\": 0,\n",
    "        \"warm_start\": False,\n",
    "        \"ccp_alpha\": 0.0,\n",
    "        \"max_samples\": None,\n",
    "        # ...\n",
    "        \"notes\" : \"...\" #Include any additional information about the hyperparameters\n",
    "    },\n",
    "\n",
    "    \"uncertainty_info\": {\n",
    "        \"uncertainty_quantification\": False, # If True, the model provides a sample of predictions for each forecasted temporal unit. If False the model provides a point estimate for each forecasted temporal unit.\n",
    "        \"uncertainty_method\": None, # Choose appropriate uncertainty type, for instance \"ensemble\", \"dropout\", \"bayesian\", \"bootstrap\", conformal prediction\", etc. If uncertainty_estimate = False, this should be None.\n",
    "        \"uncertainty_samples\": 1, # Number of samples drawn from the uncertainty distribution. If uncertainty_estimate = False, this should be 1.\n",
    "        \"notes\": \"...\" # Include any additional information about the uncertainty\n",
    "    },\n",
    "\n",
    "    \"feature_info\": {\n",
    "        \"feature_names\": [\"feature_1\", \"feature_2\", \"feature_3\", \"feature_4\", \"feature_5\", \"feature_6\", \"feature_7\", \"feature_8\" ],\n",
    "        \"optained_from\": [\"VIEWERS API v.3.0\"], # If features are from different sources please elabotare in notes\n",
    "        \"optained_date\": \"2023-04-01\",\n",
    "        \"notes\" : \"...\" #Include any additional information about the features\n",
    "        },\n",
    "\n",
    "    \"target_info\": {\n",
    "        \"target_names\": [\"sb_best\"], # List of target name(s). If a target is logged, normalized, or otherwise transformed, this should be reflected in the name. eg. \"sb_best_ln\"\n",
    "        \"target_types\": [\"continuous\"], # Choose appropriate target type. usually \"continuous\" or \"binary\". Noted that the order of this list must match the order of the target_names list.\n",
    "        \"optained_from\": [\"VIEWERS API v.3.0\"], #If there are multiple target and they are from different sources please elaborate in notes\n",
    "        \"optained_date\": \"2023-04-01\",\n",
    "        \"notes\" : \"...\" #Include any additional information about the target\n",
    "        },\n",
    "\n",
    "    \"temporal_forecasting_window\": { # realtive to end of history.\n",
    "        \"temporal_granularity\": \"month\", # Choose appropriate temporal granularity. Must be consistent with loa.\n",
    "        \"first_step\": 0,\n",
    "        \"last_step\": 35,\n",
    "        \"notes\": \"...\"\n",
    "    },\n",
    "\n",
    "    \"geographical_forecasting_window\": {\n",
    "        \"geographical_granularity\": \"prio_grid_cell\", # Choose appropriate geographical granularity. Must be consistent with LOA.\n",
    "        \"Africa\": True,\n",
    "        \"Middle East\": True,\n",
    "        \"Asia\": False,\n",
    "        \"Europe\": False,\n",
    "        \"Americas\": False,\n",
    "        \"Oceania\": False,\n",
    "        \"custom\": False, # If True, specify custom geographical forecasting window custom_window notes. \n",
    "        \"custom_window\" : [], # If custom = Flase, leave the list empty. If custom = True, specify the custom geographical forecasting window here. For instance \"Ukraine\", or a list of countries, a list of prio grid cells.\n",
    "        \"notes\": \"...\"\n",
    "    },\n",
    "\n",
    "    \"actor_forcasting_window\": { # only for loa = \"am\" or \"ay\"\n",
    "        \"state_actors\" : [None], # List of all state actors included in the forecasts. If None, no actors-specific forecasts are included.\n",
    "        \"non_state_actors\" : [None], # List of all non-state actors included in the forecasts. If None, no actors-specific forecasts are included.\n",
    "\n",
    "        \"notes\": \"...\"\n",
    "    },\n",
    "\n",
    "    \"training_info\": {\n",
    "        \"start_month_id\": 0,\n",
    "        \"end_month_id\": 399,\n",
    "        \"notes\": \"...\", #Include special considerations or notes for the training set\n",
    "    },\n",
    "\n",
    "    \"validation_info\": {\n",
    "        \"start_month_id\": 400,\n",
    "        \"end_month_id\": 599,\n",
    "        \"notes\": \"...\", #Provide any specific details or constraints for the validation set. Particularly whether or not it was validated across multiple temporal forecasting windows.\n",
    "    },\n",
    "\n",
    "    \"testing_info\": {\n",
    "        \"start_month_id\": 600,\n",
    "        \"end_month_id\": 636,\n",
    "        \"notes\": \"...\", #Include information about the test set, such as any external factors affecting the data\n",
    "    },\n",
    "\n",
    "\t\t\"evaluation_metrics\":{ \n",
    "        \"step_wise\": # Step is relative to end of history. Suggested step-specific ensemble weights may be supplied by the researcher but these are not necessarily to ones used in a given ensemble down stream.\n",
    "        [\n",
    "            {\"step\": 0, \"MSE\": 0.79493354, \"MAE\": 0.42519962, \"MSLE\": 0.12345678, \"KLD\": None, \"Jeffreys\": None, \"CRPS\": None, \"Brier\": None, \"AP\": None, \"AUC\": None, \"ensemble_weight_reg\": None, \"ensemble_weight_class\": None},\n",
    "            {\"step\": 1, \"MSE\": 0.68004244, \"MAE\": 0.34056406, \"MSLE\": 0.10353466, \"KLD\": None, \"Jeffreys\": None, \"CRPS\": None, \"Brier\": None, \"AP\": None, \"AUC\": None, \"ensemble_weight_reg\": None, \"ensemble_weight_class\": None},\n",
    "            #...\n",
    "            {\"step\": 36, \"MSE\": 0.5064236, \"MAE\": 0.23054364, \"MSLE\": 0.08345464, \"KLD\": None, \"Jeffreys\": None, \"CRPS\": None, \"Brier\": None, \"AP\": None, \"AUC\": None, \"ensemble_weight_reg\": None, \"ensemble_weight_class\": None},\n",
    "        ],\n",
    "        \"mean\" : {\"MSE\": 0.6538689, \"MAE\": 0.33056365, \"MSLE\": 0.10345545, \"KLD\": None, \"Jeffreys\": None, \"CRPS\": None, \"Brier\": None, \"AP\": None, \"AUC\": None, \"ensemble_weight_reg\": None, \"ensemble_weight_class\": None},\n",
    "        \"std\" : {\"MSE\": 0.0043682, \"MAE\": 0.00156365, \"MSLE\": 0.00345563, \"KLD\": None, \"Jeffreys\": None, \"CRPS\": None, \"Brier\": None, \"AP\": None, \"AUC\": None, \"ensemble_weight_reg\": None, \"ensemble_weight_class\": None},\n",
    "        \"median\" : {\"MSE\": 0.6538689, \"MAE\": 0.33056365, \"MSLE\": 0.10345545, \"KLD\": None, \"Jeffreys\": None, \"CRPS\": None, \"Brier\": None, \"AP\": None, \"AUC\": None, \"ensemble_weight_reg\": None, \"ensemble_weight_class\": None},\n",
    "    }\n",
    "}"
   ]
  },
  {
   "cell_type": "code",
   "execution_count": 25,
   "metadata": {},
   "outputs": [
    {
     "data": {
      "text/plain": [
       "{'step': 36,\n",
       " 'MSE': 0.5064236,\n",
       " 'MAE': 0.23054364,\n",
       " 'MSLE': 0.08345464,\n",
       " 'KLD': None,\n",
       " 'Jeffreys': None,\n",
       " 'CRPS': None,\n",
       " 'Brier': None,\n",
       " 'AP': None,\n",
       " 'AUC': None,\n",
       " 'ensemble_weight_reg': None,\n",
       " 'ensemble_weight_class': None}"
      ]
     },
     "execution_count": 25,
     "metadata": {},
     "output_type": "execute_result"
    }
   ],
   "source": [
    "model_metadata[\"evaluation_metrics\"]['step_wise'][-1]"
   ]
  },
  {
   "cell_type": "code",
   "execution_count": 26,
   "metadata": {},
   "outputs": [
    {
     "data": {
      "text/plain": [
       "{'start_month_id': 400, 'end_month_id': 599, 'notes': '...'}"
      ]
     },
     "execution_count": 26,
     "metadata": {},
     "output_type": "execute_result"
    }
   ],
   "source": [
    "model_metadata['validation_info']"
   ]
  },
  {
   "cell_type": "code",
   "execution_count": 27,
   "metadata": {},
   "outputs": [],
   "source": [
    "#CRPS\n"
   ]
  },
  {
   "cell_type": "code",
   "execution_count": 28,
   "metadata": {},
   "outputs": [],
   "source": [
    "def tweedie_loss(p, q, pow=1.5, eps=np.exp(-100)):\n",
    "\n",
    "    p = p + eps\n",
    "    q = q + eps \n",
    "\n",
    "    loss = -p * np.power(q, 1 - pow) / (1 - pow) + np.power(q, 2 - pow) / (2 - pow)\n",
    "    return np.mean(loss)"
   ]
  },
  {
   "cell_type": "code",
   "execution_count": 29,
   "metadata": {},
   "outputs": [],
   "source": [
    "def robust_kl_divergence(p, q, eps=np.exp(-100)):\n",
    "\n",
    "    p = p + eps\n",
    "    q = q + eps\n",
    "\n",
    "    return np.sum(p * np.log(p / q))"
   ]
  },
  {
   "cell_type": "code",
   "execution_count": 30,
   "metadata": {},
   "outputs": [],
   "source": [
    "def jeffreys_divergence(p, q, eps=np.exp(-100)):\n",
    "\n",
    "    p = p + eps\n",
    "    q = q + eps\n",
    "\n",
    "    return 0.5 * np.sum((p - q) * np.log(p / q))"
   ]
  },
  {
   "cell_type": "code",
   "execution_count": 31,
   "metadata": {},
   "outputs": [],
   "source": [
    "def jenson_shannon_divergence(p, q, eps=np.exp(-100)):\n",
    "\n",
    "    p = p + eps\n",
    "    q = q + eps\n",
    "\n",
    "    m = 0.5 * (p + q)\n",
    "\n",
    "    return 0.5 * np.sum(p * np.log(p / m) + q * np.log(q / m))"
   ]
  },
  {
   "cell_type": "code",
   "execution_count": 32,
   "metadata": {},
   "outputs": [],
   "source": [
    "def gini_coefficient_cdf(p, q, eps=np.exp(-100)):\n",
    "    # Sort the values in ascending order\n",
    "    sorted_values_p = np.sort(p + eps)\n",
    "    sorted_values_q = np.sort(q + eps)\n",
    "    \n",
    "    # Calculate the cumulative distribution functions (CDFs)\n",
    "    cdf_p = np.cumsum(sorted_values_p) / np.sum(sorted_values_p)\n",
    "    cdf_q = np.cumsum(sorted_values_q) / np.sum(sorted_values_q)\n",
    "    \n",
    "    # Calculate the Gini coefficient based on CDFs\n",
    "    gini_coefficient_p = 1 - 2 * np.sum(cdf_p) / len(cdf_p)\n",
    "    gini_coefficient_q = 1 - 2 * np.sum(cdf_q) / len(cdf_q)\n",
    "    \n",
    "    # Calculate the absolute difference of Gini coefficients\n",
    "    gini_difference = np.abs(gini_coefficient_p - gini_coefficient_q)\n",
    "    \n",
    "    return gini_difference"
   ]
  },
  {
   "cell_type": "code",
   "execution_count": 33,
   "metadata": {},
   "outputs": [],
   "source": [
    "def jaccard_similarity(p, q, eps=np.exp(-100)):\n",
    "\n",
    "    intersection_size = len(p.intersection(q))\n",
    "    union_size = len(p.union(q))\n",
    "\n",
    "    if union_size == 0:\n",
    "        return 0.0  # Handle the case where both sets are empty\n",
    "\n",
    "    jaccard_coefficient = intersection_size / union_size\n",
    "    return jaccard_coefficient"
   ]
  },
  {
   "cell_type": "code",
   "execution_count": 34,
   "metadata": {},
   "outputs": [],
   "source": [
    "def bhattacharyya_distance(p, q, eps=np.exp(-100)):\n",
    "\n",
    "    p = p + eps\n",
    "    q = q + eps\n",
    "\n",
    "    # Ensure both distributions have the same length\n",
    "    assert len(p) == len(q)\n",
    "    # Calculate the Bhattacharyya coefficient\n",
    "    bhattacharyya_coefficient = np.sum(np.sqrt(p * q))\n",
    "\n",
    "    # Calculate the Bhattacharyya Distance\n",
    "    bhattacharyya_dist = -np.log(bhattacharyya_coefficient)\n",
    "\n",
    "    return bhattacharyya_dist"
   ]
  },
  {
   "cell_type": "code",
   "execution_count": 35,
   "metadata": {},
   "outputs": [],
   "source": [
    "def hellinger_distance(p, q, eps=np.exp(-100)):\n",
    "\n",
    "    p = p + eps\n",
    "    q = q + eps\n",
    "\n",
    "    # Ensure both distributions have the same length\n",
    "    assert len(p) == len(q), \"Input distributions must have the same length.\"\n",
    "\n",
    "    # Calculate the Hellinger Distance\n",
    "    hellinger_dist = np.sqrt(0.5 * np.sum((np.sqrt(p) - np.sqrt(q))**2))\n",
    "\n",
    "    return hellinger_dist"
   ]
  },
  {
   "cell_type": "code",
   "execution_count": 36,
   "metadata": {},
   "outputs": [],
   "source": [
    "from scipy.optimize import linear_sum_assignment\n",
    "\n",
    "def earth_movers_distance(p, q):\n",
    "    \"\"\"\n",
    "    Compute Earth Mover's Distance between two probability distributions.\n",
    "\n",
    "    Parameters:\n",
    "    - p, q: 1D NumPy arrays representing probability distributions.\n",
    "\n",
    "    Returns:\n",
    "    - emd: Earth Mover's Distance between p and q.\n",
    "    \"\"\"\n",
    "    # Ensure both distributions have the same length\n",
    "    assert len(p) == len(q), \"Input distributions must have the same length.\"\n",
    "\n",
    "    # Calculate the cost matrix\n",
    "    cost_matrix = np.abs(np.subtract.outer(p, q))\n",
    "\n",
    "    # Solve the linear sum assignment problem (minimum cost bipartite matching)\n",
    "    row_indices, col_indices = linear_sum_assignment(cost_matrix)\n",
    "\n",
    "    # Calculate the Earth Mover's Distance\n",
    "    emd = cost_matrix[row_indices, col_indices].sum()\n",
    "\n",
    "    return emd"
   ]
  },
  {
   "cell_type": "code",
   "execution_count": 37,
   "metadata": {},
   "outputs": [],
   "source": [
    "def sinkhorn_distance(p, q, epsilon=1e-3, max_iters=100):\n",
    "    \"\"\"\n",
    "    Compute Sinkhorn distance approximation between two probability distributions.\n",
    "\n",
    "    Parameters:\n",
    "    - p, q: 1D NumPy arrays representing probability distributions.\n",
    "    - epsilon: Regularization parameter.\n",
    "    - max_iters: Maximum number of iterations for Sinkhorn-Knopp algorithm.\n",
    "\n",
    "    Returns:\n",
    "    - sinkhorn_dist: Approximate Sinkhorn distance between p and q.\n",
    "    \"\"\"\n",
    "\n",
    "    p = p + np.exp(-100)\n",
    "    q = q + np.exp(-100)\n",
    "\n",
    "    # Ensure both distributions have the same length\n",
    "    assert len(p) == len(q), \"Input distributions must have the same length.\"\n",
    "\n",
    "    # Define the cost matrix\n",
    "    cost_matrix = np.abs(np.subtract.outer(p, q))\n",
    "\n",
    "    # Sinkhorn-Knopp algorithm\n",
    "    K = np.exp(-cost_matrix / epsilon)\n",
    "    a = np.ones_like(p)\n",
    "    b = np.ones_like(q)\n",
    "\n",
    "    for _ in range(max_iters):\n",
    "        # Update dual variables\n",
    "        u = a / K.sum(axis=1)\n",
    "        v = b / (K.T).sum(axis=1)\n",
    "\n",
    "        # Update primal variables\n",
    "        K = np.exp(np.log(K) - epsilon * (u[:, None] + v[None, :]))\n",
    "\n",
    "    # Calculate Sinkhorn distance\n",
    "    sinkhorn_dist = np.sum(u[:, None] * K * v[None, :])\n",
    "\n",
    "    return sinkhorn_dist"
   ]
  },
  {
   "cell_type": "code",
   "execution_count": 38,
   "metadata": {},
   "outputs": [],
   "source": [
    "def cosine_similarity(vector1, vector2):\n",
    "    \"\"\"\n",
    "    Calculate the cosine similarity between two vectors.\n",
    "\n",
    "    Parameters:\n",
    "    - vector1, vector2: 1D NumPy arrays representing vectors.\n",
    "\n",
    "    Returns:\n",
    "    - cosine_similarity: Cosine similarity between the two vectors.\n",
    "    \"\"\"\n",
    "    dot_product = np.dot(vector1, vector2)\n",
    "    norm_vector1 = np.linalg.norm(vector1)\n",
    "    norm_vector2 = np.linalg.norm(vector2)\n",
    "\n",
    "    if norm_vector1 == 0 or norm_vector2 == 0:\n",
    "        return 0.0  # Handle the case where one or both vectors are zero vectors\n",
    "\n",
    "    cosine_similarity = dot_product / (norm_vector1 * norm_vector2)\n",
    "    return cosine_similarity"
   ]
  },
  {
   "cell_type": "code",
   "execution_count": 39,
   "metadata": {},
   "outputs": [],
   "source": [
    "def zero_inflated_distribution(num_data_points = 10000):\n",
    "\n",
    "    data = np.zeros(num_data_points)\n",
    "\n",
    "    # add non-zero data points\n",
    "    num_non_zero = int(num_data_points * 0.5)\n",
    "    non_zero_indices = np.random.choice(num_data_points, num_non_zero, replace=False)\n",
    "\n",
    "    # add 0.1% +1000 values\n",
    "    num_1000 = int(num_data_points * 0.001)\n",
    "    indices_1000 = np.random.choice(num_data_points, num_1000, replace=False)\n",
    "\n",
    "    # complie the data\n",
    "    data[non_zero_indices] = np.random.randint(1, 100, num_non_zero)\n",
    "    data[indices_1000]= np.random.randint(100, 10000, num_1000)\n",
    "\n",
    "    return data\n",
    "    "
   ]
  },
  {
   "cell_type": "code",
   "execution_count": 40,
   "metadata": {},
   "outputs": [
    {
     "data": {
      "image/png": "[encoded data removed]",
      "text/plain": [
       "<Figure size 1000x600 with 1 Axes>"
      ]
     },
     "metadata": {},
     "output_type": "display_data"
    },
    {
     "data": {
      "image/png": "[encoded data removed]",
      "text/plain": [
       "<Figure size 1000x600 with 1 Axes>"
      ]
     },
     "metadata": {},
     "output_type": "display_data"
    },
    {
     "data": {
      "image/png": "[encoded data removed]",
      "text/plain": [
       "<Figure size 1000x600 with 1 Axes>"
      ]
     },
     "metadata": {},
     "output_type": "display_data"
    }
   ],
   "source": [
    "# Parameters\n",
    "num_data_points = 100\n",
    "dense_percentage = 0.95\n",
    "sparse_percentage_step = 0.01\n",
    "\n",
    "# Initialize lists to store results\n",
    "sparsity_levels = []\n",
    "mse_values = []\n",
    "kl_values = []\n",
    "j_values = []\n",
    "js_values = []\n",
    "w_values = []\n",
    "t_values = []\n",
    "g_values = []\n",
    "e_values = []\n",
    "s_values = []\n",
    "jc_values = []\n",
    "c_values = []\n",
    "h_values = []\n",
    "b_values = []\n",
    "\n",
    "data_p = zero_inflated_distribution(num_data_points=num_data_points)\n",
    "\n",
    "# Simulation loop\n",
    "for sparsity in np.arange(0.01, 1+sparse_percentage_step, sparse_percentage_step):\n",
    "    # Generate sparse set Q\n",
    "    data_q = data_p * sparsity #+ np.random.normal(0, 1, num_data_points)**2\n",
    "\n",
    "    # Calculate MSE\n",
    "    mse = np.mean((data_p - data_q)**2)\n",
    "    mse_values.append(mse)\n",
    "\n",
    "    # Calculate KL Divergence\n",
    "    kl_div = robust_kl_divergence(data_p, data_q)\n",
    "    kl_values.append(kl_div)\n",
    "\n",
    "    # Calculate J Divergence\n",
    "    j_div = jeffreys_divergence(data_p, data_q)\n",
    "    j_values.append(j_div)\n",
    "\n",
    "    # Calculate JS Divergence\n",
    "    js_div = jenson_shannon_divergence(data_p, data_q)\n",
    "    js_values.append(js_div)\n",
    "\n",
    "    # Calculate Wasserstein Distance\n",
    "    #w_dist = wasserstein_distance(np.arange(len(data_p)), np.arange(len(data_q)), data_p, data_q)\n",
    "    #w_dist = wasserstein_distance(data_p, data_q)\n",
    "    #w_values.append(w_dist)\n",
    "\n",
    "\n",
    "    # Calculate Tweedie Loss\n",
    "    t_loss = tweedie_loss(data_p, data_q, pow = 1.5)\n",
    "    t_values.append(t_loss)\n",
    "\n",
    "    # Calculate Gini Coefficient\n",
    "    #g_coeff = gini_coefficient_cdf(data_p, data_q)\n",
    "    #g_values.append(g_coeff)\n",
    "\n",
    "    # Calculate Earth Mover's Distance\n",
    "    #e_dist = earth_movers_distance(data_p, data_q)\n",
    "    #e_values.append(e_dist)\n",
    "\n",
    "\n",
    "    # Calculate Sinkhorn Distance\n",
    "    #s_dist = sinkhorn_distance(data_p, data_q)\n",
    "    #s_values.append(s_dist)\n",
    "\n",
    "    # Calculate Jaccard Similarity\n",
    "    jc_sim = jaccard_similarity(set(data_p), set(data_q))\n",
    "    jc_values.append(jc_sim)\n",
    "\n",
    "    # Calculate Cosine Similarity\n",
    "    c_sim = cosine_similarity(data_p, data_q)\n",
    "    c_values.append(c_sim)\n",
    "\n",
    "    # Calculate Hellinger Distance\n",
    "    h_dist = hellinger_distance(data_p, data_q)\n",
    "    h_values.append(h_dist)\n",
    "\n",
    "    # Calculate Bhattacharyya Distance\n",
    "    b_dist = bhattacharyya_distance(data_p, data_q)\n",
    "    b_values.append(b_dist)\n",
    "\n",
    "\n",
    "    # Save sparsity level for plotting\n",
    "    sparsity_levels.append(sparsity)\n",
    "\n",
    "# Plotting\n",
    "import matplotlib.pyplot as plt\n",
    "\n",
    "\n",
    "plt.figure(figsize=(10, 6))\n",
    "plt.plot(sparsity_levels, np.array(mse_values), label='MSE')\n",
    "plt.plot(sparsity_levels, np.array(kl_values), label='KL Divergence')\n",
    "plt.plot(sparsity_levels, np.array(j_values), label='Jeffreys Divergence')\n",
    "plt.plot(sparsity_levels, np.array(js_values), label='Jenson-Shannon Divergence')\n",
    "#plt.plot(sparsity_levels, np.array(w_values), label='Wasserstein Distance')\n",
    "plt.plot(sparsity_levels, np.array(t_values), label='Tweedie Loss')\n",
    "#plt.plot(sparsity_levels, np.array(g_values), label='Gini Coefficient')\n",
    "#plt.plot(sparsity_levels, np.array(e_values), label='Earth Mover\\'s Distance')\n",
    "#plt.plot(sparsity_levels, np.array(s_values), label='Sinkhorn Distance')\n",
    "#plt.plot(sparsity_levels, np.array(jc_values), label='Jaccard Similarity')\n",
    "#plt.plot(sparsity_levels, np.array(c_values), label='Cosine Similarity')\n",
    "#plt.plot(sparsity_levels, np.array(h_values), label='Hellinger Distance')\n",
    "#plt.plot(sparsity_levels, np.array(b_values), label='Bhattacharyya Distance')\n",
    "\n",
    "plt.xlabel('Sparsity Level of Set Q')\n",
    "plt.ylabel('Metric Value')\n",
    "plt.title('Behavior of \"distance\" with Increasing Sparsity')\n",
    "plt.legend()\n",
    "plt.show()\n",
    "\n",
    "\n",
    "plt.figure(figsize=(10, 6))\n",
    "plt.plot(sparsity_levels, np.log(np.array(mse_values)+1), label='MSE, logged')\n",
    "plt.plot(sparsity_levels, np.log(np.array(kl_values)+1), label='KL Divergence, logged')\n",
    "plt.plot(sparsity_levels, np.log(np.array(j_values)+1), label='Jeffreys Divergence, logged')\n",
    "plt.plot(sparsity_levels, np.log(np.array(js_values)+1), label='Jenson-Shannon Divergence, logged')\n",
    "#plt.plot(sparsity_levels, np.log(np.array(w_values)+1), label='Wasserstein Distance, logged')\n",
    "plt.plot(sparsity_levels, np.log(np.array(t_values)+1), label='Tweedie Loss, logged')\n",
    "#plt.plot(sparsity_levels, np.log(np.array(g_values)+1), label='Gini Coefficient, logged')\n",
    "#plt.plot(sparsity_levels, np.log(np.array(e_values)+1), label='Earth Mover\\'s Distance, logged')\n",
    "#plt.plot(sparsity_levels, np.log(np.array(s_values)+1), label='Sinkhorn Distance, logged')\n",
    "#plt.plot(sparsity_levels, np.log(np.array(jc_values)+1), label='Jaccard Similarity, logged')\n",
    "#plt.plot(sparsity_levels, np.log(np.array(c_values)+1), label='Cosine Similarity, logged')\n",
    "#plt.plot(sparsity_levels, np.log(np.array(h_values)+1), label='Hellinger Distance, logged')\n",
    "#plt.plot(sparsity_levels, np.log(np.array(b_values)+1), label='Bhattacharyya Distance, logged')\n",
    "\n",
    "plt.xlabel('Sparsity Level of Set Q')\n",
    "plt.ylabel('Metric Value, logged')\n",
    "plt.title('Behavior of \"distance\" with Increasing Sparsity')\n",
    "plt.legend()\n",
    "plt.show()\n",
    "\n",
    "\n",
    "plt.figure(figsize=(10, 6))\n",
    "plt.plot(sparsity_levels, (np.array(mse_values)-np.array(mse_values).mean())/np.array(mse_values).std(), label='MSE, normalised')\n",
    "plt.plot(sparsity_levels, (np.array(kl_values)-np.array(kl_values).mean())/np.array(kl_values).std(), label='KL Divergence, normalised')\n",
    "plt.plot(sparsity_levels, (np.array(j_values)-np.array(j_values).mean())/np.array(j_values).std(), label='Jeffreys Divergence, normalised')\n",
    "plt.plot(sparsity_levels, (np.array(js_values)-np.array(js_values).mean())/np.array(js_values).std(), label='Jenson-Shannon Divergence, normalised')\n",
    "#plt.plot(sparsity_levels, (np.array(w_values)-np.array(w_values).mean())/np.array(w_values).std(), label='Wasserstein Distance, normalised')\n",
    "plt.plot(sparsity_levels, (np.array(t_values)-np.array(t_values).mean())/np.array(t_values).std(), label='Tweedie Loss, normalised')\n",
    "#plt.plot(sparsity_levels, (np.array(g_values)-np.array(g_values).mean())/np.array(g_values).std(), label='Gini Coefficient, normalised')\n",
    "#plt.plot(sparsity_levels, (np.array(e_values)-np.array(e_values).mean())/np.array(e_values).std(), label='Earth Mover\\'s Distance, normalised')\n",
    "#plt.plot(sparsity_levels, (np.array(s_values)-np.array(s_values).mean())/np.array(s_values).std(), label='Sinkhorn Distance, normalised')\n",
    "#plt.plot(sparsity_levels, (np.array(jc_values)-np.array(jc_values).mean())/np.array(jc_values).std(), label='Jaccard Similarity, normalised')  \n",
    "#plt.plot(sparsity_levels, (np.array(c_values)-np.array(c_values).mean())/np.array(c_values).std(), label='Cosine Similarity, normalised')\n",
    "#plt.plot(sparsity_levels, (np.array(h_values)-np.array(h_values).mean())/np.array(h_values).std(), label='Hellinger Distance, normalised')\n",
    "#plt.plot(sparsity_levels, (np.array(b_values)-np.array(b_values).mean())/np.array(b_values).std(), label='Bhattacharyya Distance, normalised')\n",
    "\n",
    "plt.xlabel('Sparsity Level of Set Q')\n",
    "plt.ylabel('Metric Value, normalised')\n",
    "plt.title('Behavior of \"distance\" with Increasing Sparsity')\n",
    "plt.legend()\n",
    "\n",
    "plt.show()"
   ]
  },
  {
   "cell_type": "code",
   "execution_count": 74,
   "metadata": {},
   "outputs": [
    {
     "name": "stderr",
     "output_type": "stream",
     "text": [
      "/tmp/ipykernel_3607/1020537388.py:6: RuntimeWarning: invalid value encountered in divide\n",
      "  return 0.5 * np.sum((p - q) * np.log(p / q))\n",
      "/tmp/ipykernel_3607/1020537388.py:6: RuntimeWarning: divide by zero encountered in divide\n",
      "  return 0.5 * np.sum((p - q) * np.log(p / q))\n"
     ]
    },
    {
     "data": {
      "image/png": "[encoded data removed]",
      "text/plain": [
       "<Figure size 1000x600 with 1 Axes>"
      ]
     },
     "metadata": {},
     "output_type": "display_data"
    },
    {
     "data": {
      "image/png": "[encoded data removed]",
      "text/plain": [
       "<Figure size 1000x600 with 1 Axes>"
      ]
     },
     "metadata": {},
     "output_type": "display_data"
    },
    {
     "data": {
      "image/png": "[encoded data removed]",
      "text/plain": [
       "<Figure size 1000x600 with 1 Axes>"
      ]
     },
     "metadata": {},
     "output_type": "display_data"
    }
   ],
   "source": [
    "num_data_points = 1000000\n",
    "event_size = 1000\n",
    "\n",
    "data_p = np.zeros(num_data_points)\n",
    "num_extreme_events = 50\n",
    "\n",
    "extreme_indices = np.random.choice(num_data_points, num_extreme_events, replace=False)\n",
    "data_p[extreme_indices] = event_size\n",
    "\n",
    "data_p = np.random.permutation(data_p)\n",
    "\n",
    "num_pred_events = []\n",
    "\n",
    "mse_values = []\n",
    "kl_values = []\n",
    "j_values = []\n",
    "js_values = []\n",
    "w_values = []\n",
    "t_values = []\n",
    "\n",
    "# Simulate predictions\n",
    "for i in range(num_extreme_events + 1):\n",
    "\n",
    "    # copy array\n",
    "    data_q = data_p.copy()\n",
    "\n",
    "    # censor i number of extreme events\n",
    "    censored_indices = np.random.choice(np.where(data_q == event_size)[0], i, replace=False)\n",
    "    data_q[censored_indices] = 0\n",
    "\n",
    "    # Calculate MSE\n",
    "    mse = np.mean((data_p - data_q)**2)\n",
    "    mse_values.append(mse)\n",
    "\n",
    "    # Calculate KL Divergence\n",
    "    kl_div = robust_kl_divergence(data_p, data_q)\n",
    "    kl_values.append(kl_div)\n",
    "\n",
    "    # Calculate J Divergence\n",
    "    j_div = jeffreys_divergence(data_p, data_q)\n",
    "    j_values.append(j_div)\n",
    "\n",
    "    # Calculate JS Divergence\n",
    "    js_div = jenson_shannon_divergence(data_p, data_q)\n",
    "    js_values.append(js_div)\n",
    "\n",
    "    # Calculate Wasserstein Distance\n",
    "    #w_dist = wasserstein_distance(np.arange(len(data_p)), np.arange(len(data_q)), data_p, data_q)\n",
    "    #w_values.append(w_dist)\n",
    "\n",
    "    # Calculate Tweedie Loss\n",
    "    t_loss = tweedie_loss(data_p, data_q, pow = 1.5)\n",
    "    t_values.append(t_loss)\n",
    "\n",
    "    # Save number of predicted events\n",
    "    num_pred_events.append(i)\n",
    "\n",
    "# Plotting\n",
    "plt.figure(figsize=(10, 6))\n",
    "plt.plot(num_pred_events, np.array(mse_values), label='MSE')\n",
    "plt.plot(num_pred_events, np.array(kl_values), label='KL Divergence')\n",
    "plt.plot(num_pred_events, np.array(j_values), label='Jeffreys Divergence')\n",
    "plt.plot(num_pred_events, np.array(js_values), label='Jenson-Shannon Divergence')\n",
    "#plt.plot(num_pred_events, np.array(w_values), label='Wasserstein Distance')\n",
    "\n",
    "plt.xlabel('Number of consored Events')\n",
    "plt.ylabel('Metric Value')\n",
    "\n",
    "plt.legend()\n",
    "plt.show()\n",
    "\n",
    "\n",
    "plt.figure(figsize=(10, 6))\n",
    "plt.plot(num_pred_events, np.log(np.array(mse_values)+1), label='MSE, logged')\n",
    "plt.plot(num_pred_events, np.log(np.array(kl_values)+1), label='KL Divergence, logged')\n",
    "plt.plot(num_pred_events, np.log(np.array(j_values)+1), label='Jeffreys Divergence, logged')\n",
    "plt.plot(num_pred_events, np.log(np.array(js_values)+1), label='Jenson-Shannon Divergence, logged')\n",
    "#plt.plot(num_pred_events, np.log(np.array(w_values)+1), label='Wasserstein Distance, logged')\n",
    "\n",
    "plt.xlabel('Number of censored Events')\n",
    "plt.ylabel('Metric Value, logged')\n",
    "\n",
    "plt.legend()\n",
    "plt.show()\n",
    "\n",
    "plt.figure(figsize=(10, 6))\n",
    "plt.plot(num_pred_events, (np.array(mse_values)-np.array(mse_values).mean())/np.array(mse_values).std(), label='MSE, normalised')\n",
    "plt.plot(num_pred_events, (np.array(kl_values)-np.array(kl_values).mean())/np.array(kl_values).std(), label='KL Divergence, normalised')\n",
    "plt.plot(num_pred_events, (np.array(j_values)-np.array(j_values).mean())/np.array(j_values).std(), label='Jeffreys Divergence, normalised')\n",
    "plt.plot(num_pred_events, (np.array(js_values)-np.array(js_values).mean())/np.array(js_values).std(), label='Jenson-Shannon Divergence, normalised')\n",
    "#plt.plot(num_pred_events, (np.array(w_values)-np.array(w_values).mean())/np.array(w_values).std(), label='Wasserstein Distance, normalised')\n",
    "plt.plot(num_pred_events, (np.array(t_values)-np.array(t_values).mean())/np.array(t_values).std(), label='Tweedie Loss, normalised')\n",
    "\n",
    "\n",
    "plt.xlabel('Number of censored Events')\n",
    "plt.ylabel('Metric Value, normalised')\n",
    "\n",
    "plt.legend()\n",
    "plt.show()\n",
    "    \n"
   ]
  },
  {
   "cell_type": "code",
   "execution_count": 75,
   "metadata": {},
   "outputs": [
    {
     "name": "stderr",
     "output_type": "stream",
     "text": [
      "/tmp/ipykernel_3607/1020537388.py:6: RuntimeWarning: invalid value encountered in divide\n",
      "  return 0.5 * np.sum((p - q) * np.log(p / q))\n",
      "/tmp/ipykernel_3607/1020537388.py:6: RuntimeWarning: divide by zero encountered in log\n",
      "  return 0.5 * np.sum((p - q) * np.log(p / q))\n"
     ]
    },
    {
     "data": {
      "image/png": "[encoded data removed]",
      "text/plain": [
       "<Figure size 1000x600 with 1 Axes>"
      ]
     },
     "metadata": {},
     "output_type": "display_data"
    },
    {
     "data": {
      "image/png": "[encoded data removed]",
      "text/plain": [
       "<Figure size 1000x600 with 1 Axes>"
      ]
     },
     "metadata": {},
     "output_type": "display_data"
    },
    {
     "data": {
      "image/png": "[encoded data removed]",
      "text/plain": [
       "<Figure size 1000x600 with 1 Axes>"
      ]
     },
     "metadata": {},
     "output_type": "display_data"
    }
   ],
   "source": [
    "num_data_points = 100000\n",
    "event_size = 10000\n",
    "\n",
    "data_p = np.zeros(num_data_points)\n",
    "num_extreme_events = 1\n",
    "\n",
    "num_false_positives = 10\n",
    "\n",
    "extreme_indices = np.random.choice(num_data_points, num_extreme_events, replace=False)\n",
    "data_p[extreme_indices] = event_size\n",
    "\n",
    "data_p = np.random.permutation(data_p)\n",
    "\n",
    "num_pred_events = []\n",
    "\n",
    "mse_values = []\n",
    "kl_values = []\n",
    "j_values = []\n",
    "js_values = []\n",
    "w_values = []\n",
    "t_values = []\n",
    "\n",
    "# Simulate predictions\n",
    "for i in range(num_false_positives + 1):\n",
    "\n",
    "    # copy array\n",
    "    data_q = data_p.copy()\n",
    "\n",
    "    # predict i number of false positives extreme events\n",
    "    fp_indices = np.random.choice(np.where(data_q == 0)[0], i, replace=False)\n",
    "    data_q[fp_indices] = event_size\n",
    "\n",
    "    # Calculate MSE\n",
    "    mse = np.mean((data_p - data_q)**2)\n",
    "    mse_values.append(mse)\n",
    "\n",
    "    # Calculate KL Divergence\n",
    "    kl_div = robust_kl_divergence(data_p, data_q)\n",
    "    kl_values.append(kl_div)\n",
    "\n",
    "    # Calculate J Divergence\n",
    "    j_div = jeffreys_divergence(data_p, data_q)\n",
    "    j_values.append(j_div)\n",
    "\n",
    "    # Calculate JS Divergence\n",
    "    js_div = jenson_shannon_divergence(data_p, data_q)\n",
    "    js_values.append(js_div)\n",
    "\n",
    "    # calculate wasserstein distance\n",
    "    #w_dist = wasserstein_distance(np.arange(len(data_p)), np.arange(len(data_q)), data_p, data_q)\n",
    "    #w_values.append(w_dist)\n",
    "\n",
    "    # Calculate Tweedie Loss\n",
    "    t_loss = tweedie_loss(data_p, data_q, pow = 1.5)\n",
    "    t_values.append(t_loss)\n",
    "\n",
    "    # Save number of predicted events\n",
    "    num_pred_events.append(i)\n",
    "\n",
    "# Plotting\n",
    "plt.figure(figsize=(10, 6))\n",
    "plt.plot(num_pred_events, np.array(mse_values), label='MSE')\n",
    "plt.plot(num_pred_events, np.array(kl_values), label='KL Divergence')\n",
    "plt.plot(num_pred_events, np.array(j_values), label='Jeffreys Divergence')\n",
    "plt.plot(num_pred_events, np.array(js_values), label='Jenson-Shannon Divergence')\n",
    "#plt.plot(num_pred_events, np.array(w_values), label='Wasserstein Distance')\n",
    "plt.plot(num_pred_events, np.array(t_values), label='Tweedie Loss')\n",
    "\n",
    "plt.xlabel('Number of false positive Events')\n",
    "plt.ylabel('Metric Value')\n",
    "\n",
    "plt.legend()\n",
    "plt.show()\n",
    "\n",
    "\n",
    "plt.figure(figsize=(10, 6))\n",
    "plt.plot(num_pred_events, np.log(np.array(mse_values)+1), label='MSE, logged')\n",
    "plt.plot(num_pred_events, np.log(np.array(kl_values)+1), label='KL Divergence, logged')\n",
    "plt.plot(num_pred_events, np.log(np.array(j_values)+1), label='Jeffreys Divergence, logged')\n",
    "plt.plot(num_pred_events, np.log(np.array(js_values)+1), label='Jenson-Shannon Divergence, logged')\n",
    "# plt.plot(num_pred_events, np.log(np.array(w_values)+1), label='Wasserstein Distance, logged')\n",
    "plt.plot(num_pred_events, np.log(np.array(t_values)+1), label='Tweedie Loss, logged')\n",
    "\n",
    "plt.xlabel('Number of false positive Events')\n",
    "plt.ylabel('Metric Value, logged')\n",
    "\n",
    "plt.legend()\n",
    "plt.show()\n",
    "\n",
    "plt.figure(figsize=(10, 6))\n",
    "plt.plot(num_pred_events, (np.array(mse_values)-np.array(mse_values).mean())/np.array(mse_values).std(), label='MSE, normalised')\n",
    "plt.plot(num_pred_events, (np.array(kl_values)-np.array(kl_values).mean())/np.array(kl_values).std(), label='KL Divergence, normalised')\n",
    "plt.plot(num_pred_events, (np.array(j_values)-np.array(j_values).mean())/np.array(j_values).std(), label='Jeffreys Divergence, normalised')\n",
    "plt.plot(num_pred_events, (np.array(js_values)-np.array(js_values).mean())/np.array(js_values).std(), label='Jenson-Shannon Divergence, normalised')\n",
    "#plt.plot(num_pred_events, (np.array(w_values)-np.array(w_values).mean())/np.array(w_values).std(), label='Wasserstein Distance, normalised')\n",
    "plt.plot(num_pred_events, (np.array(t_values)-np.array(t_values).mean())/np.array(t_values).std(), label='Tweedie Loss, normalised')\n",
    "\n",
    "plt.xlabel('Number of false positive Events')\n",
    "plt.ylabel('Metric Value, normalised')\n",
    "\n",
    "plt.legend()\n",
    "plt.show()\n"
   ]
  },
  {
   "cell_type": "code",
   "execution_count": 40,
   "metadata": {},
   "outputs": [
    {
     "name": "stdout",
     "output_type": "stream",
     "text": [
      "Jefferys: 0.0\n",
      "tweedie: 0.4\n",
      "MSE: 0.0\n",
      "EMD:0\n",
      "\n",
      "\n",
      "Jefferys: 29.71158395021031\n",
      "tweedie: 0.6046669094406771\n",
      "MSE: 0.026000000000000002\n",
      "EMD: 0.6\n",
      "\n",
      "\n",
      "Jefferys: 49.82671320486001\n",
      "tweedie: 0.7071067811865476\n",
      "MSE: 0.075\n",
      "EMD: 1.5\n",
      "\n",
      "\n",
      "Jefferys: 99.65342640972003\n",
      "tweedie: 1.0369411057174145e+21\n",
      "MSE: 0.15\n",
      "EMD: 1.0\n"
     ]
    }
   ],
   "source": [
    "data_p = np.array([0, 0, 0, 0, 0, 0, 0, 0, 1, 0])\n",
    "data_q0 = np.array([0, 0, 0, 0, 0, 0, 0, 0, 1, 0])\n",
    "data_q1 = np.array([0, 0, 0, 0, 0, 0, 0, 0.1, 1, 0.5])\n",
    "data_q2 = np.array([0, 0, 0, 0, 0, 0, 0, 0.5, 0.5, 0.5])\n",
    "data_q3 = np.array([0, 0, 0, 0, 0, 0, 0, 0.5, 0, 0.5])\n",
    "\n",
    "print(f'Jefferys: {jeffreys_divergence(data_p, data_q0)}')\n",
    "print(f'tweedie: {tweedie_loss(data_p, data_q0, pow=1.5)}')\n",
    "print(f'MSE: {np.mean((data_p - data_q0)**2)}')\n",
    "print(f'EMD:{earth_movers_distance(data_p, data_q0)}')\n",
    "\n",
    "print('\\n')\n",
    "\n",
    "print(f'Jefferys: {jeffreys_divergence(data_p, data_q1)}')\n",
    "print(f'tweedie: {tweedie_loss(data_p, data_q1, pow=1.5)}')\n",
    "print(f'MSE: {np.mean((data_p - data_q1)**2)}')\n",
    "print(f'EMD: {earth_movers_distance(data_p, data_q1)}')\n",
    "\n",
    "print('\\n')\n",
    "\n",
    "print(f'Jefferys: {jeffreys_divergence(data_p, data_q2)}')\n",
    "print(f'tweedie: {tweedie_loss(data_p, data_q2, pow=1.5)}')\n",
    "print(f'MSE: {np.mean((data_p - data_q2)**2)}')\n",
    "print(f'EMD: {earth_movers_distance(data_p, data_q2)}')\n",
    "\n",
    "print('\\n')\n",
    "\n",
    "print(f'Jefferys: {jeffreys_divergence(data_p, data_q3)}')\n",
    "print(f'tweedie: {tweedie_loss(data_p, data_q3, pow=1.5)}')\n",
    "print(f'MSE: {np.mean((data_p - data_q3)**2)}')\n",
    "print(f'EMD: {earth_movers_distance(data_p, data_q3)}')\n"
   ]
  },
  {
   "cell_type": "code",
   "execution_count": 51,
   "metadata": {},
   "outputs": [
    {
     "name": "stdout",
     "output_type": "stream",
     "text": [
      "Jefferys: 0.0\n",
      "tweedie: 1.2649110640673518\n",
      "MSE: 0.0\n",
      "\n",
      "\n",
      "Jefferys: 304.02359478108525\n",
      "tweedie: 1.91212465956731\n",
      "MSE: 2.6\n",
      "\n",
      "\n",
      "Jefferys: 509.78005751357034\n",
      "tweedie: 2.23606797749979\n",
      "MSE: 7.5\n"
     ]
    }
   ],
   "source": [
    "data_p = np.array([0, 0, 0, 0, 0, 0, 0, 0, 10, 0])\n",
    "\n",
    "data_q0 = np.array([0, 0, 0, 0, 0, 0, 0, 0, 10, 0])\n",
    "data_q1 = np.array([0, 0, 0, 0, 0, 0, 0, 1, 10, 5])\n",
    "data_q2 = np.array([0, 0, 0, 0, 0, 0, 0, 5, 5, 5])\n",
    "data_q3 = np.array([0, 0, 0, 0, 0, 0, 0, 5, 0, 5])\n",
    "\n",
    "print(f'Jefferys: {jeffreys_divergence(data_p, data_q0)}')\n",
    "print(f'tweedie: {tweedie_loss(data_p, data_q0, pow=1.5)}') \n",
    "print(f'MSE: {np.mean((data_p - data_q0)**2)}') \n",
    "\n",
    "print('\\n')\n",
    "\n",
    "print(f'Jefferys: {jeffreys_divergence(data_p, data_q1)}')  \n",
    "print(f'tweedie: {tweedie_loss(data_p, data_q1, pow=1.5)}') \n",
    "print(f'MSE: {np.mean((data_p - data_q1)**2)}') \n",
    "\n",
    "print('\\n')\n",
    "\n",
    "print(f'Jefferys: {jeffreys_divergence(data_p, data_q2)}')  \n",
    "print(f'tweedie: {tweedie_loss(data_p, data_q2, pow=1.5)}') \n",
    "print(f'MSE: {np.mean((data_p - data_q2)**2)}') \n"
   ]
  },
  {
   "cell_type": "code",
   "execution_count": 154,
   "metadata": {},
   "outputs": [
    {
     "name": "stdout",
     "output_type": "stream",
     "text": [
      "Target p: \t [  0   0   0   0   0   0   0   0 100   0]\n",
      "prediction q: \t [  0   0   0   0   0   0   0   0 100   0]\n",
      "Jefferys: 0.0\n",
      "Tweedie: 4.0\n",
      "MSE: 0.0\n",
      "hellinger: 0.0\n",
      "Bhattacharyya: -4.605170185988092\n",
      "\n",
      "\n",
      "Target p: \t [  0   0   0   0   0   0   0   0 100   0]\n",
      "prediction q: \t [ 0  0  0  0  0  0  0 50  0 50]\n",
      "Jefferys: 10425.859659570811\n",
      "Tweedie: 1.0369411057174144e+23\n",
      "MSE: 1500.0\n",
      "hellinger: 10.0\n",
      "Bhattacharyya: 46.81604131998641\n",
      "\n",
      "\n",
      "Target p: \t [  0   0   0   0   0   0   0   0 100   0]\n",
      "prediction q: \t [  0   0   0   0   0   0   0 100   0 100]\n",
      "Jefferys: 15690.775527898211\n",
      "Tweedie: 1.0369411057174144e+23\n",
      "MSE: 3000.0\n",
      "hellinger: 12.24744871391589\n",
      "Bhattacharyya: 46.59880261833784\n",
      "\n",
      "\n",
      "Target p: \t [  0   0   0   0   0   0   0   0 100   0]\n",
      "prediction q: \t [  0   0   0   0   0   0   0 100   0   0]\n",
      "Jefferys: 10460.517018598808\n",
      "Tweedie: 1.0369411057174144e+23\n",
      "MSE: 2000.0\n",
      "hellinger: 10.0\n",
      "Bhattacharyya: 47.00426772644601\n",
      "\n",
      "\n",
      "Target p: \t [  0   0   0   0   0   0   0   0 100   0]\n",
      "prediction q: \t [10 10 10 10 10 10 10 10 10 10]\n",
      "Jefferys: 4707.232658369464\n",
      "Tweedie: 12.649110640673516\n",
      "MSE: 900.0\n",
      "hellinger: 8.269052146305295\n",
      "Bhattacharyya: -3.4538776394910684\n",
      "\n",
      "\n",
      "Target p: \t [  0   0   0   0   0   0   0   0 100   0]\n",
      "prediction q: \t [0. 0. 0. 0. 0. 0. 0. 0. 0. 0.]\n",
      "Jefferys: 5230.258509299404\n",
      "Tweedie: 1.0369411057174144e+23\n",
      "MSE: 1000.0\n",
      "hellinger: 7.0710678118654755\n",
      "Bhattacharyya: 47.69741490700596\n"
     ]
    }
   ],
   "source": [
    "data_p =  np.array([0, 0, 0, 0, 0, 0, 0, 0, 100, 0])\n",
    "data_q0 = np.array([0, 0, 0, 0, 0, 0, 0, 0, 100, 0])\n",
    "data_q1 = np.array([0, 0, 0, 0, 0, 0, 0, 50, 0, 50])\n",
    "data_q2 = np.array([0, 0, 0, 0, 0, 0, 0, 100, 0, 100])\n",
    "data_q3 = np.array([0, 0, 0, 0, 0, 0, 0, 100, 0, 0])\n",
    "data_q4 = np.array([10, 10, 10, 10, 10, 10, 10, 10, 10, 10])\n",
    "data_q5 = np.array([0., 0, 0, 0, 0, 0, 0, 0, 0, 0])\n",
    "\n",
    "print(f'Target p: \\t {data_p}')\n",
    "print(f'prediction q: \\t {data_q0}')\n",
    "print(f'Jefferys: {jeffreys_divergence(data_p, data_q0)}')\n",
    "print(f'Tweedie: {tweedie_loss(data_p, data_q0, pow=1.5)}')\n",
    "print(f'MSE: {np.mean((data_p - data_q0)**2)}')\n",
    "print(f'hellinger: {hellinger_distance(data_p, data_q0)}')\n",
    "print(f'Bhattacharyya: {bhattacharyya_distance(data_p, data_q0)}')\n",
    "\n",
    "\n",
    "print('\\n')\n",
    "\n",
    "print(f'Target p: \\t {data_p}')\n",
    "print(f'prediction q: \\t {data_q1}')\n",
    "print(f'Jefferys: {jeffreys_divergence(data_p, data_q1)}')\n",
    "print(f'Tweedie: {tweedie_loss(data_p, data_q1, pow=1.5)}')\n",
    "print(f'MSE: {np.mean((data_p - data_q1)**2)}')\n",
    "print(f'hellinger: {hellinger_distance(data_p, data_q1)}')\n",
    "print(f'Bhattacharyya: {bhattacharyya_distance(data_p, data_q1)}')\n",
    "\n",
    "print('\\n')\n",
    "\n",
    "print(f'Target p: \\t {data_p}')\n",
    "print(f'prediction q: \\t {data_q2}')\n",
    "print(f'Jefferys: {jeffreys_divergence(data_p, data_q2)}')\n",
    "print(f'Tweedie: {tweedie_loss(data_p, data_q2, pow=1.5)}')\n",
    "print(f'MSE: {np.mean((data_p - data_q2)**2)}')\n",
    "print(f'hellinger: {hellinger_distance(data_p, data_q2)}')\n",
    "print(f'Bhattacharyya: {bhattacharyya_distance(data_p, data_q2)}')\n",
    "      \n",
    "print('\\n')\n",
    "\n",
    "print(f'Target p: \\t {data_p}')\n",
    "print(f'prediction q: \\t {data_q3}')\n",
    "print(f'Jefferys: {jeffreys_divergence(data_p, data_q3)}')\n",
    "print(f'Tweedie: {tweedie_loss(data_p, data_q3, pow=1.5)}')\n",
    "print(f'MSE: {np.mean((data_p - data_q3)**2)}')\n",
    "print(f'hellinger: {hellinger_distance(data_p, data_q3)}')\n",
    "print(f'Bhattacharyya: {bhattacharyya_distance(data_p, data_q3)}')\n",
    "\n",
    "print('\\n')\n",
    "\n",
    "print(f'Target p: \\t {data_p}')\n",
    "print(f'prediction q: \\t {data_q4}')\n",
    "print(f'Jefferys: {jeffreys_divergence(data_p, data_q4)}')\n",
    "print(f'Tweedie: {tweedie_loss(data_p, data_q4, pow=1.5)}')\n",
    "print(f'MSE: {np.mean((data_p - data_q4)**2)}')\n",
    "print(f'hellinger: {hellinger_distance(data_p, data_q4)}')\n",
    "print(f'Bhattacharyya: {bhattacharyya_distance(data_p, data_q4)}')\n",
    "\n",
    "print('\\n')\n",
    "\n",
    "print(f'Target p: \\t {data_p}')\n",
    "print(f'prediction q: \\t {data_q5}')\n",
    "print(f'Jefferys: {jeffreys_divergence(data_p, data_q5)}')\n",
    "print(f'Tweedie: {tweedie_loss(data_p, data_q5, pow=1.5)}')\n",
    "print(f'MSE: {np.mean((data_p - data_q5)**2)}')\n",
    "print(f'hellinger: {hellinger_distance(data_p, data_q5)}')\n",
    "print(f'Bhattacharyya: {bhattacharyya_distance(data_p, data_q5)}')\n"
   ]
  },
  {
   "cell_type": "code",
   "execution_count": null,
   "metadata": {},
   "outputs": [],
   "source": []
  },
  {
   "cell_type": "code",
   "execution_count": null,
   "metadata": {},
   "outputs": [],
   "source": []
  },
  {
   "cell_type": "code",
   "execution_count": 56,
   "metadata": {},
   "outputs": [
    {
     "data": {
      "text/plain": [
       "array([0., 0., 0., ..., 0., 0., 0.])"
      ]
     },
     "execution_count": 56,
     "metadata": {},
     "output_type": "execute_result"
    }
   ],
   "source": [
    "num_data_points = 100000\n",
    "event_size = 10\n",
    "\n",
    "data_p = np.zeros(num_data_points)\n",
    "num_extreme_events = 5\n",
    "\n",
    "extreme_indices = np.random.choice(num_data_points, num_extreme_events, replace=False)\n",
    "data_p[extreme_indices] = event_size\n",
    "\n",
    "data_p = np.random.permutation(data_p)\n",
    "data_p"
   ]
  },
  {
   "cell_type": "code",
   "execution_count": null,
   "metadata": {},
   "outputs": [],
   "source": []
  },
  {
   "cell_type": "code",
   "execution_count": null,
   "metadata": {},
   "outputs": [],
   "source": []
  },
  {
   "cell_type": "code",
   "execution_count": null,
   "metadata": {},
   "outputs": [],
   "source": []
  },
  {
   "cell_type": "code",
   "execution_count": null,
   "metadata": {},
   "outputs": [],
   "source": []
  },
  {
   "cell_type": "code",
   "execution_count": 2,
   "metadata": {},
   "outputs": [
    {
     "name": "stdout",
     "output_type": "stream",
     "text": [
      "tensor([[[216., 107., 132.,   2.,   6.,  66.,  40., 109.,  91., 150.],\n",
      "         [240.,  66.,   6., 167., 240., 168., 182., 102., 215.,  11.],\n",
      "         [  1., 210., 110., 133., 111.,   4., 138.,   1., 186., 171.],\n",
      "         [249.,  68., 117., 166.,  93., 199., 105.,  12.,   0.,  36.],\n",
      "         [ 87.,  37.,  92.,  59., 237., 119., 224.,  79.,   9., 210.],\n",
      "         [ 42.,  67., 164.,  37.,  95.,  67.,  22., 209., 161.,  18.],\n",
      "         [ 83., 207., 132., 178., 192., 132., 251.,  13.,  29.,  12.],\n",
      "         [170., 234.,  20.,  78.,  37.,  35.,   3.,  26., 186., 134.],\n",
      "         [ 61., 140.,  32.,  64.,  57., 172.,  54., 105., 155., 146.],\n",
      "         [233., 200., 221.,  97.,  40., 229., 157.,  26., 197., 134.]],\n",
      "\n",
      "        [[209.,  81., 255.,  54., 232., 187.,  50., 214., 140., 109.],\n",
      "         [218.,  32., 147.,  97., 140.,  24., 153.,  57., 179., 204.],\n",
      "         [118.,   5., 117.,  11., 169., 109., 122.,  14., 229., 104.],\n",
      "         [ 93.,   5.,  42.,  45., 120., 243., 246., 235.,  63., 162.],\n",
      "         [ 56., 103.,  52.,  99.,  58., 177., 240.,  19.,  51., 129.],\n",
      "         [224., 145.,  87., 145., 236.,  40.,  12., 218.,  39., 182.],\n",
      "         [197., 130., 229.,  92.,  75., 254., 236.,  63., 195.,  94.],\n",
      "         [101., 213.,  82., 176., 100., 162.,  72., 117., 143.,  45.],\n",
      "         [128., 125., 133., 111., 180., 237., 167.,  54., 115.,  64.],\n",
      "         [198., 187., 224., 231., 130.,  38.,  64., 115., 102., 195.]],\n",
      "\n",
      "        [[ 64.,  66., 157., 233., 213., 160., 142., 223., 183.,  87.],\n",
      "         [127.,  43.,  93., 118.,   0., 126.,   6.,   5., 239., 171.],\n",
      "         [231., 145.,   2., 184.,  98., 239., 130., 140., 169., 165.],\n",
      "         [ 67.,  48., 188.,  34.,  29., 230., 167.,  34.,  84.,  33.],\n",
      "         [ 25., 250., 218.,  69., 183.,   9., 169.,  56., 149.,  58.],\n",
      "         [198., 110., 168., 130., 204., 105., 110., 221., 234.,   1.],\n",
      "         [ 38.,  68., 206., 237., 142., 198., 235.,  51., 223., 164.],\n",
      "         [ 61., 248., 149., 245., 172., 126., 104.,  88.,  16.,  64.],\n",
      "         [ 25., 185., 141., 172.,  15., 105.,  39.,   9., 249.,  79.],\n",
      "         [ 81., 145., 173., 232.,  82.,  68., 245.,  67., 169., 192.]]],\n",
      "       dtype=torch.float64)\n",
      "tensor([[[ 18., 158., 170.,  52., 144., 243., 245.,  13., 117.,  59.],\n",
      "         [ 73., 167., 165., 157.,  27., 168., 111.,  78.,  88.,  72.],\n",
      "         [ 31., 217., 143., 192., 116.,  28., 158.,  34., 119.,  24.],\n",
      "         [ 23.,  82., 183.,  98.,  88., 216., 201., 145., 187., 183.],\n",
      "         [108., 172., 165., 150.,   6.,  85.,  66., 164.,  33., 230.],\n",
      "         [199., 255.,  22., 176., 163., 208., 242., 180., 144.,  47.],\n",
      "         [ 49., 103.,  96., 113., 242.,  62.,  35., 220., 177.,  22.],\n",
      "         [  6.,  57.,  42., 221., 144.,   8., 246., 230.,  39., 158.],\n",
      "         [191.,  92.,  35., 157., 230., 206.,  48.,  80.,  67.,  53.],\n",
      "         [ 37., 106., 206.,  53., 246., 146.,  53., 232., 246.,  57.]],\n",
      "\n",
      "        [[115., 138.,   9., 113.,  17., 208.,  34., 122.,  53., 144.],\n",
      "         [ 61.,  54., 220., 218., 105.,  88., 229.,  96., 169., 247.],\n",
      "         [118., 174., 158., 107., 203., 212., 181.,  14.,  32., 200.],\n",
      "         [238., 149., 232., 179.,  17., 180., 159., 246., 252.,  39.],\n",
      "         [181., 195., 110., 205., 140., 141.,  19., 172., 137.,  63.],\n",
      "         [ 86., 195., 169.,  68., 194., 233.,  40., 206.,  62., 110.],\n",
      "         [189., 255., 147., 116., 233., 216., 168., 131., 122.,  37.],\n",
      "         [ 62.,  24.,  82., 142., 173., 124., 153.,  99., 103.,   3.],\n",
      "         [148., 103., 209., 102., 184., 104.,  50., 235., 117.,  40.],\n",
      "         [155.,  59.,  96., 241.,  61., 112., 177.,  73., 163.,  13.]],\n",
      "\n",
      "        [[ 71., 216., 185., 176.,  25.,   4., 242., 230.,  37., 113.],\n",
      "         [128., 186.,  51., 223., 207., 193.,  66., 101.,  69.,  47.],\n",
      "         [ 20.,  97.,  32.,  25.,   2.,  15., 181.,  55., 185.,  48.],\n",
      "         [246., 245., 212.,  65., 235., 229., 224., 233., 169., 195.],\n",
      "         [228., 176., 253., 188., 181.,  90., 141., 198., 212., 148.],\n",
      "         [130.,  38., 213.,  58., 137., 111.,  93., 224., 107., 251.],\n",
      "         [ 97., 221., 107., 156., 251., 145., 103.,  38.,   2., 121.],\n",
      "         [ 42., 139., 143.,  41.,  13.,  58., 100., 223.,  59.,  83.],\n",
      "         [ 75., 250.,  25.,  48.,  82.,  72.,  98., 109., 179., 233.],\n",
      "         [214., 130.,   4.,  14.,  31., 188.,  71.,  53., 196., 148.]]])\n",
      "tensor([[[ 39., 158.,  42., 121., 234.,  13.,  59., 254., 154.,  69.],\n",
      "         [190., 205., 113., 187.,  84.,  87.,  77.,  15., 158., 238.],\n",
      "         [164., 221., 226.,  31.,  86., 113., 248., 125., 129.,  90.],\n",
      "         [185., 205., 233.,  66., 152., 210., 213.,   0., 167., 245.],\n",
      "         [172.,  39., 204., 121.,  41., 250., 143., 131., 115.,  31.],\n",
      "         [223., 118., 215., 184.,  29.,  34., 253.,  50., 152., 196.],\n",
      "         [145., 140.,  92., 223.,  53.,  39.,   2.,  34., 194., 165.],\n",
      "         [102., 175., 118.,   1., 121., 182., 199., 243.,  31., 145.],\n",
      "         [ 10., 177.,  72., 118., 127., 170., 102.,  18.,   6., 106.],\n",
      "         [ 91., 111.,  61.,  96., 148., 105., 211., 166.,  33., 225.]],\n",
      "\n",
      "        [[101., 244., 144., 215., 238., 141., 184., 195.,  64., 237.],\n",
      "         [ 32.,  98.,   9., 252., 170.,  68., 206., 176.,  25.,  16.],\n",
      "         [ 10., 146.,  33., 183., 211.,  64.,  77., 249.,  65.,  57.],\n",
      "         [ 70., 218.,  23., 171., 145.,  59., 242., 139., 183.,   7.],\n",
      "         [ 98., 166.,  74.,  68., 253.,   9.,   5.,  21.,  25.,  77.],\n",
      "         [244.,  71., 193.,  58., 101., 198.,  62., 106.,  97.,  79.],\n",
      "         [ 21.,  38.,  35., 215., 212., 226., 178., 247., 102., 206.],\n",
      "         [209., 111.,  51., 175.,  72.,  92., 156., 242.,  10., 124.],\n",
      "         [ 38., 114., 165.,  66., 211., 220., 218.,  80., 242.,   2.],\n",
      "         [145., 185., 230.,  42., 117.,  94.,  69., 107., 136.,  80.]],\n",
      "\n",
      "        [[169., 112.,  79., 248., 161.,   0.,  46., 177., 196.,  36.],\n",
      "         [ 46., 214., 140., 129., 191., 134., 109., 200., 164., 124.],\n",
      "         [ 99.,  79.,  96., 232., 144., 142., 116., 153., 216., 160.],\n",
      "         [235., 160., 245.,   4.,  53.,   5., 211.,  70., 166., 113.],\n",
      "         [178.,  32., 171., 100.,   4., 249., 110., 128.,  43., 202.],\n",
      "         [246., 176., 172., 206., 105.,  52.,  71., 134., 147., 115.],\n",
      "         [238., 165.,  55., 206., 139.,   1., 255., 116.,  10., 117.],\n",
      "         [140., 172.,  78.,   5., 248., 144.,  26., 101., 126.,  28.],\n",
      "         [ 10., 178.,  13., 229.,  70., 196., 113.,  63., 165.,  86.],\n",
      "         [197.,   3., 116., 133., 252., 169., 195.,  37., 146., 113.]]],\n",
      "       dtype=torch.float16)\n",
      "tensor([[[176.+0.j, 212.+0.j, 181.+0.j, 240.+0.j,  14.+0.j,  81.+0.j,  57.+0.j, 114.+0.j,\n",
      "          220.+0.j, 198.+0.j],\n",
      "         [ 44.+0.j, 197.+0.j,   0.+0.j, 168.+0.j,  40.+0.j, 174.+0.j, 138.+0.j, 253.+0.j,\n",
      "          106.+0.j, 240.+0.j],\n",
      "         [  4.+0.j,  56.+0.j, 118.+0.j, 241.+0.j, 243.+0.j, 252.+0.j, 247.+0.j, 126.+0.j,\n",
      "          153.+0.j, 190.+0.j],\n",
      "         [217.+0.j,   7.+0.j, 201.+0.j,   4.+0.j, 181.+0.j,  55.+0.j,  93.+0.j,  75.+0.j,\n",
      "          100.+0.j,  27.+0.j],\n",
      "         [ 50.+0.j,  30.+0.j, 215.+0.j, 175.+0.j,  99.+0.j,   5.+0.j, 132.+0.j, 244.+0.j,\n",
      "           23.+0.j, 222.+0.j],\n",
      "         [252.+0.j,  94.+0.j, 143.+0.j, 135.+0.j,   8.+0.j, 225.+0.j,  63.+0.j, 155.+0.j,\n",
      "          110.+0.j, 131.+0.j],\n",
      "         [111.+0.j, 120.+0.j, 239.+0.j,  90.+0.j, 169.+0.j,  15.+0.j, 240.+0.j, 187.+0.j,\n",
      "            8.+0.j, 204.+0.j],\n",
      "         [ 34.+0.j,  55.+0.j,  27.+0.j,  22.+0.j,  91.+0.j, 233.+0.j, 143.+0.j,  68.+0.j,\n",
      "          212.+0.j, 251.+0.j],\n",
      "         [238.+0.j, 183.+0.j, 153.+0.j, 144.+0.j,  93.+0.j, 206.+0.j, 189.+0.j,  33.+0.j,\n",
      "          228.+0.j, 132.+0.j],\n",
      "         [ 24.+0.j, 152.+0.j, 253.+0.j, 253.+0.j, 100.+0.j, 132.+0.j,  51.+0.j,  44.+0.j,\n",
      "           70.+0.j, 109.+0.j]],\n",
      "\n",
      "        [[165.+0.j, 192.+0.j, 137.+0.j,  72.+0.j,  39.+0.j, 149.+0.j, 109.+0.j,  36.+0.j,\n",
      "            7.+0.j,  49.+0.j],\n",
      "         [166.+0.j,  76.+0.j, 235.+0.j, 100.+0.j,  77.+0.j,  59.+0.j,  84.+0.j,  39.+0.j,\n",
      "           92.+0.j, 103.+0.j],\n",
      "         [ 63.+0.j, 188.+0.j, 137.+0.j,  92.+0.j, 253.+0.j,  62.+0.j,  96.+0.j, 183.+0.j,\n",
      "          224.+0.j, 200.+0.j],\n",
      "         [155.+0.j, 133.+0.j, 203.+0.j,   2.+0.j, 195.+0.j, 188.+0.j,  27.+0.j, 169.+0.j,\n",
      "          202.+0.j, 205.+0.j],\n",
      "         [131.+0.j, 212.+0.j, 189.+0.j,  88.+0.j, 246.+0.j,  68.+0.j,  11.+0.j, 137.+0.j,\n",
      "          136.+0.j,  89.+0.j],\n",
      "         [159.+0.j, 176.+0.j, 215.+0.j,  31.+0.j, 156.+0.j, 159.+0.j,  62.+0.j, 232.+0.j,\n",
      "          130.+0.j,  85.+0.j],\n",
      "         [252.+0.j, 215.+0.j,  86.+0.j,  56.+0.j, 173.+0.j, 102.+0.j, 178.+0.j, 104.+0.j,\n",
      "          222.+0.j, 234.+0.j],\n",
      "         [ 90.+0.j, 142.+0.j, 100.+0.j, 116.+0.j, 223.+0.j,  65.+0.j,  77.+0.j, 165.+0.j,\n",
      "           85.+0.j,  97.+0.j],\n",
      "         [  6.+0.j,  73.+0.j,  67.+0.j,   5.+0.j,  85.+0.j, 167.+0.j, 230.+0.j,  49.+0.j,\n",
      "          148.+0.j, 161.+0.j],\n",
      "         [ 44.+0.j, 218.+0.j,  40.+0.j, 181.+0.j, 138.+0.j, 136.+0.j,  84.+0.j,  64.+0.j,\n",
      "          208.+0.j,  32.+0.j]],\n",
      "\n",
      "        [[199.+0.j,  50.+0.j, 127.+0.j,  12.+0.j, 139.+0.j, 243.+0.j, 206.+0.j,  12.+0.j,\n",
      "          153.+0.j, 144.+0.j],\n",
      "         [ 78.+0.j, 192.+0.j, 132.+0.j, 105.+0.j, 213.+0.j, 252.+0.j,  86.+0.j,  16.+0.j,\n",
      "           64.+0.j, 145.+0.j],\n",
      "         [191.+0.j,  30.+0.j, 160.+0.j,  20.+0.j,  98.+0.j,  25.+0.j, 236.+0.j, 161.+0.j,\n",
      "           80.+0.j, 181.+0.j],\n",
      "         [ 45.+0.j,  28.+0.j, 137.+0.j, 213.+0.j, 208.+0.j, 214.+0.j,   2.+0.j,  54.+0.j,\n",
      "           79.+0.j, 187.+0.j],\n",
      "         [219.+0.j, 172.+0.j, 135.+0.j,  42.+0.j,  16.+0.j, 139.+0.j, 131.+0.j,   9.+0.j,\n",
      "          200.+0.j, 156.+0.j],\n",
      "         [ 61.+0.j, 180.+0.j,  27.+0.j, 110.+0.j,  96.+0.j,  81.+0.j,  33.+0.j, 217.+0.j,\n",
      "          247.+0.j,  57.+0.j],\n",
      "         [ 94.+0.j,  48.+0.j, 104.+0.j, 152.+0.j, 154.+0.j, 207.+0.j, 230.+0.j, 122.+0.j,\n",
      "          224.+0.j, 181.+0.j],\n",
      "         [187.+0.j,  27.+0.j, 109.+0.j,  74.+0.j,  51.+0.j, 153.+0.j,  90.+0.j,  61.+0.j,\n",
      "           32.+0.j, 185.+0.j],\n",
      "         [211.+0.j,  97.+0.j,  61.+0.j, 216.+0.j,   7.+0.j, 231.+0.j,  22.+0.j, 172.+0.j,\n",
      "          183.+0.j, 163.+0.j],\n",
      "         [ 22.+0.j, 169.+0.j, 180.+0.j, 215.+0.j,  45.+0.j, 100.+0.j,  19.+0.j, 160.+0.j,\n",
      "           67.+0.j, 242.+0.j]]])\n",
      "tensor([[[ 68.+0.j, 214.+0.j,  67.+0.j, 208.+0.j,  19.+0.j,  96.+0.j, 235.+0.j,  30.+0.j,\n",
      "           38.+0.j,  53.+0.j],\n",
      "         [113.+0.j, 149.+0.j,  54.+0.j,  59.+0.j, 197.+0.j, 234.+0.j, 104.+0.j, 252.+0.j,\n",
      "           95.+0.j, 194.+0.j],\n",
      "         [ 12.+0.j, 228.+0.j,  51.+0.j,  92.+0.j,  52.+0.j, 162.+0.j, 174.+0.j, 176.+0.j,\n",
      "          146.+0.j,  69.+0.j],\n",
      "         [135.+0.j, 165.+0.j,  48.+0.j,  98.+0.j,  84.+0.j, 237.+0.j,  45.+0.j, 242.+0.j,\n",
      "          105.+0.j, 250.+0.j],\n",
      "         [156.+0.j,  36.+0.j,  95.+0.j,  25.+0.j, 142.+0.j, 175.+0.j, 229.+0.j, 131.+0.j,\n",
      "          107.+0.j, 204.+0.j],\n",
      "         [101.+0.j, 160.+0.j, 119.+0.j, 161.+0.j, 160.+0.j,  97.+0.j, 108.+0.j,  49.+0.j,\n",
      "           15.+0.j, 148.+0.j],\n",
      "         [134.+0.j, 168.+0.j, 211.+0.j, 238.+0.j, 116.+0.j, 192.+0.j, 193.+0.j, 155.+0.j,\n",
      "          167.+0.j, 124.+0.j],\n",
      "         [ 10.+0.j,  85.+0.j,  18.+0.j, 125.+0.j, 175.+0.j, 142.+0.j, 252.+0.j, 147.+0.j,\n",
      "          142.+0.j, 229.+0.j],\n",
      "         [235.+0.j, 237.+0.j,  84.+0.j, 170.+0.j, 145.+0.j, 158.+0.j, 127.+0.j, 116.+0.j,\n",
      "          216.+0.j,  53.+0.j],\n",
      "         [141.+0.j,  35.+0.j,   6.+0.j, 165.+0.j,   4.+0.j, 122.+0.j, 114.+0.j,  79.+0.j,\n",
      "          185.+0.j,  59.+0.j]],\n",
      "\n",
      "        [[161.+0.j, 238.+0.j,  47.+0.j, 185.+0.j,  95.+0.j, 174.+0.j,  47.+0.j,   9.+0.j,\n",
      "          246.+0.j,  69.+0.j],\n",
      "         [192.+0.j, 204.+0.j,  20.+0.j, 138.+0.j, 108.+0.j, 117.+0.j,  18.+0.j, 137.+0.j,\n",
      "          230.+0.j, 146.+0.j],\n",
      "         [165.+0.j,  23.+0.j, 185.+0.j, 241.+0.j, 175.+0.j, 225.+0.j, 167.+0.j,  57.+0.j,\n",
      "           18.+0.j, 225.+0.j],\n",
      "         [ 45.+0.j, 127.+0.j, 179.+0.j, 245.+0.j, 221.+0.j,  14.+0.j, 121.+0.j,   9.+0.j,\n",
      "           24.+0.j,  73.+0.j],\n",
      "         [161.+0.j, 119.+0.j, 166.+0.j,  61.+0.j, 217.+0.j, 185.+0.j,  14.+0.j, 246.+0.j,\n",
      "           34.+0.j, 136.+0.j],\n",
      "         [  9.+0.j, 194.+0.j, 201.+0.j, 181.+0.j, 156.+0.j, 241.+0.j, 219.+0.j,  46.+0.j,\n",
      "           90.+0.j, 172.+0.j],\n",
      "         [ 39.+0.j, 244.+0.j, 160.+0.j, 109.+0.j, 104.+0.j, 126.+0.j,  40.+0.j, 169.+0.j,\n",
      "          211.+0.j, 157.+0.j],\n",
      "         [213.+0.j,  49.+0.j,  46.+0.j, 229.+0.j,  58.+0.j,  36.+0.j,   8.+0.j,  77.+0.j,\n",
      "            5.+0.j,  84.+0.j],\n",
      "         [ 93.+0.j, 237.+0.j, 158.+0.j,  96.+0.j, 136.+0.j, 239.+0.j,  79.+0.j,  51.+0.j,\n",
      "          145.+0.j,  69.+0.j],\n",
      "         [129.+0.j,  45.+0.j, 184.+0.j, 170.+0.j,  77.+0.j, 160.+0.j, 216.+0.j,  43.+0.j,\n",
      "           45.+0.j, 117.+0.j]],\n",
      "\n",
      "        [[ 52.+0.j, 225.+0.j, 126.+0.j,   3.+0.j,  38.+0.j,  68.+0.j, 231.+0.j, 108.+0.j,\n",
      "           23.+0.j, 191.+0.j],\n",
      "         [108.+0.j,  21.+0.j,  97.+0.j,  60.+0.j,  69.+0.j, 180.+0.j, 179.+0.j,  71.+0.j,\n",
      "          160.+0.j, 208.+0.j],\n",
      "         [ 29.+0.j, 142.+0.j, 250.+0.j,  77.+0.j,  31.+0.j, 111.+0.j,  42.+0.j,  65.+0.j,\n",
      "           12.+0.j,  39.+0.j],\n",
      "         [ 16.+0.j,  26.+0.j, 105.+0.j, 161.+0.j,  76.+0.j, 229.+0.j, 233.+0.j, 186.+0.j,\n",
      "           71.+0.j,  60.+0.j],\n",
      "         [184.+0.j,  89.+0.j, 145.+0.j,  24.+0.j, 231.+0.j, 105.+0.j, 127.+0.j, 150.+0.j,\n",
      "          128.+0.j,  48.+0.j],\n",
      "         [150.+0.j,  28.+0.j, 168.+0.j,  90.+0.j,  52.+0.j, 241.+0.j, 173.+0.j, 125.+0.j,\n",
      "          108.+0.j,  91.+0.j],\n",
      "         [224.+0.j, 239.+0.j,  65.+0.j, 226.+0.j,  17.+0.j, 107.+0.j,  44.+0.j,  41.+0.j,\n",
      "           52.+0.j, 144.+0.j],\n",
      "         [ 93.+0.j, 108.+0.j,  11.+0.j,  95.+0.j, 228.+0.j, 110.+0.j, 221.+0.j,  24.+0.j,\n",
      "          141.+0.j,  58.+0.j],\n",
      "         [ 81.+0.j, 188.+0.j, 169.+0.j,  29.+0.j, 207.+0.j,  80.+0.j, 238.+0.j, 241.+0.j,\n",
      "          181.+0.j, 212.+0.j],\n",
      "         [165.+0.j, 182.+0.j,  48.+0.j, 119.+0.j, 146.+0.j,  94.+0.j, 204.+0.j, 186.+0.j,\n",
      "          234.+0.j,  31.+0.j]]], dtype=torch.complex128)\n",
      "tensor([[[229, 251,  99, 161, 216, 127, 117, 187,  56, 194],\n",
      "         [ 29, 194, 203,  42, 108, 116, 110,  81,   7,  74],\n",
      "         [ 70,  44, 127,   8, 151,  38, 110,   4, 153,  49],\n",
      "         [221,  53,  96,   9, 214, 101, 246, 123, 147,  11],\n",
      "         [245, 216,  14, 169,  40, 203, 201, 235,  12, 126],\n",
      "         [ 45, 201, 179,  20, 119,  26, 133, 156, 121,  64],\n",
      "         [ 89, 146, 174,  70,  70, 110, 118, 174,  50, 125],\n",
      "         [173, 132,  54,  37, 228,  70, 193, 127, 153,  50],\n",
      "         [175,   7, 222, 209, 232,  49, 125, 156, 255, 253],\n",
      "         [ 88,  43, 197,  86,   0,  99, 243, 228, 195, 136]],\n",
      "\n",
      "        [[222, 149,  83, 105, 129,  75, 220,  93, 123,  70],\n",
      "         [ 83, 126, 202,  88, 234,  29, 134, 187, 133, 126],\n",
      "         [ 26, 171, 184, 143, 215,  93,  39, 208,  52,  92],\n",
      "         [ 84,  78, 194, 180, 178,  48, 113, 186, 237,  52],\n",
      "         [248,  17, 172,   5, 239, 239,  98, 100, 203,  68],\n",
      "         [ 17, 222, 207,   9, 245, 142,  95, 161,   6, 130],\n",
      "         [ 29,  37,  25,  50,  47, 114, 210,  66, 226,  65],\n",
      "         [252, 113,  49,  28, 168,  29, 227, 200,  86, 250],\n",
      "         [119,  19, 200, 255,  57,  20, 167,   5, 253,  21],\n",
      "         [195,  15,  30, 187, 138, 151, 178, 226,  27,  41]],\n",
      "\n",
      "        [[182, 176, 233,  49,  62, 111, 227,   5, 113, 234],\n",
      "         [110, 229, 170,  78,  51, 102,  98, 211, 105,  49],\n",
      "         [ 37, 175,  80, 115, 173,  83, 117, 102,  23,  93],\n",
      "         [209,   0, 214,  87, 242, 150,   4,  31, 114, 211],\n",
      "         [167,  54, 103,   6,   3, 215, 199, 233,  52, 232],\n",
      "         [151,   7,  19, 240, 188, 205, 190,  31, 147, 110],\n",
      "         [220,  81, 204, 119,  29, 103, 241,  59, 229, 151],\n",
      "         [219,  16, 236, 238,  53,  21, 251, 100,  12,   3],\n",
      "         [223, 233, 128,  75, 131,  69,  40, 131, 170,  17],\n",
      "         [228, 105,  75,  39, 227, 229, 233, 251, 157, 168]]])\n",
      "tensor([[[243,  18, 222, 216, 176, 237,  92,  13, 109,  32],\n",
      "         [134, 190,  31, 147, 219,  13, 186, 147,  28,  58],\n",
      "         [ 26, 109,  22, 160, 150,  24, 224, 226, 184, 234],\n",
      "         [144,  49, 170, 212, 214,   5,  48, 149,  46, 183],\n",
      "         [199,  88,  88, 107, 180, 150,  26, 211, 109, 112],\n",
      "         [ 50, 124,  12, 212, 247, 112,  79, 111, 227,  74],\n",
      "         [ 38, 142, 243,  95,  23,  34, 144, 100, 106, 211],\n",
      "         [199,  41,  57, 229, 160, 183, 130,   6,  96,  48],\n",
      "         [ 43, 206, 157, 136, 167,   1, 177, 250, 158, 190],\n",
      "         [ 79,  91, 114, 193, 170,  71, 155, 106, 159, 117]],\n",
      "\n",
      "        [[180,  72,  53, 181,  28, 188, 237, 192, 224, 151],\n",
      "         [103, 195,  81, 251,  40, 127, 214,  61, 142, 129],\n",
      "         [141, 213,  74, 238, 118,  57, 192,  48, 210, 179],\n",
      "         [159,  12,   7, 180, 153, 166,  14,  87, 214, 230],\n",
      "         [226, 235,  49, 156, 247, 198, 210, 146, 205,  11],\n",
      "         [190,   5,  18, 101, 170,  80,  30, 213, 161, 213],\n",
      "         [ 61, 124, 163,  70, 245,  21,  29, 248,  83, 184],\n",
      "         [196, 172,   7,  23, 146,  97, 230, 203,  46,  28],\n",
      "         [199, 218, 203,  38, 200,  78,  27,  82,  60, 202],\n",
      "         [ 58, 152,  91,  96,   7, 162,  59,  17, 134,  88]],\n",
      "\n",
      "        [[198, 206, 214,  30, 147, 204,  66,  31,  34, 154],\n",
      "         [204, 175, 205, 226,  84, 126,  69, 239, 229, 176],\n",
      "         [110,  66, 138, 253,  63,  14,  14, 161,  19, 135],\n",
      "         [131, 211, 163, 182, 182, 108, 242, 225,  77,  40],\n",
      "         [ 46, 167, 228, 187, 132, 203, 141,  23, 213, 224],\n",
      "         [ 58, 167, 163, 137, 101,  27, 104,  56,   2, 176],\n",
      "         [161, 236, 129,  40,  93, 150, 215, 105,  89, 177],\n",
      "         [ 12, 193, 251,  47,  29,  94, 245, 252,  39, 181],\n",
      "         [210,  14,  50,  19,  38, 240,  59,  93,  15, 213],\n",
      "         [ 84, 116,  74,  12,  25,  84, 218, 148, 183,  50]]],\n",
      "       dtype=torch.int32)\n",
      "tensor([[[ 74, 224, 230, 178, 164, 174,  62, 209, 119,   4],\n",
      "         [ 50, 247, 146, 121, 183,  47, 126,  61,  12,  76],\n",
      "         [175, 233, 190, 224,  68, 113, 165, 127, 226,  83],\n",
      "         [167, 113, 180,  91, 195,  11,  25,  13, 102, 235],\n",
      "         [197,  64,  61, 108, 173, 151, 108,  51,  31,  45],\n",
      "         [180, 185,   1, 115, 172, 118, 157,  63,  97,  86],\n",
      "         [234,   0, 104, 209, 206,  15, 154,  92, 103, 137],\n",
      "         [165, 134,  26, 169, 154, 115,  83, 192, 184, 152],\n",
      "         [ 97, 131,  53, 197, 102, 181,  77,  48, 188, 195],\n",
      "         [ 37, 183, 204,  54,  50,  12, 175,  54, 204, 115]],\n",
      "\n",
      "        [[ 45, 137, 128, 104, 249, 187, 182,  17,  13, 177],\n",
      "         [ 52, 238, 247,  37,  17, 136,   4, 237, 105, 222],\n",
      "         [ 11, 108, 133, 101,  64,   3, 232, 128, 108, 150],\n",
      "         [ 65, 240,   1,  30, 226,  24, 115, 123,  97, 158],\n",
      "         [149, 187,  31, 143, 131, 151, 155, 201,  95,  68],\n",
      "         [171, 234,   4,  64, 219, 203, 190,  65,  64, 170],\n",
      "         [204, 236, 249,  89,   1, 162,   4, 184, 246, 164],\n",
      "         [135,  98, 245,  25,  44,  15,  19, 196,  50, 190],\n",
      "         [124, 251, 250, 133,  61,  46, 145, 208,  92, 151],\n",
      "         [ 60, 146,  70, 212,  79, 206, 233,  91, 223, 199]],\n",
      "\n",
      "        [[178,  65, 250, 134, 206, 200, 104, 196, 115, 182],\n",
      "         [231,  67,   8, 103, 181, 135, 235, 123, 120,  31],\n",
      "         [220, 250, 159,  82, 168, 152, 130, 119, 197, 224],\n",
      "         [245,  63, 198, 112,  32,  54,  38, 193, 252, 171],\n",
      "         [201, 187,  15, 172, 117, 235, 157, 183, 156,  47],\n",
      "         [ 51, 150, 193,  57, 251, 112, 235, 176,  51, 251],\n",
      "         [148, 149, 110, 132, 227, 249, 134, 235, 129, 179],\n",
      "         [240, 238, 219,  12, 203, 123, 203,  66,  67,  90],\n",
      "         [143,  76,  90, 151, 105, 108, 108, 224, 252,  15],\n",
      "         [ 34, 170, 104, 148, 134, 241,  68, 240, 236,  62]]],\n",
      "       dtype=torch.int16)\n",
      "tensor([[[  76,  -52,  -52, -102,  121, -103,  -57,  113,  -49,  117],\n",
      "         [  59,   24,  -19,  -41,  -94,  -69,    6,  -10,  -27,   68],\n",
      "         [ -52,  -98, -117,  108,  -40,   45,  109,  101, -128,   16],\n",
      "         [-113,  -88,  -31,  -34,   63, -115,  -55,   91,  -23,  -42],\n",
      "         [  48,   63,  -21,   12,  116,  -25,  -34,   41,   72,   49],\n",
      "         [ -80,   -7,  111,  -80,   41,  120,   54,  -90,  -12,  -37],\n",
      "         [ -72,  -54,   90, -116,  -75,  -60,  -77,   36,  -49,  -74],\n",
      "         [ 107,   98,   58,   62,  -81,  -47,    6,  -86,   20,   64],\n",
      "         [-110,  -49,   34,   20,  -80,   57,   53,  -17,   80,  108],\n",
      "         [ -41,   77,  -44,  -39, -116,  -84,   61,  116,   47,  -52]],\n",
      "\n",
      "        [[  41, -126,   19,  -11,   31, -124,  122, -118,   82,  -86],\n",
      "         [-104, -103,   60,  117,   50,   87,   38,   50,   62,   38],\n",
      "         [  22,   51,  -42,  108,  -54,   83,  121,   -4,  -62,  -48],\n",
      "         [-124,   65,  -12,   99,  -77,   92,  -29,   25,  -35,  116],\n",
      "         [ -55,   88,  -59,    1,  -90,  109,   17,  -33,   76,  -59],\n",
      "         [ -62,   16,  -36,  -24,  -29, -113,    6,  -81,   80,    6],\n",
      "         [ 123,  107,  -61,   21,  -54,  -31,  105,  -95,  -19,  -26],\n",
      "         [ -85, -126,    6,   52, -109,  103,  -94, -107,  -33,   12],\n",
      "         [-108,   49,   90,   72,   52, -105, -100,   21,   60,  116],\n",
      "         [-123,    6,  110,  127,   34,  -84,  -30,  -45,  -94, -120]],\n",
      "\n",
      "        [[-127,  -33,    0,  -34,   13,  -74,  -39, -110,  -27,  -58],\n",
      "         [   4,  127,   38,  -27, -111,   -8, -103,  107,  -39,  106],\n",
      "         [ -91,   18,  121,  125,   46,  -41,  -24, -119, -128,  -85],\n",
      "         [-105,  112, -118,  -95,  102,  114,  -77, -107,    0,  -54],\n",
      "         [ -42, -110,  -45,  -47,    4,   63,  -78,    2, -108,  -55],\n",
      "         [ -70,  -86,   24,  108, -109,   25,  -25,   58,   42,  -87],\n",
      "         [ -95,  -96,   83,   77,  100,   69, -110,  -37,   54,  -77],\n",
      "         [  42,   97,   32,   29,  -18,  -64,   97,  -48,  126,   19],\n",
      "         [  68, -115,   -1,  -34,   85,   58,   13,   30,   37,   17],\n",
      "         [ 111, -103,  -64,   70,  -95,  -14,    3,  -99,  119,  -14]]],\n",
      "       dtype=torch.int8)\n",
      "tensor([[[0.3098, 0.1922, 0.4627, 0.9294, 0.1882, 0.1059, 0.2510, 0.4392,\n",
      "          0.3373, 0.0353],\n",
      "         [0.9686, 0.5451, 0.4863, 0.5922, 0.2078, 0.8471, 0.2078, 0.4078,\n",
      "          0.9608, 0.4706],\n",
      "         [0.8471, 0.5373, 0.4784, 0.9961, 0.4157, 0.2275, 0.9451, 0.1216,\n",
      "          0.3686, 0.2078],\n",
      "         [0.5765, 0.2118, 0.4902, 0.2824, 0.6078, 0.5961, 0.6235, 0.0745,\n",
      "          0.0392, 0.4706],\n",
      "         [0.4902, 0.4078, 0.7451, 0.5647, 0.4196, 0.2824, 0.5725, 0.9333,\n",
      "          0.1765, 0.3373],\n",
      "         [0.8510, 0.6745, 0.9176, 0.8510, 0.6667, 0.1176, 1.0000, 0.6392,\n",
      "          0.4784, 0.8784],\n",
      "         [0.3255, 0.3804, 0.4902, 0.5922, 0.2431, 0.3176, 0.3059, 0.7765,\n",
      "          0.0941, 0.6353],\n",
      "         [0.7098, 0.5961, 0.0078, 0.8627, 0.5137, 0.7804, 0.8784, 0.1412,\n",
      "          0.6980, 0.9333],\n",
      "         [0.5137, 0.9333, 0.7608, 0.3373, 0.7529, 0.6863, 0.7843, 0.3529,\n",
      "          0.8392, 0.5765],\n",
      "         [0.2157, 0.9686, 0.4627, 0.2275, 0.6078, 0.9020, 0.3961, 0.1647,\n",
      "          0.1961, 0.9922]],\n",
      "\n",
      "        [[0.7804, 0.8706, 0.3412, 0.3412, 0.0078, 0.0471, 0.4196, 0.9882,\n",
      "          0.6510, 0.3608],\n",
      "         [0.3020, 0.7647, 0.1333, 0.4745, 0.4157, 0.1647, 0.8510, 0.6275,\n",
      "          0.8941, 0.0431],\n",
      "         [0.9373, 0.5216, 0.4627, 0.7333, 0.0941, 0.6745, 0.7843, 0.1059,\n",
      "          0.4118, 0.9216],\n",
      "         [0.6902, 0.8275, 0.4235, 0.9529, 0.5412, 0.4235, 0.0314, 0.3804,\n",
      "          0.8392, 0.7098],\n",
      "         [0.3608, 0.8235, 0.4392, 0.8392, 0.9412, 0.3373, 0.0235, 0.8667,\n",
      "          0.2588, 0.6706],\n",
      "         [0.7804, 0.3765, 0.5255, 0.0863, 0.7333, 0.7686, 0.1882, 0.6314,\n",
      "          0.0784, 0.2392],\n",
      "         [0.6706, 0.2039, 0.1961, 0.9608, 0.7333, 0.5333, 0.4745, 0.9255,\n",
      "          0.4118, 0.4431],\n",
      "         [0.0627, 0.2078, 0.8392, 0.1843, 0.0980, 0.1098, 0.6980, 0.6392,\n",
      "          0.8784, 0.6431],\n",
      "         [0.4941, 0.4784, 0.9098, 0.1020, 0.9294, 0.0000, 0.4980, 0.1059,\n",
      "          0.6196, 0.0431],\n",
      "         [0.5804, 0.1843, 0.9725, 0.9529, 0.8863, 0.0784, 0.4667, 0.5922,\n",
      "          0.7490, 0.6627]],\n",
      "\n",
      "        [[0.2000, 0.5725, 0.9412, 0.6431, 0.8902, 0.4980, 0.5686, 0.3137,\n",
      "          0.3804, 0.2667],\n",
      "         [0.5686, 0.0549, 0.8627, 0.2784, 0.2431, 0.9529, 0.7137, 0.3922,\n",
      "          0.0784, 0.0392],\n",
      "         [0.7098, 0.7098, 0.7647, 0.2118, 0.9373, 0.0157, 0.4471, 0.7294,\n",
      "          0.3490, 0.9529],\n",
      "         [0.0353, 0.0275, 0.1765, 0.9569, 0.9255, 0.6275, 0.7647, 0.7059,\n",
      "          0.8314, 0.7176],\n",
      "         [0.8745, 0.6118, 0.4667, 0.9882, 0.3255, 0.3608, 0.9882, 0.8549,\n",
      "          0.6118, 0.3216],\n",
      "         [0.8980, 0.0353, 0.5686, 0.1725, 0.7765, 0.9686, 0.4980, 0.7569,\n",
      "          0.4118, 0.0275],\n",
      "         [0.7647, 0.9137, 0.8275, 0.0549, 0.8039, 0.0824, 0.2078, 0.5961,\n",
      "          0.1137, 0.2392],\n",
      "         [0.2549, 0.7569, 0.4980, 0.0824, 0.6471, 0.9176, 0.3961, 0.2824,\n",
      "          0.0392, 0.8706],\n",
      "         [0.7686, 0.1451, 0.4000, 0.2314, 0.1098, 0.1686, 0.0902, 0.2745,\n",
      "          0.4549, 0.3882],\n",
      "         [0.6510, 0.4196, 0.1451, 0.6902, 0.5608, 0.2314, 0.4353, 0.1725,\n",
      "          0.4980, 0.9216]]])\n"
     ]
    }
   ],
   "source": [
    "list_ = [np.float64, np.float32, np.float16, np.complex64, np.complex128, np.int64, np.int32, np.int16, np.int8, np.uint8]\n",
    "\n",
    "for i in list_:\n",
    "\n",
    "    array  = np.random.randint(0, 256, [10,10,3]).astype(i)\n",
    "    tensor = transforms.ToTensor()(array)\n",
    "    print(tensor)"
   ]
  },
  {
   "cell_type": "code",
   "execution_count": 13,
   "metadata": {},
   "outputs": [
    {
     "data": {
      "text/plain": [
       "tensor([[[ 95,  99, 225,  96,   5, 215, 175,  77, 208,  55],\n",
       "         [208,  45,  92, 166,  36, 192, 141, 205, 255,  19],\n",
       "         [229, 127, 241, 178, 110, 246,  53, 120, 234,  96],\n",
       "         [ 71, 203, 170, 231, 128,  66, 109,  52, 105, 228],\n",
       "         [ 98, 141, 136, 180,  14, 142,  71, 156, 145, 134],\n",
       "         [ 64,  14, 210, 188,  64, 217,  25, 184, 190,  37],\n",
       "         [109, 246,  39, 255, 124,  82, 118, 227,  78, 152],\n",
       "         [ 61, 161,   5,  74,  78,  61, 176, 139,  22,  17],\n",
       "         [219, 194, 125, 112, 134,  84, 180, 205, 196, 170],\n",
       "         [142,  50, 213, 208,   2, 134, 207, 143,  19,  27]],\n",
       "\n",
       "        [[213, 129, 164, 181, 129, 223, 124,  46, 212,  52],\n",
       "         [ 79,  78,   0, 199, 113, 131,  68, 127, 169, 210],\n",
       "         [ 14,  93, 194, 159,  79,  13, 232,  57,  87,  31],\n",
       "         [255, 104, 116, 167, 125,  91,  49, 126, 222, 214],\n",
       "         [232, 131,   0,  83,  83, 217, 182, 102,  79,  38],\n",
       "         [  4,  94,  69, 181, 175,  81, 219,  14,  97, 174],\n",
       "         [ 45, 200, 112, 189, 141, 143, 226, 162,  76,  68],\n",
       "         [ 58, 244, 181, 177, 161, 230, 149,  27, 177,   3],\n",
       "         [222, 185, 117, 118,  83,  16,  40, 115, 201, 102],\n",
       "         [ 66, 176, 245, 253, 118, 179, 179,  96, 101, 235]],\n",
       "\n",
       "        [[ 47, 134, 174,  99,  98,  26,  94,  27, 100,  82],\n",
       "         [229, 158, 203, 159, 193, 146, 109,  33, 242, 150],\n",
       "         [ 75,  56, 126, 117, 172,  18,  38, 101, 168,  89],\n",
       "         [ 12, 200, 202,  72,  96,  96, 225,   3,  95, 117],\n",
       "         [192,   0,  89, 244,  42,   8, 198, 143, 174, 241],\n",
       "         [ 89, 147, 120, 105, 140, 147, 193, 148, 171, 243],\n",
       "         [211, 227, 151, 160, 250, 191,  69,  26, 241, 149],\n",
       "         [ 49,   2,  35, 127,  28, 206,  17,  11, 204, 191],\n",
       "         [175, 109, 160,   3, 217,  97,  40,  45, 204, 171],\n",
       "         [238, 169, 255, 240,  81,  63, 229, 250, 132,  10]]])"
      ]
     },
     "execution_count": 13,
     "metadata": {},
     "output_type": "execute_result"
    }
   ],
   "source": [
    "array  = np.random.randint(0, 256, [10,10,3])\n",
    "transforms.ToTensor()(array)"
   ]
  },
  {
   "cell_type": "code",
   "execution_count": 4,
   "metadata": {},
   "outputs": [
    {
     "data": {
      "text/plain": [
       "tensor([[[ 37, 161, 146,  41, 107, 166, 113, 189, 234,  34],\n",
       "         [ 87,  30, 240,  93, 112,  49, 144,  16,  30, 223],\n",
       "         [228, 209, 178,  52,  56, 246, 206,  90, 234, 172],\n",
       "         [221, 112, 103, 117, 188, 211, 241, 238,  47,  68],\n",
       "         [ 90,  97,  14,  63,  22,  26,  37,  75, 133,  29],\n",
       "         [172, 229, 103,  14,  14, 251,  36, 187, 147, 156],\n",
       "         [ 26,  19, 224, 253, 233,  43,  73, 179,  87,  44],\n",
       "         [ 43, 224, 182, 105, 162,  13, 108, 234,  36, 243],\n",
       "         [  9,  57, 174, 219, 135,  36,  90, 125,   5, 233],\n",
       "         [193,  16, 221, 250, 214, 215,  49, 184,  36, 240]],\n",
       "\n",
       "        [[ 96,   8,  95, 244,  21, 214, 255, 219,  10,   0],\n",
       "         [108,  59,  27, 177, 141, 122, 150, 155, 199, 236],\n",
       "         [213, 186, 225, 113, 152, 221,  75, 157,  28, 206],\n",
       "         [249, 152,  32,   9, 218, 206, 195,  48,  30, 113],\n",
       "         [ 65, 159, 112,  19, 205,  63,  65, 250, 219, 174],\n",
       "         [ 38, 243,  67,  50, 127, 249,  90, 157, 193, 169],\n",
       "         [169, 158, 250,  20, 150, 117,   8, 253, 250, 237],\n",
       "         [216, 180, 146, 114, 173,  59,  52,  86,  83,  30],\n",
       "         [ 37, 106, 211, 199,  34, 134, 111, 142,  26,  55],\n",
       "         [118, 185, 222, 142, 251,  46,  14, 221, 119,  88]],\n",
       "\n",
       "        [[158, 159, 178, 128,  64, 180, 182,  20, 188,  76],\n",
       "         [146, 190, 117, 108,  10,  32, 209, 166, 157,  98],\n",
       "         [174, 119,  55,  62, 181,  17, 127, 130, 102, 211],\n",
       "         [180, 229,  12, 227,  53,   8,  35, 185, 165,  13],\n",
       "         [121,  75,  12, 157,  85, 234, 104, 215, 114, 134],\n",
       "         [123,  89,  13,  90, 231,  46, 132, 156, 200, 126],\n",
       "         [226, 246,  86, 251,  56, 172,  31,  72, 100, 166],\n",
       "         [ 57, 240,  34,   1, 251,  70, 251, 242,  60,   7],\n",
       "         [  4, 200,  30, 213,  56, 157, 135,   5,  38, 244],\n",
       "         [ 98, 219, 151, 162,  97, 227,  62, 226,  78, 130]]])"
      ]
     },
     "execution_count": 4,
     "metadata": {},
     "output_type": "execute_result"
    }
   ],
   "source": [
    "new_tensor = transforms.ToTensor()(array)\n",
    "new_tensor"
   ]
  },
  {
   "cell_type": "code",
   "execution_count": 5,
   "metadata": {},
   "outputs": [],
   "source": [
    "def terning(max, antal, exprmnt):\n",
    "\n",
    "    \"\"\"\n",
    "    Max er den højeste værdi terningen kan vise, dvs. ternings antal sider.\n",
    "    Antal er antallet af terninger der kastes.\n",
    "    Exprmnt er antallet af eksperimenter der udføres.\n",
    "    \"\"\"\n",
    "\n",
    "    result = np.random.randint(1, max+1, (antal, exprmnt))\n",
    "\n",
    "    return result"
   ]
  },
  {
   "cell_type": "code",
   "execution_count": 6,
   "metadata": {},
   "outputs": [],
   "source": [
    "sides = [4,6,8,10,12,20,100]\n",
    "\n",
    "dict = {}\n",
    "\n",
    "for s in sides:\n",
    "\n",
    "    t = terning(s, 3, 1000)\n",
    "    t_sum = np.sum(t, axis=0)\n",
    "\n",
    "    dict[s] = t_sum\n"
   ]
  },
  {
   "cell_type": "code",
   "execution_count": 7,
   "metadata": {},
   "outputs": [
    {
     "data": {
      "text/plain": [
       "array([20, 26, 22, 21, 30, 35, 38, 31, 45, 19, 25, 31, 40, 34, 29, 47, 36,\n",
       "       27, 38, 27, 44, 25, 36, 29, 20, 44, 47, 31, 28, 21, 36, 26, 54, 40,\n",
       "       40, 21, 17, 53, 25, 32, 33, 30, 32, 29, 25, 33, 33, 13, 34, 31, 25,\n",
       "       41, 31, 34, 41, 24, 20, 46, 25, 41, 31, 47, 25, 43, 36, 32, 41, 20,\n",
       "       33, 31, 33, 26, 44, 22, 28, 53, 47, 48, 35, 31, 37, 42, 38, 22, 25,\n",
       "       40, 17, 25, 37, 12, 24, 10, 36, 44, 17, 28, 49, 35, 13, 26, 34, 47,\n",
       "       16, 40, 37, 48, 49, 28, 32, 29, 32, 39, 20, 22, 25, 44,  6, 40, 39,\n",
       "       21, 42, 13, 28, 29, 17, 50, 25, 43, 46, 39, 15, 34, 33, 41, 15, 26,\n",
       "       42, 30, 15, 39, 28, 28, 19, 24, 10, 32, 24, 34, 59, 41, 34, 43, 40,\n",
       "       37, 19, 26, 17, 25, 24, 56, 30, 44, 49, 23, 33, 35, 23, 32, 21, 23,\n",
       "       24, 29, 28, 21, 50, 33, 55, 49, 43, 43, 33, 25, 23, 41, 27, 22, 36,\n",
       "       46, 24, 44, 45, 32, 30, 18, 47, 40, 42, 30, 21, 35, 13, 32, 23, 32,\n",
       "       28, 23, 28, 29, 51, 45, 25, 37, 22, 25, 37, 43, 52, 30, 21, 29,  3,\n",
       "       21, 41, 25, 23, 31, 54, 30, 34, 37, 36, 25, 40, 13, 23, 40, 33, 21,\n",
       "       41, 26, 27, 26, 26, 35, 28, 40, 40, 44, 24, 32, 25, 25, 27, 33, 34,\n",
       "       53, 39, 21, 34, 29, 29, 47, 26, 43, 28, 36, 19, 45, 40, 44, 42, 30,\n",
       "       31, 19, 41, 29, 20, 26, 26, 42, 35, 29, 39, 36, 26, 47, 40, 46, 37,\n",
       "       31, 30, 26, 37, 25, 20, 42, 40, 21, 30, 34, 34, 24, 28, 42, 35, 39,\n",
       "       35, 28, 30, 27, 29, 34, 22, 36, 37, 18, 36, 35, 31, 26, 41, 25, 14,\n",
       "       15, 23, 47, 33, 28, 37, 21, 32, 45, 19, 37, 23, 40, 25, 26, 28, 41,\n",
       "       27, 29, 27, 44, 15, 37, 46, 37, 31, 31, 30, 50, 48, 34, 36, 24, 18,\n",
       "       26, 40, 44, 48, 43, 30, 27, 17, 26, 21, 31, 26, 42, 35, 27, 41, 33,\n",
       "       52, 27, 23, 21, 51, 17, 46, 25, 31, 36, 35, 44, 45, 30, 29, 53, 52,\n",
       "       22, 16, 21, 37, 28, 19, 31, 42, 15, 43, 21, 23, 20, 35, 34, 26, 37,\n",
       "       50, 28, 25, 25, 12, 25, 24, 19, 12, 12, 23, 16, 11, 29, 38, 25, 30,\n",
       "       22, 34, 25, 15, 27, 37, 51, 32, 25, 23, 15, 15, 38, 24, 24, 36, 50,\n",
       "       22, 20, 38, 29, 29, 21, 49, 30, 50, 31, 33, 50, 36, 46, 27, 45, 34,\n",
       "       16, 30, 44, 27, 17, 41, 38, 18, 29, 32, 35, 39, 27, 32, 35, 32, 33,\n",
       "       29, 41, 15, 38, 16, 38, 26, 38, 27, 14, 18, 30, 27, 33, 32, 51, 34,\n",
       "       20, 41, 23, 42, 26, 26, 42, 22, 29, 22, 53, 28, 31, 29, 34, 28, 28,\n",
       "       39, 35, 18, 34, 15, 51, 22, 25, 10, 17, 30, 34, 16, 57, 30, 36, 24,\n",
       "       19, 38, 18, 24, 23, 28, 24, 22, 19, 38, 38, 46, 23, 37, 45, 33, 34,\n",
       "       26, 20, 38, 55, 25, 19, 26, 30, 45, 30, 26, 29, 22, 40, 29, 27, 37,\n",
       "       33, 16, 12, 34, 34, 29, 46, 41, 31, 45, 32, 46, 29, 31, 47, 38, 31,\n",
       "       26, 17, 37, 40, 45, 44, 23, 39, 34, 44, 26, 36, 43, 16, 37, 22, 32,\n",
       "       31, 52, 10, 28, 38, 29, 31, 29, 27, 33, 17, 44, 13, 30, 30, 42, 34,\n",
       "       37, 33, 33, 36, 30, 28, 13, 19, 36, 17, 10, 43, 36, 32, 23, 36, 38,\n",
       "       40, 30, 21, 36, 43, 34, 35, 48, 22, 47, 34, 29, 31, 40, 39, 31, 42,\n",
       "       34, 45, 27, 28, 16, 34, 33, 31, 44, 26, 38, 16, 24, 33, 25, 29, 45,\n",
       "       29, 39, 24, 31, 44, 25, 30, 27, 36, 34, 35, 13, 26, 26, 29, 26, 17,\n",
       "       40, 30, 21, 15, 25, 36, 11, 18, 29, 16, 40, 35, 20, 43, 32, 19, 43,\n",
       "       10, 57, 29, 39, 31, 20, 31, 30, 31, 15, 49, 25, 36, 49, 34, 23, 35,\n",
       "       30, 47, 23, 35, 23, 28, 37, 27, 20, 38, 22, 18, 31, 10, 15, 22, 34,\n",
       "       51, 30, 39, 35, 43, 37, 35, 35,  5,  8, 22, 34, 35, 42, 28, 18, 39,\n",
       "       26, 39, 34, 36, 32, 28, 31, 52, 31, 25, 20, 47, 34, 47, 31, 48, 42,\n",
       "       16, 36, 37, 28, 30, 37, 35, 48, 19, 19, 37, 45, 26, 45, 20, 38, 29,\n",
       "       37, 21, 16, 32, 30, 45, 27, 22, 43, 17, 29, 22, 51, 16, 21, 32, 38,\n",
       "       53, 32, 17,  5, 33, 32, 40, 21, 26, 24, 10, 34, 25, 35, 33, 31, 45,\n",
       "       36, 25, 35, 34, 45, 41, 32, 22, 52, 28, 31, 22, 22, 21, 20, 28, 40,\n",
       "       33, 28, 33, 30, 24, 49, 28, 46, 37, 22, 37, 23, 33, 17, 48, 42, 23,\n",
       "       35, 35, 47, 19, 25, 29, 28, 28, 39, 46, 33, 36, 37, 47, 36, 22, 50,\n",
       "       30, 35, 23, 31, 36, 37, 39, 26, 30, 27, 50, 44, 40, 37, 29, 30, 34,\n",
       "       12, 41, 48, 40, 41, 42, 24, 25, 34, 40, 19, 11, 27, 35, 35, 37, 39,\n",
       "       39, 30, 26, 21, 25, 27, 26, 28, 50, 51, 36, 20, 36, 20, 41, 18, 30,\n",
       "       18, 49, 28, 23, 45, 32,  8, 25, 40, 35, 26, 36, 47, 27, 50, 28, 21,\n",
       "       22, 15, 28, 28, 14, 37, 22, 23, 40, 46, 33, 30, 36, 39, 43, 41, 21,\n",
       "       40, 30, 13, 18, 46, 27, 24, 42, 27, 27, 34, 34, 28,  9, 29, 43, 29,\n",
       "       59, 37, 31, 32, 39, 28, 22, 45, 17, 27, 23, 22, 35, 23, 32, 30, 31,\n",
       "       44, 27, 35, 25, 27, 26, 52, 37, 33, 39, 35, 11, 12, 33])"
      ]
     },
     "execution_count": 7,
     "metadata": {},
     "output_type": "execute_result"
    }
   ],
   "source": [
    "dict[20]"
   ]
  },
  {
   "cell_type": "code",
   "execution_count": null,
   "metadata": {},
   "outputs": [],
   "source": []
  },
  {
   "cell_type": "code",
   "execution_count": null,
   "metadata": {},
   "outputs": [],
   "source": []
  },
  {
   "cell_type": "code",
   "execution_count": null,
   "metadata": {},
   "outputs": [],
   "source": []
  },
  {
   "cell_type": "code",
   "execution_count": 32,
   "metadata": {},
   "outputs": [
    {
     "data": {
      "text/plain": [
       "array([3.8, 3.2])"
      ]
     },
     "execution_count": 32,
     "metadata": {},
     "output_type": "execute_result"
    }
   ],
   "source": [
    "t = terning(6, 2, 10)\n",
    "t_mean = np.mean(t, axis=1)\n",
    "\n",
    "t_mean"
   ]
  },
  {
   "cell_type": "code",
   "execution_count": 34,
   "metadata": {},
   "outputs": [
    {
     "data": {
      "text/plain": [
       "array([ 6,  8,  4, 11,  6, 12,  6,  2,  7,  3])"
      ]
     },
     "execution_count": 34,
     "metadata": {},
     "output_type": "execute_result"
    }
   ],
   "source": [
    "terning(6, 2, 10).sum(axis=0)"
   ]
  },
  {
   "cell_type": "code",
   "execution_count": null,
   "metadata": {},
   "outputs": [],
   "source": []
  },
  {
   "cell_type": "code",
   "execution_count": null,
   "metadata": {},
   "outputs": [],
   "source": []
  },
  {
   "cell_type": "code",
   "execution_count": null,
   "metadata": {},
   "outputs": [],
   "source": []
  },
  {
   "cell_type": "code",
   "execution_count": null,
   "metadata": {},
   "outputs": [],
   "source": []
  },
  {
   "cell_type": "code",
   "execution_count": null,
   "metadata": {},
   "outputs": [],
   "source": []
  },
  {
   "cell_type": "code",
   "execution_count": null,
   "metadata": {},
   "outputs": [],
   "source": []
  },
  {
   "cell_type": "code",
   "execution_count": 1,
   "metadata": {},
   "outputs": [],
   "source": [
    "import sys\n",
    "import numpy as np\n",
    "import torch\n",
    "from torchvision import transforms\n",
    "from torchvision.ops import sigmoid_focal_loss\n",
    "\n",
    "\n",
    "import torch.nn as nn\n",
    "import torch.nn.functional as F\n",
    "\n",
    "\n",
    "from torch.autograd import Variable\n",
    "\n",
    "# https://d2l.ai/chapter_recurrent-modern/gru.html\n",
    "\n",
    "import matplotlib.pyplot as plt\n",
    "\n",
    "\n",
    "sys.path.insert(0, \"/home/simon/Documents/scripts/conflictNet/src/utils\")\n",
    "from warmup_decay_lr_scheduler import WarmupDecayLearningRateScheduler"
   ]
  },
  {
   "cell_type": "code",
   "execution_count": 33,
   "metadata": {},
   "outputs": [
    {
     "data": {
      "text/plain": [
       "torch.Size([1, 32, 32, 32])"
      ]
     },
     "execution_count": 33,
     "metadata": {},
     "output_type": "execute_result"
    }
   ],
   "source": [
    "torch.zeros((1, 32, 32, 32), dtype=torch.float32).shape"
   ]
  },
  {
   "cell_type": "code",
   "execution_count": 48,
   "metadata": {},
   "outputs": [],
   "source": [
    "h = torch.zeros((1, 32, 32, 32), dtype=torch.float32)\n",
    "\n",
    "h[:, :4, :, :] = 1\n",
    "h[:, 4:8, :, :] = 2\n",
    "h[:, 8:12, :, :] = 3\n",
    "h[:, 12:16, :, :] = 4\n",
    "h[:, 16:20, :, :] = 5\n",
    "h[:, 20:24, :, :] = 6  \n",
    "h[:, 24:28, :, :] = 7 \n",
    "h[:, 28:32, :, :] = 8\n"
   ]
  },
  {
   "cell_type": "code",
   "execution_count": 52,
   "metadata": {},
   "outputs": [
    {
     "name": "stdout",
     "output_type": "stream",
     "text": [
      "tensor(1.)\n",
      "tensor(2.)\n",
      "tensor(3.)\n",
      "tensor(4.)\n",
      "tensor(5.)\n",
      "tensor(6.)\n",
      "tensor(7.)\n",
      "tensor(8.)\n"
     ]
    }
   ],
   "source": [
    "split_8_ways = int(h.shape[1] / 8) \n",
    "\n",
    "hs1, hs2, hs3, hs4, hl1, hl2, hl3, hl4 = torch.split(h, split_8_ways, dim=1) \n",
    "new_h = torch.cat([hs1, hs2, hs3, hs4, hl1, hl2, hl3, hl4], dim=1)\n",
    "\n",
    "\n",
    "\n",
    "\n",
    "\n",
    "print(new_h[:, :4, :, :].mean())\n",
    "print(new_h[:, 4:8, :, :].mean())\n",
    "print(new_h[:, 8:12, :, :].mean())\n",
    "print(new_h[:, 12:16, :, :].mean())\n",
    "print(new_h[:, 16:20, :, :].mean())\n",
    "print(new_h[:, 20:24, :, :].mean())\n",
    "print(new_h[:, 24:28, :, :].mean())\n",
    "print(new_h[:, 28:32, :, :].mean())"
   ]
  },
  {
   "cell_type": "code",
   "execution_count": null,
   "metadata": {},
   "outputs": [],
   "source": []
  },
  {
   "cell_type": "code",
   "execution_count": 44,
   "metadata": {},
   "outputs": [
    {
     "data": {
      "text/plain": [
       "tensor([[[[4., 4., 4.,  ..., 4., 4., 4.],\n",
       "          [4., 4., 4.,  ..., 4., 4., 4.],\n",
       "          [4., 4., 4.,  ..., 4., 4., 4.],\n",
       "          ...,\n",
       "          [4., 4., 4.,  ..., 4., 4., 4.],\n",
       "          [4., 4., 4.,  ..., 4., 4., 4.],\n",
       "          [4., 4., 4.,  ..., 4., 4., 4.]],\n",
       "\n",
       "         [[4., 4., 4.,  ..., 4., 4., 4.],\n",
       "          [4., 4., 4.,  ..., 4., 4., 4.],\n",
       "          [4., 4., 4.,  ..., 4., 4., 4.],\n",
       "          ...,\n",
       "          [4., 4., 4.,  ..., 4., 4., 4.],\n",
       "          [4., 4., 4.,  ..., 4., 4., 4.],\n",
       "          [4., 4., 4.,  ..., 4., 4., 4.]],\n",
       "\n",
       "         [[4., 4., 4.,  ..., 4., 4., 4.],\n",
       "          [4., 4., 4.,  ..., 4., 4., 4.],\n",
       "          [4., 4., 4.,  ..., 4., 4., 4.],\n",
       "          ...,\n",
       "          [4., 4., 4.,  ..., 4., 4., 4.],\n",
       "          [4., 4., 4.,  ..., 4., 4., 4.],\n",
       "          [4., 4., 4.,  ..., 4., 4., 4.]],\n",
       "\n",
       "         [[4., 4., 4.,  ..., 4., 4., 4.],\n",
       "          [4., 4., 4.,  ..., 4., 4., 4.],\n",
       "          [4., 4., 4.,  ..., 4., 4., 4.],\n",
       "          ...,\n",
       "          [4., 4., 4.,  ..., 4., 4., 4.],\n",
       "          [4., 4., 4.,  ..., 4., 4., 4.],\n",
       "          [4., 4., 4.,  ..., 4., 4., 4.]]]])"
      ]
     },
     "execution_count": 44,
     "metadata": {},
     "output_type": "execute_result"
    }
   ],
   "source": [
    "hs4"
   ]
  },
  {
   "cell_type": "code",
   "execution_count": null,
   "metadata": {},
   "outputs": [],
   "source": []
  },
  {
   "cell_type": "code",
   "execution_count": null,
   "metadata": {},
   "outputs": [],
   "source": []
  },
  {
   "cell_type": "code",
   "execution_count": null,
   "metadata": {},
   "outputs": [],
   "source": []
  },
  {
   "cell_type": "code",
   "execution_count": 3,
   "metadata": {},
   "outputs": [],
   "source": [
    "h = torch.zeros((1, 32, 32, 32), dtype=torch.float32)\n",
    "\n",
    "h[:, :8, :, :] += 1  \n",
    "h[:, 8:16, :, :] += 2 \n",
    "h[:, 16:24, :, :] += 3\n",
    "h[:, 24:, :, :] += 4\n",
    "\n",
    "h_frozen = h.clone()\n",
    "h_new = h.clone() * -1"
   ]
  },
  {
   "cell_type": "code",
   "execution_count": 4,
   "metadata": {},
   "outputs": [
    {
     "name": "stdout",
     "output_type": "stream",
     "text": [
      "tensor(-1.)\n",
      "tensor(2.)\n",
      "tensor(3.)\n",
      "tensor(-4.)\n"
     ]
    }
   ],
   "source": [
    "split_four_ways = int(h_frozen.shape[1] / 4) \n",
    "\n",
    "hs_1_frozen, hs_2_frozen, hl_1_frozen, hl_2_frozen = torch.split(h_frozen, split_four_ways, dim=1)\n",
    "hs_1_new, hs_2_new, hl_1_new, hl_2_new = torch.split(h_new, split_four_ways, dim=1) \n",
    "\n",
    "pairs = [(hs_1_frozen, hs_1_new), (hs_2_frozen, hs_2_new), (hl_1_frozen, hl_1_new), (hl_2_frozen, hl_2_new)]\n",
    "\n",
    "h_mix = torch.cat([pair[0] if torch.rand(1) < 0.5 else pair[1] for pair in pairs], dim=1)\n",
    "\n",
    "\n",
    "\n",
    "# ----------------------------\n",
    "\n",
    "\n",
    "print(h_mix[:, :8, :, :].mean())\n",
    "print(h_mix[:, 8:16, :, :].mean())\n",
    "print(h_mix[:, 16:24, :, :].mean())\n",
    "print(h_mix[:, 24:, :, :].mean())"
   ]
  },
  {
   "cell_type": "code",
   "execution_count": 5,
   "metadata": {},
   "outputs": [
    {
     "name": "stdout",
     "output_type": "stream",
     "text": [
      "tensor(-1.)\n",
      "tensor(2.)\n",
      "tensor(3.)\n",
      "tensor(-4.)\n"
     ]
    }
   ],
   "source": [
    "print(h_mix[:, :8, :, :].mean())\n",
    "print(h_mix[:, 8:16, :, :].mean())\n",
    "print(h_mix[:, 16:24, :, :].mean())\n",
    "print(h_mix[:, 24:, :, :].mean())"
   ]
  },
  {
   "cell_type": "code",
   "execution_count": 6,
   "metadata": {},
   "outputs": [
    {
     "data": {
      "text/plain": [
       "tensor([[[[-4., -4., -4.,  ..., -4., -4., -4.],\n",
       "          [-4., -4., -4.,  ..., -4., -4., -4.],\n",
       "          [-4., -4., -4.,  ..., -4., -4., -4.],\n",
       "          ...,\n",
       "          [-4., -4., -4.,  ..., -4., -4., -4.],\n",
       "          [-4., -4., -4.,  ..., -4., -4., -4.],\n",
       "          [-4., -4., -4.,  ..., -4., -4., -4.]],\n",
       "\n",
       "         [[-4., -4., -4.,  ..., -4., -4., -4.],\n",
       "          [-4., -4., -4.,  ..., -4., -4., -4.],\n",
       "          [-4., -4., -4.,  ..., -4., -4., -4.],\n",
       "          ...,\n",
       "          [-4., -4., -4.,  ..., -4., -4., -4.],\n",
       "          [-4., -4., -4.,  ..., -4., -4., -4.],\n",
       "          [-4., -4., -4.,  ..., -4., -4., -4.]],\n",
       "\n",
       "         [[-4., -4., -4.,  ..., -4., -4., -4.],\n",
       "          [-4., -4., -4.,  ..., -4., -4., -4.],\n",
       "          [-4., -4., -4.,  ..., -4., -4., -4.],\n",
       "          ...,\n",
       "          [-4., -4., -4.,  ..., -4., -4., -4.],\n",
       "          [-4., -4., -4.,  ..., -4., -4., -4.],\n",
       "          [-4., -4., -4.,  ..., -4., -4., -4.]],\n",
       "\n",
       "         ...,\n",
       "\n",
       "         [[-4., -4., -4.,  ..., -4., -4., -4.],\n",
       "          [-4., -4., -4.,  ..., -4., -4., -4.],\n",
       "          [-4., -4., -4.,  ..., -4., -4., -4.],\n",
       "          ...,\n",
       "          [-4., -4., -4.,  ..., -4., -4., -4.],\n",
       "          [-4., -4., -4.,  ..., -4., -4., -4.],\n",
       "          [-4., -4., -4.,  ..., -4., -4., -4.]],\n",
       "\n",
       "         [[-4., -4., -4.,  ..., -4., -4., -4.],\n",
       "          [-4., -4., -4.,  ..., -4., -4., -4.],\n",
       "          [-4., -4., -4.,  ..., -4., -4., -4.],\n",
       "          ...,\n",
       "          [-4., -4., -4.,  ..., -4., -4., -4.],\n",
       "          [-4., -4., -4.,  ..., -4., -4., -4.],\n",
       "          [-4., -4., -4.,  ..., -4., -4., -4.]],\n",
       "\n",
       "         [[-4., -4., -4.,  ..., -4., -4., -4.],\n",
       "          [-4., -4., -4.,  ..., -4., -4., -4.],\n",
       "          [-4., -4., -4.,  ..., -4., -4., -4.],\n",
       "          ...,\n",
       "          [-4., -4., -4.,  ..., -4., -4., -4.],\n",
       "          [-4., -4., -4.,  ..., -4., -4., -4.],\n",
       "          [-4., -4., -4.,  ..., -4., -4., -4.]]]])"
      ]
     },
     "execution_count": 6,
     "metadata": {},
     "output_type": "execute_result"
    }
   ],
   "source": [
    "h_mix[:, 24:, :, :]"
   ]
  },
  {
   "cell_type": "code",
   "execution_count": null,
   "metadata": {},
   "outputs": [],
   "source": []
  },
  {
   "cell_type": "code",
   "execution_count": null,
   "metadata": {},
   "outputs": [],
   "source": []
  },
  {
   "cell_type": "code",
   "execution_count": null,
   "metadata": {},
   "outputs": [],
   "source": []
  },
  {
   "cell_type": "code",
   "execution_count": null,
   "metadata": {},
   "outputs": [],
   "source": []
  },
  {
   "cell_type": "code",
   "execution_count": 91,
   "metadata": {},
   "outputs": [],
   "source": [
    "selected_tensors = torch.cat(selected_tensors, dim=1)"
   ]
  },
  {
   "cell_type": "code",
   "execution_count": 92,
   "metadata": {},
   "outputs": [
    {
     "data": {
      "text/plain": [
       "torch.Size([1, 32, 32, 32])"
      ]
     },
     "execution_count": 92,
     "metadata": {},
     "output_type": "execute_result"
    }
   ],
   "source": [
    "selected_tensors.shape"
   ]
  },
  {
   "cell_type": "code",
   "execution_count": 66,
   "metadata": {},
   "outputs": [],
   "source": [
    "split_hs_hl = int(h.shape[1] / 4)  # Half of the second dimension, which is channels\n",
    "\n",
    "# Split the tensor along dimension 1 into 4 parts\n",
    "hs_1, hs_2, hl_1, hl_2 = torch.split(h, split_hs_hl, dim=1)\n",
    "\n",
    "# The result will be a tuple of four tensors\n",
    "# hs_1, hs_2, hl_1, hl_2 = split_tensors_hs_hl"
   ]
  },
  {
   "cell_type": "code",
   "execution_count": 67,
   "metadata": {},
   "outputs": [
    {
     "name": "stdout",
     "output_type": "stream",
     "text": [
      "torch.Size([1, 8, 32, 32])\n",
      "torch.Size([1, 8, 32, 32])\n",
      "torch.Size([1, 8, 32, 32])\n",
      "torch.Size([1, 8, 32, 32])\n"
     ]
    }
   ],
   "source": [
    "print(hs_1.shape)\n",
    "print(hs_2.shape)\n",
    "print(hl_1.shape)\n",
    "print(hl_2.shape)"
   ]
  },
  {
   "cell_type": "code",
   "execution_count": 68,
   "metadata": {},
   "outputs": [
    {
     "name": "stdout",
     "output_type": "stream",
     "text": [
      "tensor(1.)\n",
      "tensor(2.)\n",
      "tensor(3.)\n",
      "tensor(4.)\n"
     ]
    }
   ],
   "source": [
    "print(hs_1.mean())\n",
    "print(hs_2.mean())\n",
    "print(hl_1.mean())\n",
    "print(hl_2.mean())"
   ]
  },
  {
   "cell_type": "code",
   "execution_count": 49,
   "metadata": {},
   "outputs": [],
   "source": [
    "split_hs_hl = int(h.shape[1]/2) # half of the second dimension wich is channels\n",
    "\n",
    "# Split the tensor along dimension 1\n",
    "split_tensors_hs_hl = torch.split(h, split_hs_hl, dim=1)\n",
    "\n",
    "# The result will be a tuple of two tensors\n",
    "hs, hl = split_tensors_hs_hl\n",
    "\n",
    "# Second split to get the two tensors that make up hs and hl\n",
    "split_1_2 = int(split_hs_hl/2) # half of the second dimension wich is channels\n",
    "\n",
    "split_tensors_hs1_hs2 = torch.split(hs, split_1_2, dim=1)\n",
    "\n",
    "split_tensors_hl1_hl2 = torch.split(hl, split_1_2, dim=1)\n",
    "\n",
    "hs_1, hs_2 = split_tensors_hs1_hs2\n",
    "hl_1, hl_2 = split_tensors_hl1_hl2\n",
    "\n",
    "\n",
    "\n"
   ]
  },
  {
   "cell_type": "code",
   "execution_count": null,
   "metadata": {},
   "outputs": [],
   "source": [
    "# Assuming you have h_a and h_b tensors\n",
    "\n",
    "# Create lists of tensors from h_a and h_b\n",
    "tensors_a = [hs_1a, hs_2a, hl_1a, hl_2a]\n",
    "tensors_b = [hs_1b, hs_2b, hl_1b, hl_2b]\n",
    "\n",
    "# Shuffle the order of selection\n",
    "random.shuffle(tensors_a)\n",
    "random.shuffle(tensors_b)\n",
    "\n",
    "# Combine tensors from a and b\n",
    "result_tensors = [tensors_a.pop() if random.choice([True, False]) else tensors_b.pop() for _ in range(4)]\n"
   ]
  },
  {
   "cell_type": "code",
   "execution_count": null,
   "metadata": {},
   "outputs": [],
   "source": []
  },
  {
   "cell_type": "code",
   "execution_count": null,
   "metadata": {},
   "outputs": [],
   "source": []
  },
  {
   "cell_type": "code",
   "execution_count": 50,
   "metadata": {},
   "outputs": [
    {
     "name": "stdout",
     "output_type": "stream",
     "text": [
      "torch.Size([1, 8, 32, 32])\n",
      "torch.Size([1, 8, 32, 32])\n",
      "torch.Size([1, 8, 32, 32])\n",
      "torch.Size([1, 8, 32, 32])\n"
     ]
    }
   ],
   "source": [
    "print(hs_1.shape)\n",
    "print(hs_2.shape)\n",
    "print(hl_1.shape)\n",
    "print(hl_2.shape)"
   ]
  },
  {
   "cell_type": "code",
   "execution_count": null,
   "metadata": {},
   "outputs": [],
   "source": []
  },
  {
   "cell_type": "code",
   "execution_count": null,
   "metadata": {},
   "outputs": [],
   "source": [
    "split = int(h_tt.shape[1]/2) # split h_tt into hs_tt and hl_tt and save hl_tt as the forzen cell state/long term memory. Call it hl_frozen. Half of the second dimension which is channels.\n",
    "_, hl_frozen = torch.split(h_tt, split, dim=1)\n",
    "t1_pred, t1_pred_class, h_tt = model(t0, h_tt) \n",
    "hs, _ = torch.split(h_tt, split, dim=1) # Again split the h_tt into hs_tt and hl_tt. But discard the hl_tt\n",
    "h_tt = torch.cat((hs, hl_frozen), dim=1) # Concatenate the frozen cell state/long term memory (hl_frozen) with the new hidden state/short term memory. this is the new h_tt\n"
   ]
  },
  {
   "cell_type": "code",
   "execution_count": null,
   "metadata": {},
   "outputs": [],
   "source": []
  },
  {
   "cell_type": "code",
   "execution_count": null,
   "metadata": {},
   "outputs": [],
   "source": []
  },
  {
   "cell_type": "code",
   "execution_count": null,
   "metadata": {},
   "outputs": [],
   "source": []
  },
  {
   "cell_type": "code",
   "execution_count": null,
   "metadata": {},
   "outputs": [],
   "source": []
  },
  {
   "cell_type": "code",
   "execution_count": null,
   "metadata": {},
   "outputs": [],
   "source": []
  },
  {
   "cell_type": "code",
   "execution_count": 41,
   "metadata": {},
   "outputs": [
    {
     "name": "stdout",
     "output_type": "stream",
     "text": [
      "j\n",
      "j\n",
      "j\n",
      "e\n",
      "a\n",
      "e\n",
      "j\n",
      "e\n",
      "e\n",
      "e\n"
     ]
    }
   ],
   "source": [
    "for i in range(10):\n",
    "\n",
    "    print(['j','a','e'][np.random.choice(3)])"
   ]
  },
  {
   "cell_type": "code",
   "execution_count": null,
   "metadata": {},
   "outputs": [],
   "source": []
  },
  {
   "cell_type": "code",
   "execution_count": 1,
   "metadata": {},
   "outputs": [],
   "source": [
    "def terning(max, antal, exprmnt):\n",
    "\n",
    "    \"\"\"\n",
    "    Max er den højeste værdi terningen kan vise, dvs. ternings antal sider.\n",
    "    Antal er antallet af terninger der kastes.\n",
    "    Exprmnt er antallet af eksperimenter der udføres.\n",
    "    \"\"\"\n",
    "\n",
    "    result = np.random.randint(1, max+1, (antal, exprmnt))\n",
    "\n",
    "    return result"
   ]
  },
  {
   "cell_type": "code",
   "execution_count": 12,
   "metadata": {},
   "outputs": [
    {
     "name": "stdout",
     "output_type": "stream",
     "text": [
      "\u001b[0;31mSignature:\u001b[0m \u001b[0mterning\u001b[0m\u001b[0;34m(\u001b[0m\u001b[0mmax\u001b[0m\u001b[0;34m,\u001b[0m \u001b[0mantal\u001b[0m\u001b[0;34m,\u001b[0m \u001b[0mexprmnt\u001b[0m\u001b[0;34m)\u001b[0m\u001b[0;34m\u001b[0m\u001b[0;34m\u001b[0m\u001b[0m\n",
      "\u001b[0;31mDocstring:\u001b[0m\n",
      "Max er den højeste værdi terningen kan vise, dvs. ternings antal sider.\n",
      "Antal er antallet af terninger der kastes.\n",
      "exprmnt er antallet af eksperimenter der udføres.\n",
      "\u001b[0;31mFile:\u001b[0m      /tmp/ipykernel_51386/728988540.py\n",
      "\u001b[0;31mType:\u001b[0m      function\n"
     ]
    }
   ],
   "source": [
    "terning?"
   ]
  },
  {
   "cell_type": "code",
   "execution_count": 13,
   "metadata": {},
   "outputs": [
    {
     "name": "stdout",
     "output_type": "stream",
     "text": [
      "[[3 2 2 5 4 3 3 4 4 3 2 2 4 5 4 3 3 4 5 4 1 5 5 2 4 5 3 3 3 4 2 4 4 5 2 3\n",
      "  5 1 3 1 1 5 1 1 1 4 4 3 4 5 2 5 4 2 1 1 4 3 4 3 4 1 2 4 3 4 1 5 4 5 1 2\n",
      "  2 4 3 1 2 4 4 5 2 2 5 3 4 1 1 2 4 4 3 2 4 3 4 5 5 4 1 4]\n",
      " [2 5 4 3 3 5 1 1 5 2 2 5 4 5 3 4 5 2 4 1 3 4 3 2 3 5 5 1 1 2 4 1 5 5 3 4\n",
      "  1 3 3 2 2 2 3 4 1 2 1 3 5 3 4 1 1 4 5 1 3 5 1 1 5 5 3 5 2 3 2 1 3 2 5 1\n",
      "  5 2 4 2 4 2 2 4 5 2 1 2 1 4 5 4 2 5 4 1 4 5 5 1 5 4 2 2]]\n"
     ]
    }
   ],
   "source": [
    "to_d_6_100 =  terning(6, 2, 100)\n",
    "print(to_d_6_100)"
   ]
  },
  {
   "cell_type": "code",
   "execution_count": 14,
   "metadata": {},
   "outputs": [
    {
     "data": {
      "text/plain": [
       "array([ 5,  7,  6,  8,  7,  8,  4,  5,  9,  5,  4,  7,  8, 10,  7,  7,  8,\n",
       "        6,  9,  5,  4,  9,  8,  4,  7, 10,  8,  4,  4,  6,  6,  5,  9, 10,\n",
       "        5,  7,  6,  4,  6,  3,  3,  7,  4,  5,  2,  6,  5,  6,  9,  8,  6,\n",
       "        6,  5,  6,  6,  2,  7,  8,  5,  4,  9,  6,  5,  9,  5,  7,  3,  6,\n",
       "        7,  7,  6,  3,  7,  6,  7,  3,  6,  6,  6,  9,  7,  4,  6,  5,  5,\n",
       "        5,  6,  6,  6,  9,  7,  3,  8,  8,  9,  6, 10,  8,  3,  6])"
      ]
     },
     "execution_count": 14,
     "metadata": {},
     "output_type": "execute_result"
    }
   ],
   "source": [
    "dmg = to_d_6_100.sum(0)\n",
    "dmg"
   ]
  },
  {
   "cell_type": "code",
   "execution_count": 15,
   "metadata": {},
   "outputs": [
    {
     "data": {
      "image/png": "[encoded data removed]",
      "text/plain": [
       "<Figure size 640x480 with 1 Axes>"
      ]
     },
     "metadata": {},
     "output_type": "display_data"
    }
   ],
   "source": [
    "plt.hist(dmg, bins=9)\n",
    "plt.show()"
   ]
  },
  {
   "cell_type": "code",
   "execution_count": null,
   "metadata": {},
   "outputs": [],
   "source": []
  },
  {
   "cell_type": "code",
   "execution_count": null,
   "metadata": {},
   "outputs": [],
   "source": []
  },
  {
   "cell_type": "code",
   "execution_count": null,
   "metadata": {},
   "outputs": [],
   "source": []
  },
  {
   "cell_type": "code",
   "execution_count": null,
   "metadata": {},
   "outputs": [],
   "source": []
  },
  {
   "cell_type": "code",
   "execution_count": null,
   "metadata": {},
   "outputs": [],
   "source": []
  },
  {
   "cell_type": "code",
   "execution_count": null,
   "metadata": {},
   "outputs": [],
   "source": []
  },
  {
   "cell_type": "code",
   "execution_count": null,
   "metadata": {},
   "outputs": [],
   "source": []
  },
  {
   "cell_type": "code",
   "execution_count": null,
   "metadata": {},
   "outputs": [],
   "source": []
  },
  {
   "cell_type": "code",
   "execution_count": 53,
   "metadata": {},
   "outputs": [],
   "source": [
    "# full_vol = torch.zeros((300, 256, 256, 4), dtype=torch.float32) #  [N, C, D, H, W]\n",
    "\n",
    "full_vol = torch.randn((300, 256, 256, 4), dtype=torch.float32)**2 #  [N, C, D, H, W]\n",
    "\n",
    "\n",
    "full_vol[:, :, :, 0] += 99  \n",
    "full_vol[:, :, :, 1] += 1 \n",
    "full_vol[:, :, :, 2] += 2\n",
    "full_vol[:, :, :, 3] += 3\n",
    "\n",
    "full_vol = torch.log(full_vol+1)"
   ]
  },
  {
   "cell_type": "code",
   "execution_count": 54,
   "metadata": {},
   "outputs": [
    {
     "data": {
      "text/plain": [
       "tensor([[[[4.6071, 1.9131, 2.0007, 1.3871],\n",
       "          [4.6168, 0.8975, 1.2306, 1.4198],\n",
       "          [4.6066, 0.9201, 1.2958, 1.4596],\n",
       "          ...,\n",
       "          [4.6072, 0.9943, 1.0989, 1.3930],\n",
       "          [4.6068, 1.0841, 1.2980, 1.4747],\n",
       "          [4.6066, 0.9120, 1.1755, 1.5574]],\n",
       "\n",
       "         [[4.6068, 1.8559, 1.1686, 1.4734],\n",
       "          [4.6082, 1.0379, 1.5292, 1.5191],\n",
       "          [4.6067, 0.7474, 1.1406, 1.4072],\n",
       "          ...,\n",
       "          [4.6149, 1.2681, 1.1181, 1.4900],\n",
       "          [4.6069, 0.8128, 1.2314, 1.5005],\n",
       "          [4.6063, 1.0456, 1.1055, 1.3885]],\n",
       "\n",
       "         [[4.6300, 0.9509, 1.1051, 1.5466],\n",
       "          [4.6055, 0.7621, 1.2789, 1.6862],\n",
       "          [4.6052, 1.9078, 1.0990, 1.4118],\n",
       "          ...,\n",
       "          [4.6409, 1.1312, 1.4496, 1.3982],\n",
       "          [4.6087, 0.7045, 1.1326, 1.7147],\n",
       "          [4.6086, 1.1747, 2.1570, 1.5328]],\n",
       "\n",
       "         ...,\n",
       "\n",
       "         [[4.6142, 0.6940, 1.1042, 1.6339],\n",
       "          [4.6281, 0.6940, 1.3758, 1.4216],\n",
       "          [4.6052, 1.1891, 1.2322, 1.3966],\n",
       "          ...,\n",
       "          [4.6052, 0.7537, 1.1598, 1.5714],\n",
       "          [4.6104, 0.7213, 1.1464, 1.7014],\n",
       "          [4.6052, 0.7110, 1.1525, 1.7505]],\n",
       "\n",
       "         [[4.6052, 0.9281, 1.1760, 1.6606],\n",
       "          [4.6847, 0.9976, 1.1164, 1.4100],\n",
       "          [4.6080, 0.7582, 1.2846, 1.3867],\n",
       "          ...,\n",
       "          [4.6098, 0.7683, 1.1029, 1.8130],\n",
       "          [4.6102, 0.7110, 1.1513, 1.3933],\n",
       "          [4.6267, 0.9456, 1.9163, 1.4245]],\n",
       "\n",
       "         [[4.6369, 0.6970, 1.4429, 1.3867],\n",
       "          [4.6221, 0.7333, 1.1447, 1.6854],\n",
       "          [4.6086, 1.3417, 1.6993, 1.3978],\n",
       "          ...,\n",
       "          [4.6052, 0.7665, 1.2615, 1.3915],\n",
       "          [4.6166, 0.8252, 1.1274, 1.4174],\n",
       "          [4.6453, 0.6951, 1.6576, 1.6247]]],\n",
       "\n",
       "\n",
       "        [[[4.6057, 0.7003, 1.1266, 1.3864],\n",
       "          [4.6059, 0.7209, 1.2545, 1.4008],\n",
       "          [4.6216, 0.7590, 1.1639, 1.4873],\n",
       "          ...,\n",
       "          [4.6105, 2.2103, 1.4076, 1.6521],\n",
       "          [4.6056, 0.8214, 1.1253, 2.1372],\n",
       "          [4.6084, 0.7334, 1.1015, 1.7346]],\n",
       "\n",
       "         [[4.6446, 0.7061, 1.4277, 1.4464],\n",
       "          [4.6086, 0.9400, 1.4408, 1.5916],\n",
       "          [4.6109, 0.9188, 1.4271, 1.3882],\n",
       "          ...,\n",
       "          [4.6186, 1.5317, 1.5552, 2.0367],\n",
       "          [4.6142, 0.8504, 1.9987, 1.7032],\n",
       "          [4.6090, 0.9292, 1.8135, 1.4633]],\n",
       "\n",
       "         [[4.6115, 1.6767, 1.5107, 1.8817],\n",
       "          [4.6364, 0.6988, 1.1038, 1.7210],\n",
       "          [4.6058, 1.6206, 1.2592, 1.8367],\n",
       "          ...,\n",
       "          [4.6052, 0.6943, 1.2953, 1.7694],\n",
       "          [4.6108, 1.5435, 1.0988, 1.6550],\n",
       "          [4.6053, 0.8378, 1.2926, 1.3870]],\n",
       "\n",
       "         ...,\n",
       "\n",
       "         [[4.6151, 0.6933, 2.0485, 1.4204],\n",
       "          [4.6071, 0.7033, 1.1048, 1.4624],\n",
       "          [4.6488, 0.8850, 1.1335, 1.3971],\n",
       "          ...,\n",
       "          [4.6371, 1.0047, 1.1036, 1.7959],\n",
       "          [4.6178, 1.2559, 1.5643, 1.3987],\n",
       "          [4.6088, 0.7060, 1.2723, 2.0306]],\n",
       "\n",
       "         [[4.6101, 1.2886, 1.1040, 1.8857],\n",
       "          [4.6055, 0.7088, 1.2244, 1.4958],\n",
       "          [4.6132, 1.3770, 1.0987, 1.5732],\n",
       "          ...,\n",
       "          [4.7077, 0.7192, 1.1206, 1.4093],\n",
       "          [4.6067, 0.8469, 1.1261, 1.7154],\n",
       "          [4.6156, 0.7353, 1.1042, 1.4363]],\n",
       "\n",
       "         [[4.6052, 0.7343, 1.0987, 1.6426],\n",
       "          [4.6066, 1.1587, 1.0986, 1.5045],\n",
       "          [4.6085, 1.5294, 1.2059, 1.7095],\n",
       "          ...,\n",
       "          [4.6054, 1.3630, 1.3701, 1.3875],\n",
       "          [4.6281, 0.9408, 1.1791, 1.4223],\n",
       "          [4.6067, 0.7478, 1.3606, 1.4117]]],\n",
       "\n",
       "\n",
       "        [[[4.6078, 1.0406, 1.3810, 1.7478],\n",
       "          [4.6304, 0.8793, 1.1773, 1.4858],\n",
       "          [4.6052, 0.7055, 1.5564, 1.4705],\n",
       "          ...,\n",
       "          [4.6068, 0.9625, 1.8020, 1.8884],\n",
       "          [4.6316, 0.8742, 1.0999, 1.3863],\n",
       "          [4.6562, 0.9093, 2.2613, 1.4096]],\n",
       "\n",
       "         [[4.6063, 0.9977, 1.6686, 1.3910],\n",
       "          [4.6062, 1.1390, 1.3474, 1.3917],\n",
       "          [4.6174, 0.7489, 1.1422, 1.3991],\n",
       "          ...,\n",
       "          [4.6149, 1.0537, 1.2933, 1.7587],\n",
       "          [4.6084, 0.9164, 1.2767, 1.6001],\n",
       "          [4.6324, 1.1181, 1.0992, 1.4039]],\n",
       "\n",
       "         [[4.6053, 1.6408, 1.3472, 1.4828],\n",
       "          [4.6172, 0.8554, 1.3331, 1.3863],\n",
       "          [4.6068, 0.8179, 1.3037, 1.4911],\n",
       "          ...,\n",
       "          [4.6127, 1.0372, 1.0988, 1.3866],\n",
       "          [4.6055, 1.7392, 1.1032, 1.4723],\n",
       "          [4.6062, 0.9495, 1.2268, 1.4044]],\n",
       "\n",
       "         ...,\n",
       "\n",
       "         [[4.6061, 0.7547, 1.1343, 1.5366],\n",
       "          [4.6052, 0.7516, 1.7532, 1.4482],\n",
       "          [4.6068, 1.1065, 2.0372, 1.7506],\n",
       "          ...,\n",
       "          [4.6052, 0.7137, 1.5045, 1.4244],\n",
       "          [4.6254, 0.6997, 1.1000, 1.6965],\n",
       "          [4.6055, 0.7322, 1.4362, 1.7615]],\n",
       "\n",
       "         [[4.6061, 0.8174, 1.6755, 1.4908],\n",
       "          [4.6207, 0.7573, 1.2910, 1.3930],\n",
       "          [4.6168, 1.1004, 1.0986, 2.0227],\n",
       "          ...,\n",
       "          [4.6270, 1.0710, 1.2238, 1.8360],\n",
       "          [4.6225, 0.7151, 1.4516, 1.6658],\n",
       "          [4.6092, 0.7722, 1.0986, 2.0688]],\n",
       "\n",
       "         [[4.6054, 0.6940, 1.2103, 2.1675],\n",
       "          [4.6427, 0.7490, 1.1624, 1.9533],\n",
       "          [4.6068, 0.7315, 1.1341, 1.3866],\n",
       "          ...,\n",
       "          [4.6066, 0.7807, 1.1015, 1.4411],\n",
       "          [4.6139, 1.1009, 1.2274, 1.7526],\n",
       "          [4.6054, 0.9056, 1.7226, 1.3892]]],\n",
       "\n",
       "\n",
       "        ...,\n",
       "\n",
       "\n",
       "        [[[4.6057, 1.1050, 1.3194, 1.5908],\n",
       "          [4.6117, 0.8336, 1.2674, 1.4118],\n",
       "          [4.6064, 1.0026, 1.2076, 1.5489],\n",
       "          ...,\n",
       "          [4.6059, 0.7148, 1.1281, 1.8545],\n",
       "          [4.6083, 0.8254, 1.1223, 1.4464],\n",
       "          [4.6269, 0.6937, 1.6467, 2.0922]],\n",
       "\n",
       "         [[4.6151, 0.7019, 1.2706, 1.5033],\n",
       "          [4.6056, 1.2568, 1.1000, 1.4189],\n",
       "          [4.6059, 1.4791, 1.3856, 1.5606],\n",
       "          ...,\n",
       "          [4.6178, 1.1191, 1.5739, 1.6968],\n",
       "          [4.6152, 1.1564, 1.1286, 1.5537],\n",
       "          [4.6058, 1.1525, 1.1056, 1.5437]],\n",
       "\n",
       "         [[4.6056, 1.2099, 1.9843, 1.4505],\n",
       "          [4.6138, 0.7034, 1.3686, 1.5874],\n",
       "          [4.6107, 1.1812, 1.1911, 1.4820],\n",
       "          ...,\n",
       "          [4.6084, 0.7039, 1.5512, 1.4519],\n",
       "          [4.6195, 1.6014, 1.2710, 1.8607],\n",
       "          [4.6052, 0.7505, 1.1737, 1.9270]],\n",
       "\n",
       "         ...,\n",
       "\n",
       "         [[4.6069, 0.8604, 1.7269, 1.5000],\n",
       "          [4.6304, 0.9148, 1.1082, 1.4122],\n",
       "          [4.6060, 0.7871, 2.1465, 1.6505],\n",
       "          ...,\n",
       "          [4.6166, 1.9572, 1.1717, 1.4796],\n",
       "          [4.6052, 1.3952, 1.1684, 1.8562],\n",
       "          [4.6134, 0.7351, 1.1098, 1.6845]],\n",
       "\n",
       "         [[4.6055, 0.7066, 2.2263, 1.4800],\n",
       "          [4.6442, 0.9111, 1.2325, 1.4104],\n",
       "          [4.6315, 2.0964, 1.3281, 1.4086],\n",
       "          ...,\n",
       "          [4.6054, 1.2051, 1.1646, 1.5633],\n",
       "          [4.6067, 1.5383, 1.0998, 2.2020],\n",
       "          [4.6160, 0.7399, 1.1693, 1.7650]],\n",
       "\n",
       "         [[4.6052, 1.5023, 1.4457, 1.6811],\n",
       "          [4.6118, 1.6475, 1.1519, 1.4012],\n",
       "          [4.6189, 0.7804, 1.1060, 1.8508],\n",
       "          ...,\n",
       "          [4.6178, 1.0336, 1.8535, 1.7945],\n",
       "          [4.6054, 0.7177, 2.1957, 1.6902],\n",
       "          [4.6052, 0.9557, 1.3168, 1.3865]]],\n",
       "\n",
       "\n",
       "        [[[4.6207, 0.7096, 1.1013, 1.4217],\n",
       "          [4.6068, 1.1670, 1.1418, 1.7309],\n",
       "          [4.6501, 0.6953, 1.9083, 1.4656],\n",
       "          ...,\n",
       "          [4.6131, 0.9438, 1.1173, 1.4331],\n",
       "          [4.6101, 1.1883, 1.1194, 1.6494],\n",
       "          [4.6058, 0.9728, 1.2701, 1.6876]],\n",
       "\n",
       "         [[4.6081, 0.7140, 1.5343, 1.4006],\n",
       "          [4.6072, 0.9479, 1.0990, 1.4197],\n",
       "          [4.6052, 0.8350, 1.1238, 1.6448],\n",
       "          ...,\n",
       "          [4.6098, 0.6946, 1.1516, 1.4149],\n",
       "          [4.6123, 1.5703, 1.6092, 2.0001],\n",
       "          [4.6065, 1.4011, 1.4868, 1.9490]],\n",
       "\n",
       "         [[4.6062, 1.3617, 1.1285, 1.8549],\n",
       "          [4.6054, 0.7740, 1.2204, 1.3891],\n",
       "          [4.6139, 0.8501, 1.4005, 1.5466],\n",
       "          ...,\n",
       "          [4.6055, 0.7129, 1.1711, 1.3912],\n",
       "          [4.6193, 0.7997, 1.2700, 1.3920],\n",
       "          [4.6531, 0.8257, 1.3930, 1.3866]],\n",
       "\n",
       "         ...,\n",
       "\n",
       "         [[4.6151, 1.0653, 1.2644, 1.4858],\n",
       "          [4.6120, 0.7847, 1.2304, 1.5358],\n",
       "          [4.6097, 0.8560, 1.1747, 1.6515],\n",
       "          ...,\n",
       "          [4.6122, 1.4040, 1.1011, 1.3944],\n",
       "          [4.6138, 0.8793, 1.1207, 1.4099],\n",
       "          [4.6555, 0.9991, 2.1385, 1.6539]],\n",
       "\n",
       "         [[4.6170, 0.7693, 1.5436, 1.5795],\n",
       "          [4.6474, 1.3453, 1.0991, 2.0263],\n",
       "          [4.6782, 0.7445, 1.7705, 1.5261],\n",
       "          ...,\n",
       "          [4.6091, 1.2492, 1.0986, 1.3878],\n",
       "          [4.6062, 0.9485, 1.2800, 2.2615],\n",
       "          [4.6175, 0.8055, 2.0989, 1.4290]],\n",
       "\n",
       "         [[4.6157, 1.4543, 1.1711, 1.5928],\n",
       "          [4.6111, 1.5004, 1.1074, 1.5992],\n",
       "          [4.6076, 1.2130, 1.1524, 1.4631],\n",
       "          ...,\n",
       "          [4.6052, 1.3389, 1.0986, 1.3884],\n",
       "          [4.6068, 0.6946, 1.7096, 1.7685],\n",
       "          [4.6067, 1.6631, 1.1732, 1.5233]]],\n",
       "\n",
       "\n",
       "        [[[4.6660, 1.0514, 1.1029, 1.6691],\n",
       "          [4.6135, 0.6936, 1.0992, 1.3864],\n",
       "          [4.6187, 1.4847, 1.1233, 1.5438],\n",
       "          ...,\n",
       "          [4.6057, 0.8051, 1.1547, 1.5552],\n",
       "          [4.6054, 1.4188, 1.6817, 1.4520],\n",
       "          [4.6070, 1.0193, 1.5203, 1.5731]],\n",
       "\n",
       "         [[4.6104, 0.8627, 1.2424, 1.6552],\n",
       "          [4.6362, 0.6936, 1.2814, 1.3870],\n",
       "          [4.6086, 0.7137, 1.1000, 1.7536],\n",
       "          ...,\n",
       "          [4.6652, 1.5252, 1.1416, 1.3865],\n",
       "          [4.6063, 0.6943, 1.6772, 1.3900],\n",
       "          [4.6068, 1.6043, 1.5706, 1.4119]],\n",
       "\n",
       "         [[4.6082, 0.8140, 1.3381, 1.9399],\n",
       "          [4.6670, 0.7057, 1.1185, 1.4341],\n",
       "          [4.6780, 1.1683, 1.1505, 1.3886],\n",
       "          ...,\n",
       "          [4.6082, 0.7634, 1.2153, 1.6224],\n",
       "          [4.6122, 1.2459, 1.1054, 1.4191],\n",
       "          [4.6057, 1.2983, 1.2152, 1.4254]],\n",
       "\n",
       "         ...,\n",
       "\n",
       "         [[4.6068, 1.1083, 1.3437, 1.7719],\n",
       "          [4.6080, 1.3629, 1.3287, 1.8276],\n",
       "          [4.6136, 0.7004, 1.3352, 1.8814],\n",
       "          ...,\n",
       "          [4.6073, 0.7630, 1.3042, 1.5025],\n",
       "          [4.6246, 1.4578, 1.1212, 1.8394],\n",
       "          [4.6069, 1.5525, 1.1432, 1.6842]],\n",
       "\n",
       "         [[4.6073, 1.0403, 1.2847, 1.4089],\n",
       "          [4.6052, 1.8959, 1.3149, 1.6490],\n",
       "          [4.6054, 1.4675, 1.6129, 1.5799],\n",
       "          ...,\n",
       "          [4.6163, 1.1538, 1.4415, 1.6602],\n",
       "          [4.6094, 0.7062, 1.1832, 1.4096],\n",
       "          [4.6056, 0.7100, 1.5004, 1.3880]],\n",
       "\n",
       "         [[4.6096, 1.1670, 1.1078, 1.6410],\n",
       "          [4.6092, 1.4363, 1.1221, 1.6497],\n",
       "          [4.6067, 0.6958, 1.1003, 1.4968],\n",
       "          ...,\n",
       "          [4.6064, 1.0352, 1.1486, 1.4582],\n",
       "          [4.6272, 0.6979, 1.3034, 1.8516],\n",
       "          [4.6082, 0.7458, 1.4546, 1.7702]]]])"
      ]
     },
     "execution_count": 54,
     "metadata": {},
     "output_type": "execute_result"
    }
   ],
   "source": [
    "full_vol"
   ]
  },
  {
   "cell_type": "code",
   "execution_count": 55,
   "metadata": {},
   "outputs": [],
   "source": [
    "config = {\n",
    "    'first_feature_idx': 1,\n",
    "    'input_channels': 3}\n",
    "\n",
    "\n",
    "a = 0\n",
    "b = 1"
   ]
  },
  {
   "cell_type": "code",
   "execution_count": 58,
   "metadata": {},
   "outputs": [],
   "source": [
    "def norm_features(full_vol ,config, un_log = True, a = 0, b = 1) -> np.ndarray:\n",
    "\n",
    "    \"\"\"\n",
    "    Normalize the features of the volume. One by one to the range [a, b]. \n",
    "    \"\"\"\n",
    "    \n",
    "\n",
    "    first_feature_idx = config['first_feature_idx'] #config.first_feature_idx\n",
    "    last_feature_idx = first_feature_idx + config['input_channels'] - 1 #config.first_feature_idx + config.input_channels - 1\n",
    "\n",
    "\n",
    "    for i in range(first_feature_idx, last_feature_idx + 1):\n",
    "\n",
    "        feature = full_vol[:, :, :, i] \n",
    "\n",
    "        # if config.un_log:\n",
    "        #     feature = torch.exp(feature) - 1\n",
    "\n",
    "        feature_max = feature.max() # could make sure that we are not using information from the future.... But this is not a big deal... \n",
    "        feature_min = 0 #full_vol[:, :, :, i].min()\n",
    "\n",
    "        feature_norm = (b-a)*(feature - feature_min)/(feature_max-feature_min)+a\n",
    "\n",
    "        full_vol[:,:,:,i] = feature_norm\n",
    "\n",
    "    return full_vol"
   ]
  },
  {
   "cell_type": "code",
   "execution_count": null,
   "metadata": {},
   "outputs": [],
   "source": [
    "def norm_channels(tensor, config, un_log = True, a = 0, b = 1) -> torch.Tensor: # not reall a tensor now but an array...\n",
    "\n",
    "    \"\"\"\n",
    "    Normalizes the feature channels for a tensor  to the range [a, b].\n",
    "    Defualt is [-1, 1] to match the batch norm layers.\n",
    "    The input tensor is expected to have the shape [N, C, D, H, W]\n",
    "    Where N is the batch size, C is the number of timesteps, D is the features, H is the height and W is the width.   \n",
    "    \"\"\"\n",
    "\n",
    "    # if un_log:\n",
    "    #     tensor = torch.exp(tensor)\n",
    "\n",
    "    first_feature_idx = config['first_feature_idx'] #config.first_feature_idx\n",
    "    last_feature_idx = first_feature_idx + config['input_channels'] - 1 #config.first_feature_idx + config.input_channels - 1\n",
    "\n",
    "    min_list = []\n",
    "    max_list = []\n",
    "\n",
    "    for i in range(first_feature_idx, last_feature_idx + 1):\n",
    "        #min_list.append(np.min(tensor[ :, :, :, i]))\n",
    "        max_list.append(np.max(tensor[ :, :, :, i]))\n",
    "\n",
    "    # norm_tensor = (b-a)*(tensor - tensor.min())/(tensor.max()-tensor.min())+a\n",
    "\n",
    "    norm_tensor = (b-a)*(tensor - 0)/(8-0)+a # 8 just hardcoded until later...."
   ]
  },
  {
   "cell_type": "code",
   "execution_count": null,
   "metadata": {},
   "outputs": [],
   "source": []
  },
  {
   "cell_type": "code",
   "execution_count": null,
   "metadata": {},
   "outputs": [],
   "source": []
  },
  {
   "cell_type": "code",
   "execution_count": null,
   "metadata": {},
   "outputs": [],
   "source": []
  },
  {
   "cell_type": "code",
   "execution_count": null,
   "metadata": {},
   "outputs": [],
   "source": []
  },
  {
   "cell_type": "code",
   "execution_count": null,
   "metadata": {},
   "outputs": [],
   "source": []
  },
  {
   "cell_type": "code",
   "execution_count": null,
   "metadata": {},
   "outputs": [],
   "source": []
  },
  {
   "cell_type": "code",
   "execution_count": null,
   "metadata": {},
   "outputs": [],
   "source": []
  },
  {
   "cell_type": "code",
   "execution_count": null,
   "metadata": {},
   "outputs": [],
   "source": []
  },
  {
   "cell_type": "code",
   "execution_count": null,
   "metadata": {},
   "outputs": [],
   "source": []
  },
  {
   "cell_type": "code",
   "execution_count": 11,
   "metadata": {},
   "outputs": [],
   "source": [
    "def norm_channels(tensor, config, pre_logged = True, a = -1, b = 1) -> torch.Tensor:\n",
    "\n",
    "    \"\"\"\n",
    "    Normalizes the feature channels for a tensor  to the range [a, b].\n",
    "    Defualt is [-1, 1] to match the batch norm layers.\n",
    "    The input tensor is expected to have the shape [N, C, D, H, W]\n",
    "    Where N is the batch size, C is the number of timesteps, D is the features, H is the height and W is the width.   \n",
    "    \"\"\"\n",
    "\n",
    "    if pre_logged:\n",
    "        tensor = torch.exp(tensor)\n",
    "\n",
    "    first_feature_idx = config['first_feature_idx'] #config.first_feature_idx\n",
    "    last_feature_idx = config['first_feature_idx'] + config['input_channels'] - 1 #config.first_feature_idx + config.input_channels - 1\n",
    "\n",
    "    min_list = []\n",
    "    max_list = []\n",
    "\n",
    "    for i in range(first_feature_idx, last_feature_idx + 1):\n",
    "        min_list.append(torch.min(tensor[:, :, i, :, :]))\n",
    "        max_list.append(torch.max(tensor[:, :, i, :, :]))\n",
    "\n",
    "    norm_tensor = (b-a)*(tensor - tensor.min())/(tensor.max()-tensor.min())+a\n",
    "    \n",
    "    return norm_tensor\n"
   ]
  },
  {
   "cell_type": "code",
   "execution_count": 12,
   "metadata": {},
   "outputs": [],
   "source": [
    "logged_norm = norm_channels(log_full_vol, config, pre_logged = True, a = 0, b = 1)"
   ]
  },
  {
   "cell_type": "code",
   "execution_count": 13,
   "metadata": {},
   "outputs": [
    {
     "name": "stdout",
     "output_type": "stream",
     "text": [
      "tensor(1.)\n",
      "tensor(0.)\n"
     ]
    }
   ],
   "source": [
    "print(logged_norm.max())\n",
    "print(logged_norm.min())"
   ]
  },
  {
   "cell_type": "code",
   "execution_count": 5,
   "metadata": {},
   "outputs": [
    {
     "name": "stdout",
     "output_type": "stream",
     "text": [
      "tensor(1.)\n",
      "tensor(-1.)\n"
     ]
    }
   ],
   "source": [
    "norm_sub_vol = norm_channels(sub_vol, config, pre_logged = True)\n",
    "\n",
    "print(norm_sub_vol.max())\n",
    "print(norm_sub_vol.min())"
   ]
  },
  {
   "cell_type": "code",
   "execution_count": null,
   "metadata": {},
   "outputs": [],
   "source": []
  },
  {
   "cell_type": "code",
   "execution_count": null,
   "metadata": {},
   "outputs": [],
   "source": []
  },
  {
   "cell_type": "code",
   "execution_count": null,
   "metadata": {},
   "outputs": [],
   "source": [
    "def norm(x, a = 0, b = 1):\n",
    "\n",
    "    \"\"\"Return a normalized x in range [a:b]. Default is [0:1]\"\"\"\n",
    "    x_norm = (b-a)*(x - x.min())/(x.max()-x.min())+a\n",
    "    return(x_norm)"
   ]
  },
  {
   "cell_type": "code",
   "execution_count": null,
   "metadata": {},
   "outputs": [],
   "source": [
    "config.first_feature_idx"
   ]
  },
  {
   "cell_type": "code",
   "execution_count": null,
   "metadata": {},
   "outputs": [],
   "source": []
  },
  {
   "cell_type": "code",
   "execution_count": null,
   "metadata": {},
   "outputs": [],
   "source": []
  },
  {
   "cell_type": "code",
   "execution_count": null,
   "metadata": {},
   "outputs": [],
   "source": []
  },
  {
   "cell_type": "code",
   "execution_count": null,
   "metadata": {},
   "outputs": [],
   "source": [
    "# Assuming you have a tensor with dimensions H x W x C\n",
    "tensor = torch.rand(180, 180, 3)  # Replace this with your actual tensor\n",
    "\n",
    "# Calculate maximum and minimum values for each channel (C dimension)\n",
    "max_values, _ = torch.max(tensor, dim=(0, 1))  # Max values for each channel\n",
    "min_values, _ = torch.min(tensor, dim=(0, 1))  # Min values for each channel\n"
   ]
  },
  {
   "cell_type": "code",
   "execution_count": null,
   "metadata": {},
   "outputs": [],
   "source": [
    "max_values.shape"
   ]
  },
  {
   "cell_type": "code",
   "execution_count": null,
   "metadata": {},
   "outputs": [],
   "source": [
    "batch_size = 3\n",
    "seq_len = 300\n",
    "window_size = 180\n",
    " \n",
    "\n",
    "Q  =  torch.randn(batch_size, seq_len, window_size, window_size)\n",
    "Q.shape"
   ]
  },
  {
   "cell_type": "code",
   "execution_count": null,
   "metadata": {},
   "outputs": [],
   "source": [
    "Q = torch.tensor([[[1,1,1],[1,1,1],[1,1,1]],[[2,2,2],[2,2,2],[2,2,2]],[[3,3,3],[3,3,3],[3,3,3]]])"
   ]
  },
  {
   "cell_type": "code",
   "execution_count": null,
   "metadata": {},
   "outputs": [],
   "source": [
    "torch.max(Q, dim=2)"
   ]
  },
  {
   "cell_type": "code",
   "execution_count": null,
   "metadata": {},
   "outputs": [],
   "source": [
    "torhc.max(Q, dim)"
   ]
  },
  {
   "cell_type": "code",
   "execution_count": null,
   "metadata": {},
   "outputs": [],
   "source": [
    "min_max_values"
   ]
  },
  {
   "cell_type": "code",
   "execution_count": null,
   "metadata": {},
   "outputs": [],
   "source": [
    "WarmupDecayLearningRateScheduler?"
   ]
  },
  {
   "cell_type": "code",
   "execution_count": null,
   "metadata": {},
   "outputs": [],
   "source": [
    "lr_list = []\n",
    "model = [torch.nn.Parameter(torch.randn(2, 2, requires_grad=True))]\n",
    "LR = 0.001\n",
    "optimizer = torch.optim.Adam(model,lr = LR)\n",
    "\n",
    "samples = 10000\n",
    "\n",
    "\n",
    "# ---------------------------\n",
    "\n",
    "scheduler = WarmupDecayLearningRateScheduler(optimizer, 32*32*3, 100)\n",
    "for epoch in range(samples):\n",
    "    data_size = 40\n",
    "    for i in range(data_size):\n",
    "        optimizer.step()\n",
    "    scheduler.step()\n",
    "    lr_list.append(optimizer.state_dict()['param_groups'][0]['lr'])\n",
    "\n",
    "plt.plot(range(samples),lr_list,color = 'r')\n",
    "plt.hlines(y=0,xmin=0, xmax=samples,  colors = \"c\",linestyles = \"dashed\")\n",
    "plt.show()"
   ]
  },
  {
   "cell_type": "code",
   "execution_count": null,
   "metadata": {},
   "outputs": [],
   "source": [
    "lr_list = []\n",
    "model = [torch.nn.Parameter(torch.randn(2, 2, requires_grad=True))]\n",
    "LR = 0.001\n",
    "optimizer = torch.optim.Adam(model,lr = LR)\n",
    "\n",
    "samples = 300\n",
    "\n",
    "\n",
    "# ---------------------------\n",
    "\n",
    "scheduler = torch.optim.lr_scheduler.CosineAnnealingLR(optimizer, T_max = samples*0.04, eta_min = 0.00005)\n",
    "for epoch in range(samples):\n",
    "    data_size = 40\n",
    "    for i in range(data_size):\n",
    "        optimizer.step()\n",
    "    scheduler.step()\n",
    "    lr_list.append(optimizer.state_dict()['param_groups'][0]['lr'])\n",
    "\n",
    "plt.plot(range(samples),lr_list,color = 'r')\n",
    "plt.hlines(y=0,xmin=0, xmax=samples,  colors = \"c\",linestyles = \"dashed\")\n",
    "plt.show()"
   ]
  },
  {
   "cell_type": "code",
   "execution_count": null,
   "metadata": {},
   "outputs": [],
   "source": []
  },
  {
   "cell_type": "code",
   "execution_count": null,
   "metadata": {},
   "outputs": [],
   "source": []
  },
  {
   "cell_type": "code",
   "execution_count": null,
   "metadata": {},
   "outputs": [],
   "source": []
  },
  {
   "cell_type": "code",
   "execution_count": null,
   "metadata": {},
   "outputs": [],
   "source": []
  },
  {
   "cell_type": "code",
   "execution_count": null,
   "metadata": {},
   "outputs": [],
   "source": []
  },
  {
   "cell_type": "code",
   "execution_count": null,
   "metadata": {},
   "outputs": [],
   "source": []
  },
  {
   "cell_type": "code",
   "execution_count": null,
   "metadata": {},
   "outputs": [],
   "source": [
    "batch_size = 3\n",
    "seq_len = 300\n",
    "d_model = 1000\n",
    " \n",
    "\n",
    "Q  =  torch.randn(batch_size, seq_len, d_model)\n",
    "print(Q.shape)\n",
    "\n",
    "\n",
    "\n",
    "n_head = 2\n",
    "\n",
    "Q = Q.view(batch_size, seq_len, n_head, -1).permute(0, 2, 1, 3)\n",
    "print(Q.shape)\n",
    "\n"
   ]
  },
  {
   "cell_type": "code",
   "execution_count": null,
   "metadata": {},
   "outputs": [],
   "source": [
    "np.exp(np.log(9))"
   ]
  },
  {
   "cell_type": "code",
   "execution_count": null,
   "metadata": {},
   "outputs": [],
   "source": [
    "\n",
    "torch.exp(torch.log(torch.tensor(9.0)+1))-1"
   ]
  },
  {
   "cell_type": "code",
   "execution_count": null,
   "metadata": {},
   "outputs": [],
   "source": [
    "def small_test(x,y) -> torch.Tensor:\n",
    "    return x+y"
   ]
  },
  {
   "cell_type": "code",
   "execution_count": null,
   "metadata": {},
   "outputs": [],
   "source": [
    "z = small_test(1, 2)\n",
    "\n",
    "type(z)"
   ]
  },
  {
   "cell_type": "code",
   "execution_count": null,
   "metadata": {},
   "outputs": [],
   "source": [
    "small_test?"
   ]
  },
  {
   "cell_type": "code",
   "execution_count": null,
   "metadata": {},
   "outputs": [],
   "source": []
  },
  {
   "cell_type": "code",
   "execution_count": null,
   "metadata": {},
   "outputs": [],
   "source": []
  },
  {
   "cell_type": "code",
   "execution_count": null,
   "metadata": {},
   "outputs": [],
   "source": [
    "# Create a tensor of size [1, 10, 32, 32]\n",
    "hc = torch.randn(1, 10, 32, 32)\n",
    "\n",
    "split = int(hc.shape[1]/2) # half of the second dimension wich is channels\n",
    "\n",
    "# Split the tensor along dimension 1\n",
    "split_tensors = torch.split(hc, split, dim=1)\n",
    "\n",
    "# The result will be a tuple of two tensors\n",
    "h0, c0 = split_tensors\n",
    "\n",
    "# Print the sizes of the split tensors\n",
    "print(h.size())  # torch.Size([1, 5, 32, 32])\n",
    "print(c.size())  # torch.Size([1, 5, 32, 32])"
   ]
  },
  {
   "cell_type": "code",
   "execution_count": null,
   "metadata": {},
   "outputs": [],
   "source": [
    "c0 = c0 * 0 "
   ]
  },
  {
   "cell_type": "code",
   "execution_count": null,
   "metadata": {},
   "outputs": [],
   "source": [
    "hc = torch.cat([h0, c0], 1) "
   ]
  },
  {
   "cell_type": "code",
   "execution_count": null,
   "metadata": {},
   "outputs": [],
   "source": [
    "# Split the tensor along dimension 1\n",
    "split_tensors = torch.split(hc, split, dim=1)\n",
    "\n",
    "# The result will be a tuple of two tensors\n",
    "h1, c1 = split_tensors\n",
    "\n",
    "# Print the sizes of the split tensors\n",
    "print(h1.size())  # torch.Size([1, 5, 32, 32])\n",
    "print(c1.size())  # torch.Size([1, 5, 32, 32])"
   ]
  },
  {
   "cell_type": "code",
   "execution_count": null,
   "metadata": {},
   "outputs": [],
   "source": [
    "h0 == h1"
   ]
  },
  {
   "cell_type": "code",
   "execution_count": null,
   "metadata": {},
   "outputs": [],
   "source": []
  },
  {
   "cell_type": "code",
   "execution_count": null,
   "metadata": {},
   "outputs": [],
   "source": []
  },
  {
   "cell_type": "code",
   "execution_count": null,
   "metadata": {},
   "outputs": [],
   "source": []
  },
  {
   "cell_type": "code",
   "execution_count": null,
   "metadata": {},
   "outputs": [],
   "source": []
  },
  {
   "cell_type": "code",
   "execution_count": null,
   "metadata": {},
   "outputs": [],
   "source": []
  },
  {
   "cell_type": "code",
   "execution_count": null,
   "metadata": {},
   "outputs": [],
   "source": []
  },
  {
   "cell_type": "code",
   "execution_count": null,
   "metadata": {},
   "outputs": [],
   "source": [
    "h.shape"
   ]
  },
  {
   "cell_type": "code",
   "execution_count": null,
   "metadata": {},
   "outputs": [],
   "source": [
    "tensor2.shape"
   ]
  },
  {
   "cell_type": "code",
   "execution_count": null,
   "metadata": {},
   "outputs": [],
   "source": [
    "hc = torch.zeros((1,10,32,32), dtype= torch.float64)\n",
    "\n"
   ]
  },
  {
   "cell_type": "code",
   "execution_count": null,
   "metadata": {},
   "outputs": [],
   "source": [
    "input_tensor.shape"
   ]
  },
  {
   "cell_type": "code",
   "execution_count": null,
   "metadata": {},
   "outputs": [],
   "source": [
    "hc.shape"
   ]
  },
  {
   "cell_type": "code",
   "execution_count": null,
   "metadata": {},
   "outputs": [],
   "source": [
    "channels = hc.shape[1]\n",
    "split = int(channels/2)\n",
    "\n",
    "# Split the tensor along dimension 1\n",
    "split_tensors = torch.split(hc, split, dim=1)\n",
    "\n",
    "c.shape, h.shape"
   ]
  },
  {
   "cell_type": "code",
   "execution_count": null,
   "metadata": {},
   "outputs": [],
   "source": [
    "channels"
   ]
  },
  {
   "cell_type": "code",
   "execution_count": null,
   "metadata": {},
   "outputs": [],
   "source": []
  },
  {
   "cell_type": "code",
   "execution_count": null,
   "metadata": {},
   "outputs": [],
   "source": [
    "kernel_size = 3\n",
    "padding = kernel_size // 2"
   ]
  },
  {
   "cell_type": "code",
   "execution_count": null,
   "metadata": {},
   "outputs": [],
   "source": [
    "padding"
   ]
  },
  {
   "cell_type": "code",
   "execution_count": null,
   "metadata": {},
   "outputs": [],
   "source": [
    "base = 10\n",
    "dim = 2\n",
    "\n",
    "cube = base**dim\n",
    "\n",
    "print(np.sqrt(cube)) # assuming dim is 2\n",
    "print(np.log10(cube)) # assuming base is 10"
   ]
  },
  {
   "cell_type": "code",
   "execution_count": null,
   "metadata": {},
   "outputs": [],
   "source": [
    "lr_list = []\n",
    "model = [torch.nn.Parameter(torch.randn(2, 2, requires_grad=True))]\n",
    "LR = 0.001\n",
    "optimizer = torch.optim.Adam(model,lr = LR)\n",
    "\n",
    "samples = 300\n",
    "\n",
    "\n",
    "# ---------------------------\n",
    "\n",
    "scheduler = torch.optim.lr_scheduler.CosineAnnealingLR(optimizer, T_max = samples*0.04, eta_min = 0.00005)\n",
    "for epoch in range(samples):\n",
    "    data_size = 40\n",
    "    for i in range(data_size):\n",
    "        optimizer.step()\n",
    "    scheduler.step()\n",
    "    lr_list.append(optimizer.state_dict()['param_groups'][0]['lr'])\n",
    "\n",
    "plt.plot(range(samples),lr_list,color = 'r')\n",
    "plt.hlines(y=0,xmin=0, xmax=samples,  colors = \"c\",linestyles = \"dashed\")\n",
    "plt.show()"
   ]
  },
  {
   "cell_type": "code",
   "execution_count": null,
   "metadata": {},
   "outputs": [],
   "source": []
  },
  {
   "cell_type": "code",
   "execution_count": null,
   "metadata": {},
   "outputs": [],
   "source": []
  },
  {
   "cell_type": "code",
   "execution_count": null,
   "metadata": {},
   "outputs": [],
   "source": []
  },
  {
   "cell_type": "code",
   "execution_count": null,
   "metadata": {},
   "outputs": [],
   "source": []
  },
  {
   "cell_type": "code",
   "execution_count": null,
   "metadata": {},
   "outputs": [],
   "source": []
  },
  {
   "cell_type": "code",
   "execution_count": null,
   "metadata": {},
   "outputs": [],
   "source": []
  },
  {
   "cell_type": "code",
   "execution_count": null,
   "metadata": {},
   "outputs": [],
   "source": []
  },
  {
   "cell_type": "code",
   "execution_count": null,
   "metadata": {},
   "outputs": [],
   "source": [
    "class ConvLSTMCell(nn.Module):\n",
    "    def __init__(self, input_channels, hidden_channels, kernel_size):\n",
    "        super(ConvLSTMCell, self).__init__()\n",
    "        self.input_channels = input_channels\n",
    "        self.hidden_channels = hidden_channels\n",
    "        self.kernel_size = kernel_size\n",
    "        padding = kernel_size // 2\n",
    "\n",
    "        # Input gate\n",
    "        self.Wxi = nn.Conv2d(input_channels, hidden_channels, kernel_size, padding=padding)\n",
    "        self.Whi = nn.Conv2d(hidden_channels, hidden_channels, kernel_size, padding=padding)\n",
    "        self.Wxf = nn.Conv2d(input_channels, hidden_channels, kernel_size, padding=padding)\n",
    "        self.Whf = nn.Conv2d(hidden_channels, hidden_channels, kernel_size, padding=padding)\n",
    "        self.Wxc = nn.Conv2d(input_channels, hidden_channels, kernel_size, padding=padding)\n",
    "        self.Whc = nn.Conv2d(hidden_channels, hidden_channels, kernel_size, padding=padding)\n",
    "        self.Wxo = nn.Conv2d(input_channels, hidden_channels, kernel_size, padding=padding)\n",
    "        self.Who = nn.Conv2d(hidden_channels, hidden_channels, kernel_size, padding=padding)\n",
    "\n",
    "    def forward(self, x, hidden):\n",
    "        h, c = hidden\n",
    "\n",
    "        # Input gate\n",
    "        i_t = torch.sigmoid(self.Wxi(x) + self.Whi(h))\n",
    "        # Forget gate\n",
    "        f_t = torch.sigmoid(self.Wxf(x) + self.Whf(h))\n",
    "        # Cell state\n",
    "        c_tilde = torch.tanh(self.Wxc(x) + self.Whc(h))\n",
    "        c = f_t * c + i_t * c_tilde\n",
    "        # Output gate\n",
    "        o_t = torch.sigmoid(self.Wxo(x) + self.Who(h))\n",
    "        h = o_t * torch.tanh(c)\n",
    "\n",
    "        return h, c\n",
    "\n",
    "# Example usage\n",
    "input_channels = 3\n",
    "hidden_channels = 10\n",
    "kernel_size = 3\n",
    "cell = ConvLSTMCell(input_channels, hidden_channels, kernel_size)\n",
    "x = torch.randn(1, input_channels, 32, 32)\n",
    "hidden_state = (torch.randn(1, hidden_channels, 32, 32), torch.randn(1, hidden_channels, 32, 32))\n",
    "\n",
    "output, new_hidden_state = cell(x, hidden_state)\n"
   ]
  },
  {
   "cell_type": "code",
   "execution_count": null,
   "metadata": {},
   "outputs": [],
   "source": [
    "output.shape"
   ]
  },
  {
   "cell_type": "code",
   "execution_count": null,
   "metadata": {},
   "outputs": [],
   "source": [
    "#input = np.random.randint(1,21,[5,5,5])\n",
    "#input = torch.from_numpy(X)\n",
    "\n",
    "B = 1\n",
    "C = 3\n",
    "H = 5\n",
    "W = 5 \n",
    "\n",
    "input = torch.randn(1,3,3,5,5)\n",
    "m = nn.Linear(5, 5, bias=False)\n",
    "output = m(input)\n",
    "print(output.size())\n",
    "\n"
   ]
  },
  {
   "cell_type": "code",
   "execution_count": null,
   "metadata": {},
   "outputs": [],
   "source": [
    "input"
   ]
  },
  {
   "cell_type": "code",
   "execution_count": null,
   "metadata": {},
   "outputs": [],
   "source": [
    "output"
   ]
  },
  {
   "cell_type": "code",
   "execution_count": null,
   "metadata": {},
   "outputs": [],
   "source": [
    "input"
   ]
  },
  {
   "cell_type": "code",
   "execution_count": null,
   "metadata": {},
   "outputs": [],
   "source": [
    "m = nn.Linear((3,5), (3,5))\n",
    "#input = torch.randn(128, 20)\n",
    "output = m(input)\n",
    "print(output.size())"
   ]
  },
  {
   "cell_type": "code",
   "execution_count": null,
   "metadata": {},
   "outputs": [],
   "source": []
  },
  {
   "cell_type": "code",
   "execution_count": null,
   "metadata": {},
   "outputs": [],
   "source": [
    "X = np.random.randint(1,21,[5,5,5])\n",
    "X_tensor = torch.tensor(X)"
   ]
  },
  {
   "cell_type": "code",
   "execution_count": null,
   "metadata": {},
   "outputs": [],
   "source": [
    "X_tensor = torch.tensor(X)"
   ]
  },
  {
   "cell_type": "code",
   "execution_count": null,
   "metadata": {},
   "outputs": [],
   "source": [
    "X_tensor"
   ]
  },
  {
   "cell_type": "code",
   "execution_count": null,
   "metadata": {},
   "outputs": [],
   "source": [
    "criterion_reg = nn.MSELoss()\n",
    "criterion_class = nn.BCELoss()"
   ]
  },
  {
   "cell_type": "code",
   "execution_count": null,
   "metadata": {},
   "outputs": [],
   "source": [
    "class FocalLoss(nn.Module):\n",
    "    def __init__(\n",
    "            self,\n",
    "            weight=None,\n",
    "            gamma=2.0,\n",
    "            reduction='mean'\n",
    "    ):\n",
    "        nn.Module.__init__(self)\n",
    "        self.weight = weight\n",
    "        self.gamma = gamma\n",
    "        self.reduction = reduction\n",
    "\n",
    "    def forward(self, input_tensor, target_tensor):\n",
    "        log_prob = torch.sigmoid(input_tensor)\n",
    "        prob = torch.exp(log_prob)\n",
    "        \n",
    "        term = ((1.0 - prob) ** self.gamma) * log_prob\n",
    "        return F.nll_loss(term, target_tensor)\n",
    "        \n",
    "        #return F.nll_loss(term, target_tensor, weight=self.weight, reduction=self.reduction)\n",
    "        "
   ]
  },
  {
   "cell_type": "code",
   "execution_count": null,
   "metadata": {},
   "outputs": [],
   "source": [
    "class FocalLoss01(nn.Module):\n",
    "\n",
    "    def __init__(self, gamma=0, weight=None, size_average=True):\n",
    "        super(FocalLoss01, self).__init__()\n",
    "\n",
    "        self.gamma = gamma\n",
    "        self.weight = weight\n",
    "        self.size_average = size_average\n",
    "\n",
    "    def forward(self, input, target):\n",
    "        if input.dim()>2:\n",
    "            input = input.contiguous().view(input.size(0), input.size(1), -1)\n",
    "            input = input.transpose(1,2)\n",
    "            input = input.contiguous().view(-1, input.size(2)).squeeze()\n",
    "        if target.dim()==4:\n",
    "            target = target.contiguous().view(target.size(0), target.size(1), -1)\n",
    "            target = target.transpose(1,2)\n",
    "            target = target.contiguous().view(-1, target.size(2)).squeeze()\n",
    "        elif target.dim()==3:\n",
    "            target = target.view(-1)\n",
    "        else:\n",
    "            target = target.view(-1, 1)\n",
    "\n",
    "        # compute the negative likelyhood\n",
    "        weight = Variable(self.weight)\n",
    "        logpt = -F.cross_entropy(input, target)\n",
    "        pt = torch.exp(logpt)\n",
    "\n",
    "        # compute the loss\n",
    "        loss = -((1-pt)**self.gamma) * logpt\n",
    "\n",
    "        # averaging (or not) loss\n",
    "        if self.size_average:\n",
    "            return loss.mean()\n",
    "        else:\n",
    "            return loss.sum()"
   ]
  },
  {
   "cell_type": "code",
   "execution_count": null,
   "metadata": {},
   "outputs": [],
   "source": [
    "class FocalLoss02(nn.Module):\n",
    "\n",
    "    def __init__(self, gamma=0, weight=None, size_average=True):\n",
    "        super(FocalLoss02, self).__init__()\n",
    "\n",
    "        self.gamma = gamma\n",
    "        self.weight = weight\n",
    "        self.size_average = size_average\n",
    "\n",
    "    def forward(self, input, target):\n",
    "        # if input.dim()>2:\n",
    "        #     input = input.contiguous().view(input.size(0), input.size(1), -1)\n",
    "        #     input = input.transpose(1,2)\n",
    "        #     input = input.contiguous().view(-1, input.size(2)).squeeze()\n",
    "        # if target.dim()==4:\n",
    "        #     target = target.contiguous().view(target.size(0), target.size(1), -1)\n",
    "        #     target = target.transpose(1,2)\n",
    "        #     target = target.contiguous().view(-1, target.size(2)).squeeze()\n",
    "        # elif target.dim()==3:\n",
    "        #     target = target.view(-1)\n",
    "        # else:\n",
    "        #     target = target.view(-1, 1)\n",
    "\n",
    "        input, target = input.unsqueeze(0), target.unsqueeze(0)\n",
    "\n",
    "        # compute.unsqueeze(0)F.cross_entropy(input, target)\n",
    "        logpt = -F.cross_entropy(input, target)\n",
    "        pt = torch.exp(logpt)\n",
    "\n",
    "        # compute the loss\n",
    "        loss = -((1-pt)**self.gamma) * logpt\n",
    "\n",
    "        # averaging (or not) loss\n",
    "        if self.size_average:\n",
    "            return loss.mean()\n",
    "        else:\n",
    "            return loss.sum()"
   ]
  },
  {
   "cell_type": "code",
   "execution_count": null,
   "metadata": {},
   "outputs": [],
   "source": [
    "class FocalLoss03(nn.Module):\n",
    "\n",
    "    def __init__(self, gamma=0, alpha=1, size_average=True):\n",
    "        super(FocalLoss03, self).__init__()\n",
    "\n",
    "        self.gamma = gamma\n",
    "        self.alpha = alpha\n",
    "        self.size_average = size_average\n",
    "\n",
    "    def forward(self, input, target):\n",
    "\n",
    "        input, target = input.unsqueeze(0), target.unsqueeze(0)\n",
    "\n",
    "        # compute.unsqueeze(0)F.cross_entropy(input, target)\n",
    "        p = 1/(1+np.exp(-input))\n",
    "        loss = -( self.alpha*target + (1-self.alpha)*(1-target) ) * (( 1 - ( target*p + (1-target)*(1-p)) )**self.gamma) * ( target*np.log(p)+(1-target)*np.log(1-p) )\n",
    "\n",
    "        # averaging (or not) loss\n",
    "        if self.size_average:\n",
    "            return loss.mean()\n",
    "        else:\n",
    "            return loss.sum()"
   ]
  },
  {
   "cell_type": "code",
   "execution_count": null,
   "metadata": {},
   "outputs": [],
   "source": [
    "class FocalLoss04(nn.Module):\n",
    "\n",
    "    def __init__(self, gamma=0, alpha=1, size_average=True):\n",
    "        super(FocalLoss04, self).__init__()\n",
    "\n",
    "        self.gamma = gamma\n",
    "        self.alpha = alpha\n",
    "        self.size_average = size_average\n",
    "\n",
    "    def forward(self, input, target):\n",
    "        \n",
    "        input, target = input.unsqueeze(0), target.unsqueeze(0)\n",
    "\n",
    "        loss = -(target * np.log(input) + (1-target) * np.log(1-input)) #BCE\n",
    "\n",
    "        # averaging (or not) loss\n",
    "        if self.size_average:\n",
    "            return loss.mean()\n",
    "        else:\n",
    "            return loss.sum()"
   ]
  },
  {
   "cell_type": "code",
   "execution_count": null,
   "metadata": {},
   "outputs": [],
   "source": [
    "class FocalLoss05(nn.Module):\n",
    "\n",
    "    def __init__(self, gamma=0, alpha=1, size_average=True):\n",
    "        super(FocalLoss05, self).__init__()\n",
    "\n",
    "        self.gamma = gamma\n",
    "        self.alpha = alpha\n",
    "        self.size_average = size_average\n",
    "\n",
    "    def forward(self, input, target):\n",
    "\n",
    "        input, target = input.unsqueeze(0), target.unsqueeze(0)\n",
    "        input = torch.clamp(input, min = np.exp(-100)) # so we do not log(0)\n",
    "\n",
    "        logpt = (target * np.log(input) + (1-target) * np.log(1-input))\n",
    "        loss = -self.alpha * ((1-np.exp(logpt))**self.gamma) * logpt # for gamma = 0 and alpha = 1 we get the BCELoss\n",
    "\n",
    "        # averaging (or not) loss\n",
    "        if self.size_average:\n",
    "            return loss.mean()\n",
    "        else:\n",
    "            return loss.sum()"
   ]
  },
  {
   "cell_type": "code",
   "execution_count": null,
   "metadata": {},
   "outputs": [],
   "source": [
    "# BEST!!!\n",
    "\n",
    "class FocalLoss05(nn.Module):\n",
    "\n",
    "    def __init__(self, gamma=0, alpha=1, size_average=True):\n",
    "        super(FocalLoss05, self).__init__()\n",
    "\n",
    "        self.gamma = gamma\n",
    "        self.alpha = alpha\n",
    "        self.size_average = size_average\n",
    "\n",
    "    def forward(self, input, target):\n",
    "\n",
    "        input, target = input.unsqueeze(0), target.unsqueeze(0)\n",
    "        input = torch.clamp(input, min = np.exp(-100)) # so we do not log(0)\n",
    "\n",
    "        logpt = (target * np.log(input) + (1-target) * np.log(1-input))\n",
    "        loss = -self.alpha * ((1-np.exp(logpt))**self.gamma) * logpt # for gamma = 0 and alpha = 1 we get the BCELoss\n",
    "\n",
    "        # averaging (or not) loss\n",
    "        if self.size_average:\n",
    "            return loss.mean()\n",
    "        else:\n",
    "            return loss.sum()"
   ]
  },
  {
   "cell_type": "code",
   "execution_count": null,
   "metadata": {},
   "outputs": [],
   "source": [
    "class FocalLossClass(nn.Module):\n",
    "\n",
    "    def __init__(self, gamma=0, alpha=1, size_average=True):\n",
    "        super(FocalLossClass, self).__init__()\n",
    "\n",
    "        self.gamma = gamma\n",
    "        self.alpha = alpha\n",
    "        self.size_average = size_average\n",
    "\n",
    "    def forward(self, input, target):\n",
    "\n",
    "        input, target = input.unsqueeze(0), target.unsqueeze(0)\n",
    "        input = torch.clamp(input, min = torch.exp(torch.tensor(-100))) # so we do not log(0)\n",
    "\n",
    "        logpt = (target * torch.log(input) + (1-target) * torch.log(1-input))\n",
    "        loss = -self.alpha * ((1-torch.exp(logpt))**self.gamma) * logpt # for gamma = 0 and alpha = 1 we get the BCELoss\n",
    "\n",
    "        # averaging (or not) loss\n",
    "        if self.size_average:\n",
    "            return loss.mean()\n",
    "        else:\n",
    "            return loss.sum()"
   ]
  },
  {
   "cell_type": "code",
   "execution_count": null,
   "metadata": {},
   "outputs": [],
   "source": []
  },
  {
   "cell_type": "code",
   "execution_count": null,
   "metadata": {},
   "outputs": [],
   "source": []
  },
  {
   "cell_type": "code",
   "execution_count": null,
   "metadata": {},
   "outputs": [],
   "source": []
  },
  {
   "cell_type": "code",
   "execution_count": null,
   "metadata": {},
   "outputs": [],
   "source": []
  },
  {
   "cell_type": "code",
   "execution_count": null,
   "metadata": {},
   "outputs": [],
   "source": []
  },
  {
   "cell_type": "code",
   "execution_count": null,
   "metadata": {},
   "outputs": [],
   "source": []
  },
  {
   "cell_type": "code",
   "execution_count": null,
   "metadata": {},
   "outputs": [],
   "source": [
    "# #WORKS!\n",
    "# class BalancedFocalLossClass(nn.Module):\n",
    "\n",
    "#     def __init__(self, gamma=0, alpha=0.5, size_average=True):\n",
    "#         super(BalancedFocalLossClass, self).__init__()\n",
    "\n",
    "#         self.gamma = gamma\n",
    "#         self.alpha = alpha\n",
    "#         self.size_average = size_average\n",
    "\n",
    "#     def forward(self, input, target):\n",
    "\n",
    "#         input, target = input.unsqueeze(0), target.unsqueeze(0)\n",
    "#         input = torch.clamp(input, min = torch.exp(torch.tensor(-100))) # so we do not log(0)\n",
    "\n",
    "#         pos = (-self.alpha * (1-input)**self.gamma * torch.log(input))\n",
    "#         neg = (-(1-self.alpha) * (1-1-input)**self.gamma *  torch.log(1-input))\n",
    "\n",
    "#         #pos = ( (1-input)**self.gamma * torch.log(input))\n",
    "#         #neg = ( (input)**self.gamma *  torch.log(1-input))\n",
    "\n",
    "#         loss = -(pos * target + neg * (1-target))\n",
    "\n",
    "#         # averaging (or not) loss\n",
    "#         if self.size_average:\n",
    "#             return loss.mean()\n",
    "#         else:\n",
    "#             return loss.sum()"
   ]
  },
  {
   "cell_type": "code",
   "execution_count": null,
   "metadata": {},
   "outputs": [],
   "source": [
    "# class BalancedFocalLossClass(nn.Module):\n",
    "\n",
    "#     def __init__(self, gamma=0, alpha=0.5, size_average=True):\n",
    "#         super(BalancedFocalLossClass, self).__init__()\n",
    "\n",
    "#         self.gamma = gamma\n",
    "#         self.alpha = alpha\n",
    "#         self.size_average = size_average\n",
    "\n",
    "#     def forward(self, input, target):\n",
    "\n",
    "#         input, target = input.unsqueeze(0), target.unsqueeze(0)\n",
    "        \n",
    "\n",
    "#         #for logits\n",
    "#         # pos = (-self.alpha * (1-F.sigmoid(input))**self.gamma * F.logsigmoid(input))\n",
    "#         # neg = (-(1-self.alpha) * (-F.sigmoid(input))**self.gamma *  F.logsigmoid(1-input))\n",
    "#         # loss = (pos * target + neg * (1-target))\n",
    "\n",
    "#         # for probs\n",
    "#         input = torch.clamp(input, min = torch.exp(torch.tensor(-100))) # so we do not log(0)\n",
    "#         pos = (-self.alpha * (1-input)**self.gamma * torch.log(input))\n",
    "#         neg = (-(1-self.alpha) * (1-1-input)**self.gamma *  torch.log(1-input))\n",
    "#         loss = (pos * target + neg * (1-target))\n",
    "\n",
    "#         # averaging (or not) loss\n",
    "#         if self.size_average:\n",
    "#             return loss.mean()\n",
    "#         else:\n",
    "#             return loss.sum()"
   ]
  },
  {
   "cell_type": "code",
   "execution_count": null,
   "metadata": {},
   "outputs": [],
   "source": [
    "# class stableBalancedFocalLossClass(nn.Module):\n",
    "\n",
    "#     def __init__(self, gamma=0, alpha=0.5, size_average=True):\n",
    "#         super(stableBalancedFocalLossClass, self).__init__()\n",
    "\n",
    "#         self.gamma = gamma\n",
    "#         self.alpha = alpha\n",
    "#         self.size_average = size_average\n",
    "\n",
    "#     def forward(self, input, target):\n",
    "\n",
    "#         input, target = input.unsqueeze(0), target.unsqueeze(0)\n",
    "\n",
    "#         # fo   r probs\n",
    "#         min_ind = torch.exp(torch.tensor(-100)) # almost 0\n",
    "#         max_ind = torch.tensor(1.0)- torch.exp(torch.tensor(-10)) # almost 1\n",
    "#         input = torch.clamp(input, min = min_ind, max = max_ind) # so we do not log(0)\n",
    "\n",
    "#         pos = (-self.alpha * (1-input)**self.gamma * torch.log(input))\n",
    "#         neg = (-(1-self.alpha) * (1-1-input)**self.gamma *  torch.log(1-input))\n",
    "#         loss = (pos * target + neg * (1-target))\n",
    "\n",
    "#         # Seem pytorch have something like this..\n",
    "#         if loss.mean() >= max_ind:\n",
    "#             floor = 10\n",
    "#         else:\n",
    "#             floor = 1\n",
    "\n",
    "#         loss =  loss * 2 * floor # *2 is just a constant to make it more like BCE\n",
    "\n",
    "#         # averaging (or not) lossinput = torch.clamp(input, min = torch.exp(torch.tensor(-100))) # so we do not log(0)\n",
    "        \n",
    "#         if self.size_average:\n",
    "#             return loss.mean()\n",
    "#         else:\n",
    "#             return loss.sum()"
   ]
  },
  {
   "cell_type": "code",
   "execution_count": null,
   "metadata": {},
   "outputs": [],
   "source": [
    "def shannon_entropy(p):\n",
    "    return (p * np.log(1/p)).sum()\n",
    "\n",
    "def cross_entropy(p, q):\n",
    "    return -(p * np.log(q)).sum() # same as (p * np.log(1/q)).sum() "
   ]
  },
  {
   "cell_type": "code",
   "execution_count": null,
   "metadata": {},
   "outputs": [],
   "source": [
    "class BalancedFocalLossClass(nn.Module):\n",
    "\n",
    "    def __init__(self, gamma=0, alpha=0.5, size_average=True):\n",
    "        super(BalancedFocalLossClass, self).__init__()\n",
    "\n",
    "        self.gamma = gamma\n",
    "        self.alpha = alpha\n",
    "        self.size_average = size_average\n",
    "\n",
    "    def forward(self, input, target):\n",
    "\n",
    "        input, target = input.unsqueeze(0), target.unsqueeze(0)\n",
    "        \n",
    "        # Numerical stabilityt pytorhc trick.\n",
    "        log_input = torch.clamp(torch.log(input), -100, 100)\n",
    "        log_input_rev = torch.clamp(torch.log(1-input), -100, 100)\n",
    "\n",
    "        # for probs\n",
    "        pos = (-self.alpha * (1-input)**self.gamma * log_input)\n",
    "        neg = (-(1-self.alpha) * (1-1-input)**self.gamma * log_input_rev)\n",
    "        \n",
    "        loss = (pos * target + neg * (1-target))\n",
    "\n",
    "        # averaging (or not) loss\n",
    "        if self.size_average:\n",
    "            return loss.mean()\n",
    "        else:\n",
    "            return loss.sum()"
   ]
  },
  {
   "cell_type": "code",
   "execution_count": null,
   "metadata": {},
   "outputs": [],
   "source": [
    "criterion_class = nn.BCELoss()\n",
    "\n",
    "x1 = torch.rand([ 3 ,100, 100])\n",
    "x1_b = (x1 > 0.5)*1.0 "
   ]
  },
  {
   "cell_type": "code",
   "execution_count": null,
   "metadata": {},
   "outputs": [],
   "source": [
    "# criterion_focal01 = FocalLoss01(gamma=1)\n",
    "# criterion_focal02 = FocalLoss02(gamma=1, size_average=False)\n",
    "# criterion_focal03 = FocalLoss03(gamma=1, alpha = 1, size_average=True)\n",
    "\n",
    "# criterion_focal04 = FocalLoss04(gamma=0)\n",
    "# criterion_focal05 = FocalLoss05()\n",
    "\n",
    "#criterion_focal06 = FocalLossClass()\n",
    "criterion_focal07 = BalancedFocalLossClass(gamma=2, alpha=0.05)\n",
    "# criterion_focal07 = stableBalancedFocalLossClass(gamma=0, alpha=0.5)\n",
    "\n",
    "\n",
    "# print(criterion_focal01(x1.unsqueeze(0), x1_b.unsqueeze(0)))\n",
    "# print(criterion_focal02(x1, x1_b))\n",
    "# print(criterion_focal03(x1, x1_b))\n",
    "\n",
    "\n",
    "# print(criterion_focal04(x1, x1_b))\n",
    "\n",
    "# print(criterion_focal05(x1, x1_b))\n",
    "\n",
    "#print(criterion_focal06(x1, x1_b))\n",
    "\n",
    "print(criterion_focal07(x1, x1_b)) \n",
    "\n",
    "\n",
    "print(criterion_class(x1, x1_b))\n"
   ]
  },
  {
   "cell_type": "code",
   "execution_count": null,
   "metadata": {},
   "outputs": [],
   "source": [
    "criterion_focal07 = BalancedFocalLossClass(gamma=0, alpha=0.5)\n",
    "\n",
    "print(criterion_focal07(x1, x1_b)) \n",
    "print(criterion_class(x1, x1_b))"
   ]
  },
  {
   "cell_type": "code",
   "execution_count": null,
   "metadata": {},
   "outputs": [],
   "source": [
    "x1 = torch.rand([ 3 ,100, 100]) \n",
    "\n",
    "x2 = torch.zeros([ 3 ,100, 100]) + torch.tensor(1.0) - torch.exp(torch.tensor(0))\n",
    "\n",
    "x1_b = (x1 > 0.5)*1.0 \n",
    "\n",
    "\n",
    "print(criterion_focal07(x2, x1_b)*2) \n",
    "print(criterion_class(x2, x1_b))"
   ]
  },
  {
   "cell_type": "code",
   "execution_count": null,
   "metadata": {},
   "outputs": [],
   "source": [
    "x2"
   ]
  },
  {
   "cell_type": "code",
   "execution_count": null,
   "metadata": {},
   "outputs": [],
   "source": [
    "x1 = torch.rand([ 3 ,100, 100]) \n",
    "\n",
    "x2 = torch.zeros([ 3 ,100, 100]) + torch.tensor(1.0) - torch.exp(torch.tensor(-12))\n",
    "\n",
    "x1_b = (x1 > 0.5)*1.0 \n",
    "\n",
    "if x2.mean() > torch.tensor(1.0) - torch.exp(torch.tensor(-15)):\n",
    "    floor = 10\n",
    "else:\n",
    "    floor = 1\n",
    "\n",
    "print(criterion_focal07(x2, x1_b) * floor) \n",
    "print(criterion_class(x2, x1_b))"
   ]
  },
  {
   "cell_type": "code",
   "execution_count": null,
   "metadata": {},
   "outputs": [],
   "source": [
    "print(criterion_class)"
   ]
  },
  {
   "cell_type": "code",
   "execution_count": null,
   "metadata": {},
   "outputs": [],
   "source": [
    "criterion_focal_class01 = BalancedFocalLossClass(gamma=0.0, alpha=0.75)\n",
    "criterion_focal_class02 = BalancedFocalLossClass(gamma=2.0, alpha=0.25)\n",
    "criterion_focal_class03 = BalancedFocalLossClass(gamma=5.0, alpha=0.25)"
   ]
  },
  {
   "cell_type": "code",
   "execution_count": null,
   "metadata": {},
   "outputs": [],
   "source": [
    "print(f'focal, gamma = 0, alpha = 1 : \\t {criterion_focal_class01(x1, x1_b)}')\n",
    "print(f'focal, gamma = 1, alpha = 1 : \\t {criterion_focal_class02(x1, x1_b)}')\n",
    "print(f'focal, gamma = 2, alpha = 1 : \\t {criterion_focal_class03(x1, x1_b)}')"
   ]
  },
  {
   "cell_type": "code",
   "execution_count": null,
   "metadata": {},
   "outputs": [],
   "source": [
    "F.logsigmoid(torch.tensor(.00))"
   ]
  },
  {
   "cell_type": "code",
   "execution_count": null,
   "metadata": {},
   "outputs": [],
   "source": [
    "# targer\n",
    "IT = torch.tensor(np.stack([np.identity(100), np.identity(100),  np.identity(100)]), dtype= torch.float32)\n",
    "\n",
    "# candidates\n",
    "ZT = torch.zeros([ 3 ,100, 100])\n",
    "RT = torch.rand([ 3 ,100, 100]) \n",
    "\n",
    "# the loss must priorities 0T over ZT"
   ]
  },
  {
   "cell_type": "code",
   "execution_count": null,
   "metadata": {},
   "outputs": [],
   "source": [
    "criterion = BalancedFocalLossClass(gamma=2, alpha=0.95)\n",
    "\n",
    "\n",
    "print(criterion(ZT, IT)) \n",
    "print(criterion(RT, IT)) "
   ]
  },
  {
   "cell_type": "code",
   "execution_count": null,
   "metadata": {},
   "outputs": [],
   "source": [
    "class FocalLoss_reg(nn.Module):\n",
    "\n",
    "    def __init__(self, gamma=0, alpha=1, size_average=True):\n",
    "        super(FocalLoss_reg, self).__init__()\n",
    "\n",
    "        self.gamma = gamma\n",
    "        self.alpha = alpha\n",
    "        self.size_average = size_average\n",
    "\n",
    "    def forward(self, input, target):\n",
    "\n",
    "        input, target = input.unsqueeze(0), target.unsqueeze(0)\n",
    "        input = torch.clamp(input, min = np.exp(-100)) # so we do not log(0)\n",
    "\n",
    "        mse = (target - input)**2\n",
    "\n",
    "        loss = self.alpha * ((1-np.exp(mse))**self.gamma) * mse # for gamma = 0 and alpha = 1 we get the mse\n",
    "\n",
    "        # averaging (or not) loss\n",
    "        if self.size_average:\n",
    "            return loss.mean()\n",
    "        else:\n",
    "            return loss.sum()"
   ]
  },
  {
   "cell_type": "code",
   "execution_count": null,
   "metadata": {},
   "outputs": [],
   "source": [
    "criterion_reg = nn.MSELoss()\n",
    "\n",
    "x1 = torch.rand([ 3 ,100, 100])\n",
    "x1_b = (x1 > 0.5)*1.0 "
   ]
  },
  {
   "cell_type": "code",
   "execution_count": null,
   "metadata": {},
   "outputs": [],
   "source": [
    "criterion_focal_reg01 = FocalLoss_reg(gamma=0)\n",
    "criterion_focal_reg02 = FocalLoss_reg(gamma=1)\n",
    "criterion_focal_reg03 = FocalLoss_reg(gamma=2)"
   ]
  },
  {
   "cell_type": "code",
   "execution_count": null,
   "metadata": {},
   "outputs": [],
   "source": [
    "# targer\n",
    "IT = torch.tensor(np.stack([np.identity(100), np.identity(100),  np.identity(100)]), dtype= torch.float32)\n",
    "\n",
    "# candidates\n",
    "ZT = torch.zeros([ 3 ,100, 100])\n",
    "OT = torch.zeros([ 3 ,100, 100]) + 1\n",
    "\n",
    "# the loss must priorities 0T over ZT"
   ]
  },
  {
   "cell_type": "code",
   "execution_count": null,
   "metadata": {},
   "outputs": [],
   "source": [
    "print(f'MSE: \\t\\t\\t\\t {criterion_reg(ZT, IT)}')\n",
    "print(f'focal, gamma = 0, alpha = 1 : \\t {criterion_focal_reg01(ZT, IT)}')\n",
    "print(f'focal, gamma = 1, alpha = 1 : \\t {criterion_focal_reg02(ZT, IT)}')\n",
    "print(f'focal, gamma = 2, alpha = 1 : \\t {criterion_focal_reg03(ZT, IT)}')\n",
    "\n",
    "\n",
    "print('\\n')\n",
    "\n",
    "print(f'focal, gamma = 1, alpha = 1 : \\t {criterion_focal_reg01(OT, IT)}')\n",
    "print(f'focal, gamma = 2, alpha = 1 : \\t {criterion_focal_reg02(OT, IT)}')\n",
    "print(f'focal, gamma = 3, alpha = 1 : \\t {criterion_focal_reg03(OT, IT)}')\n",
    "\n"
   ]
  },
  {
   "cell_type": "code",
   "execution_count": null,
   "metadata": {},
   "outputs": [],
   "source": [
    "def MSE(input, target):\n",
    "    loss = (target - input)**2\n",
    "    return loss.mean()"
   ]
  },
  {
   "cell_type": "code",
   "execution_count": null,
   "metadata": {},
   "outputs": [],
   "source": [
    "def MSE(input, target):\n",
    "    se = target - input\n",
    "    lse = np.exp(se)  #torch.clamp(se, min = np.exp(-100)))\n",
    "    mlse = lse.mean()\n",
    "\n",
    "    return mlse\n",
    "\n",
    "    # return - np.log(loss.mean())"
   ]
  },
  {
   "cell_type": "code",
   "execution_count": null,
   "metadata": {},
   "outputs": [],
   "source": []
  },
  {
   "cell_type": "code",
   "execution_count": null,
   "metadata": {},
   "outputs": [],
   "source": [
    "noise = torch.rand([ 3 ,100, 100]) * 10\n",
    "\n",
    "# targer\n",
    "IT = torch.tensor(np.stack([np.identity(100), np.identity(100),  np.identity(100)]), dtype= torch.float32) * noise\n",
    "\n",
    "# candidates\n",
    "ZT = torch.zeros([ 3 ,100, 100])\n",
    "OT = (torch.zeros([ 3 ,100, 100]) + 1 ) * noise\n",
    "\n",
    "# the loss must priorities 0T over ZT"
   ]
  },
  {
   "cell_type": "code",
   "execution_count": null,
   "metadata": {},
   "outputs": [],
   "source": [
    "print(MSE(ZT, IT))\n",
    "print(MSE(OT, IT))"
   ]
  },
  {
   "cell_type": "code",
   "execution_count": null,
   "metadata": {},
   "outputs": [],
   "source": [
    "OT.min()"
   ]
  },
  {
   "cell_type": "code",
   "execution_count": null,
   "metadata": {},
   "outputs": [],
   "source": []
  },
  {
   "cell_type": "code",
   "execution_count": null,
   "metadata": {},
   "outputs": [],
   "source": [
    "class FocalLoss_reg(nn.Module):\n",
    "\n",
    "    def __init__(self, gamma=0, alpha=1, size_average=True):\n",
    "        super(FocalLoss_reg, self).__init__()\n",
    "\n",
    "        self.gamma = gamma\n",
    "        self.alpha = alpha\n",
    "        self.size_average = size_average\n",
    "\n",
    "    def forward(self, input, target):\n",
    "\n",
    "        input, target = input.unsqueeze(0), target.unsqueeze(0)\n",
    "        #input = torch.clamp(input, min = np.exp(-100)) # could do this for no negatives???\n",
    "\n",
    "        error = target - input\n",
    "        exp_error = np.exp(error)  #torch.clamp(se, min = np.exp(-100)))\n",
    "        loss = exp_error.mean()\n",
    "\n",
    "        # averaging (or not) loss\n",
    "        if self.size_average:\n",
    "            return loss.mean()\n",
    "        else:\n",
    "            return loss.sum()"
   ]
  },
  {
   "cell_type": "code",
   "execution_count": null,
   "metadata": {},
   "outputs": [],
   "source": [
    "class ShrinkageLoss(nn.Module):\n",
    "\n",
    "    def __init__(self, a=10, c=0.2, size_average=True):\n",
    "        super(ShrinkageLoss, self).__init__()\n",
    "\n",
    "        self.a = a\n",
    "        self.c = c\n",
    "        self.size_average = size_average\n",
    "\n",
    "    def forward(self, input, target):\n",
    "\n",
    "        input, target = input.unsqueeze(0), target.unsqueeze(0) \n",
    "\n",
    "        l = torch.abs(target - input)     #F.l1_loss(input, target)\n",
    "\n",
    "        loss = (l**2)/(1 + torch.exp(self.a*(self.c-l)))\n",
    "\n",
    "        # averaging (or not) loss\n",
    "        if self.size_average:\n",
    "            return loss.mean()\n",
    "        else:\n",
    "            return loss.sum()"
   ]
  },
  {
   "cell_type": "code",
   "execution_count": null,
   "metadata": {},
   "outputs": [],
   "source": [
    "criterion_focal_reg = ShrinkageLoss(a=10, c=0.2)"
   ]
  },
  {
   "cell_type": "code",
   "execution_count": null,
   "metadata": {},
   "outputs": [],
   "source": [
    "criterion_focal_reg = ShrinkageLoss(a=1, c=12)\n",
    "\n",
    "print(criterion_focal_reg(ZT, IT))\n",
    "print(criterion_focal_reg(OT, IT))\n"
   ]
  },
  {
   "cell_type": "code",
   "execution_count": null,
   "metadata": {},
   "outputs": [],
   "source": []
  },
  {
   "cell_type": "code",
   "execution_count": null,
   "metadata": {},
   "outputs": [],
   "source": [
    "x1_b.dtype"
   ]
  },
  {
   "cell_type": "code",
   "execution_count": null,
   "metadata": {},
   "outputs": [],
   "source": [
    "IT"
   ]
  },
  {
   "cell_type": "code",
   "execution_count": null,
   "metadata": {},
   "outputs": [],
   "source": []
  },
  {
   "cell_type": "code",
   "execution_count": null,
   "metadata": {},
   "outputs": [],
   "source": []
  },
  {
   "cell_type": "code",
   "execution_count": null,
   "metadata": {},
   "outputs": [],
   "source": [
    "shannon_entropy(x1)"
   ]
  },
  {
   "cell_type": "code",
   "execution_count": null,
   "metadata": {},
   "outputs": [],
   "source": [
    "cross_entropy(x1_b, x1)"
   ]
  },
  {
   "cell_type": "code",
   "execution_count": null,
   "metadata": {},
   "outputs": [],
   "source": [
    "cross_entropy(x1_b, x1)"
   ]
  },
  {
   "cell_type": "code",
   "execution_count": null,
   "metadata": {},
   "outputs": [],
   "source": [
    "F.cross_entropy( x1_b, x1)"
   ]
  },
  {
   "cell_type": "code",
   "execution_count": null,
   "metadata": {},
   "outputs": [],
   "source": [
    "F.cross_entropy?"
   ]
  },
  {
   "cell_type": "code",
   "execution_count": null,
   "metadata": {},
   "outputs": [],
   "source": [
    "-(x1_b * np.log(x1)).mean()"
   ]
  },
  {
   "cell_type": "code",
   "execution_count": null,
   "metadata": {},
   "outputs": [],
   "source": [
    "(x1_b * (np.log(1/x1))).mean()"
   ]
  },
  {
   "cell_type": "code",
   "execution_count": null,
   "metadata": {},
   "outputs": [],
   "source": []
  },
  {
   "cell_type": "code",
   "execution_count": null,
   "metadata": {},
   "outputs": [],
   "source": [
    "print(criterion_focal02(x1, x1_b))\n",
    "print(criterion_class(x1, x1_b))\n"
   ]
  },
  {
   "cell_type": "code",
   "execution_count": null,
   "metadata": {},
   "outputs": [],
   "source": []
  },
  {
   "cell_type": "code",
   "execution_count": null,
   "metadata": {},
   "outputs": [],
   "source": [
    "class RMSLELoss(nn.Module):\n",
    "    def __init__(self):\n",
    "        super().__init__()\n",
    "        self.mse = nn.MSELoss()\n",
    "        \n",
    "    def forward(self, pred, actual):\n",
    "        return torch.sqrt(self.mse(torch.log(pred + 1), torch.log(actual + 1)))"
   ]
  },
  {
   "cell_type": "code",
   "execution_count": null,
   "metadata": {},
   "outputs": [],
   "source": [
    "t = 3\n",
    "\n",
    "if t == 1 or t == 0:\n",
    "    print('cool')"
   ]
  },
  {
   "cell_type": "code",
   "execution_count": null,
   "metadata": {},
   "outputs": [],
   "source": [
    "cr."
   ]
  },
  {
   "cell_type": "code",
   "execution_count": null,
   "metadata": {},
   "outputs": [],
   "source": [
    "cr = RMSLELoss()\n",
    "print(f'sgoairb: {cr}\\n..................')"
   ]
  },
  {
   "cell_type": "code",
   "execution_count": null,
   "metadata": {},
   "outputs": [],
   "source": [
    "x1 = torch.rand([1, 3 ,100, 100])\n",
    "x1_b = (x1 > 0.5)*1.0 "
   ]
  },
  {
   "cell_type": "code",
   "execution_count": null,
   "metadata": {},
   "outputs": [],
   "source": [
    "x1 = torch.rand([3,100, 100])\n",
    "x1_b = (x1 > 0.5)*1.0 "
   ]
  },
  {
   "cell_type": "code",
   "execution_count": null,
   "metadata": {},
   "outputs": [],
   "source": [
    "criterion_focal = FocalLoss2d()"
   ]
  },
  {
   "cell_type": "code",
   "execution_count": null,
   "metadata": {},
   "outputs": [],
   "source": [
    "print(criterion_focal)"
   ]
  },
  {
   "cell_type": "code",
   "execution_count": null,
   "metadata": {},
   "outputs": [],
   "source": [
    "criterion_focal(x1.unsqueeze(0), x1_b.unsqueeze(0))"
   ]
  },
  {
   "cell_type": "code",
   "execution_count": null,
   "metadata": {},
   "outputs": [],
   "source": []
  },
  {
   "cell_type": "code",
   "execution_count": null,
   "metadata": {},
   "outputs": [],
   "source": [
    "x1 = torch.rand([1, 3 ,100, 100])\n",
    "x1_b = (x1 > 0.5)*1.0 \n",
    "\n",
    "sigmoid_focal_loss(x1, x1_b, reduction= 'mean')"
   ]
  },
  {
   "cell_type": "code",
   "execution_count": null,
   "metadata": {},
   "outputs": [],
   "source": [
    "x1 = torch.rand([1, 3 ,100, 100])#.type(torch.LongTensor)\n",
    "x1_b = (x1 > 0.5)*1.0 \n",
    "\n",
    "criterion_focal(x1.reshape(-1), x1_b.reshape(-1).type(torch.LongTensor))"
   ]
  },
  {
   "cell_type": "code",
   "execution_count": null,
   "metadata": {},
   "outputs": [],
   "source": []
  },
  {
   "cell_type": "code",
   "execution_count": null,
   "metadata": {},
   "outputs": [],
   "source": []
  },
  {
   "cell_type": "code",
   "execution_count": null,
   "metadata": {},
   "outputs": [],
   "source": []
  },
  {
   "cell_type": "code",
   "execution_count": null,
   "metadata": {},
   "outputs": [],
   "source": []
  },
  {
   "cell_type": "code",
   "execution_count": null,
   "metadata": {},
   "outputs": [],
   "source": []
  },
  {
   "cell_type": "code",
   "execution_count": null,
   "metadata": {},
   "outputs": [],
   "source": [
    "x1 = torch.randn([1, 3 ,100, 100]).float()\n",
    "\n",
    "#x1 = torch.randn([1, 3 ,100, 100]).float()\n",
    "x2 = torch.randn([1, 3 ,100, 100]).float()\n",
    "\n",
    "x3 = torch.randn([1, 3 ,100, 100]).float()\n",
    "x4 = torch.randn([1, 3 ,100, 100]).float()"
   ]
  },
  {
   "cell_type": "code",
   "execution_count": null,
   "metadata": {},
   "outputs": [],
   "source": [
    "# x1_ = x1.reshape(-1)\n",
    "# x2_ = x2.reshape(-1)\n",
    "\n",
    "# mask = x1_ > 0\n",
    "\n",
    "# x1_[mask].shape\n",
    "\n",
    "# criterion_reg(x1_, x2_)\n"
   ]
  },
  {
   "cell_type": "code",
   "execution_count": null,
   "metadata": {},
   "outputs": [],
   "source": [
    "type(losses_list) == list"
   ]
  },
  {
   "cell_type": "code",
   "execution_count": null,
   "metadata": {},
   "outputs": [],
   "source": [
    "losses_list = []\n",
    "\n",
    "for i in range(3):\n",
    "\n",
    "    x1_ = x1[:,i,:,:].reshape(-1)\n",
    "    x2_ = x2[:,i,:,:].reshape(-1)\n",
    "    mask = (x3[:,i,:,:].reshape(-1) > 0.0001) | (x4[:,i,:,:].reshape(-1) > 0.0001)\n",
    "\n",
    "    losses_list.append(criterion_reg(x1_[mask], x2_[mask]))\n"
   ]
  },
  {
   "cell_type": "code",
   "execution_count": null,
   "metadata": {},
   "outputs": [],
   "source": [
    "losses_list"
   ]
  },
  {
   "cell_type": "code",
   "execution_count": null,
   "metadata": {},
   "outputs": [],
   "source": [
    "for i in range(3):\n",
    "    losses_list.append(criterion_class(t1_pred_class[:,i,:,:], t1_binary[:,i,:,:]))"
   ]
  },
  {
   "cell_type": "code",
   "execution_count": null,
   "metadata": {},
   "outputs": [],
   "source": [
    "losses_list = []\n",
    "\n",
    "for i in range(3):\n",
    "    print(i)\n",
    "    losses_list.append(torch.tensor(1.0))\n",
    "\n",
    "for i in range(3):\n",
    "    losses_list.append(torch.tensor(2.0))\n"
   ]
  },
  {
   "cell_type": "code",
   "execution_count": null,
   "metadata": {},
   "outputs": [],
   "source": [
    "losses = torch.stack(losses_list)"
   ]
  },
  {
   "cell_type": "code",
   "execution_count": null,
   "metadata": {},
   "outputs": [],
   "source": [
    "losses[:3].sum()"
   ]
  },
  {
   "cell_type": "code",
   "execution_count": null,
   "metadata": {},
   "outputs": [],
   "source": [
    "losses[-3:].sum()\n"
   ]
  },
  {
   "cell_type": "code",
   "execution_count": null,
   "metadata": {},
   "outputs": [],
   "source": [
    "for i in range(6):\n",
    "    print(losses[i])"
   ]
  },
  {
   "cell_type": "code",
   "execution_count": null,
   "metadata": {},
   "outputs": [],
   "source": [
    "hidden_channels = 32\n",
    "D = 16 \n",
    "\n",
    "\n",
    "X = torch.rand(1, 3, D, D)\n",
    "H = torch.rand(1, hidden_channels, D, D)"
   ]
  },
  {
   "cell_type": "code",
   "execution_count": null,
   "metadata": {},
   "outputs": [],
   "source": [
    "H+X"
   ]
  },
  {
   "cell_type": "code",
   "execution_count": null,
   "metadata": {},
   "outputs": [],
   "source": [
    "c1 = torch.nn.Conv2d(32,32, 3, padding= 'same')\n",
    "c2 = torch.nn.Conv2d(32,32, 3, padding= 'same', bias = False)\n",
    "\n",
    "c3 = torch.nn.Conv2d(32,32, 3, padding= 'same')\n",
    "c4 = torch.nn.Conv2d(32,32, 3, padding= 'same', bias = False)\n",
    "\n",
    "c5 = torch.nn.Conv2d(32,32, 3, padding= 'same')\n",
    "c6 = torch.nn.Conv2d(32,32, 3, padding= 'same', bias = False)"
   ]
  },
  {
   "cell_type": "code",
   "execution_count": null,
   "metadata": {},
   "outputs": [],
   "source": [
    "Z = torch.sigmoid(c1(X) + c2(H))\n",
    "\n",
    "R = torch.sigmoid(c3(X) + c4(H))\n",
    "\n",
    "H_tilde = torch.tanh(c5(X) + c6(torch.mul(R,H)))\n",
    "\n",
    "H = torch.mul(torch.mul(Z,H) + (1 - Z), H_tilde)"
   ]
  },
  {
   "cell_type": "code",
   "execution_count": null,
   "metadata": {},
   "outputs": [],
   "source": [
    "H.shape"
   ]
  },
  {
   "cell_type": "code",
   "execution_count": null,
   "metadata": {},
   "outputs": [],
   "source": [
    "vol = np.zeros([1,48,3,180,180])\n",
    "tens  =torch.tensor(vol)\n",
    "\n",
    "torch.stack((tens,tens)).shape"
   ]
  },
  {
   "cell_type": "code",
   "execution_count": null,
   "metadata": {},
   "outputs": [],
   "source": [
    "vol = np.zeros([1,48,3,180,180])"
   ]
  },
  {
   "cell_type": "code",
   "execution_count": null,
   "metadata": {},
   "outputs": [],
   "source": [
    "vol[:,:,0,:,:] = 1\n",
    "vol[:,:,1,:,:] = 2\n",
    "vol[:,:,2,:,:] = 3\n"
   ]
  },
  {
   "cell_type": "code",
   "execution_count": null,
   "metadata": {},
   "outputs": [],
   "source": [
    "print(vol.shape)\n",
    "print(vol[:,:,0,:,:].mean())\n",
    "print(vol[:,:,1,:,:].mean())\n",
    "print(vol[:,:,2,:,:].mean())"
   ]
  },
  {
   "cell_type": "code",
   "execution_count": null,
   "metadata": {},
   "outputs": [],
   "source": [
    "N = vol.shape[0] # batch size. Always 1\n",
    "C = vol.shape[1] # months\n",
    "D = vol.shape[2] # features\n",
    "H = vol.shape[3] # height\n",
    "W = vol.shape[4] # width\n",
    "\n",
    "vol2 = vol.reshape(N, C*D, H, W)\n",
    "print(vol2.shape)"
   ]
  },
  {
   "cell_type": "code",
   "execution_count": null,
   "metadata": {},
   "outputs": [],
   "source": [
    "# transformer = transforms.Compose([transforms.RandomRotation((0,360)), transforms.RandomHorizontalFlip(p=0.5), transforms.RandomVerticalFlip(p=0.5)])\n",
    "transformer = transforms.Compose([transforms.RandomHorizontalFlip(p=0.5), transforms.RandomVerticalFlip(p=0.5)])"
   ]
  },
  {
   "cell_type": "code",
   "execution_count": null,
   "metadata": {},
   "outputs": [],
   "source": [
    "#data augmentation (can be turned of for final experiments)        \n",
    "vol2 = transformer(torch.tensor(vol2)) # rotations and flips # skip for now... '''''''''''''''''''''''''''''''''''''''''''''''''''''' bug only take 4 dims.. could just squezze the batrhc dom and then give it again afterwards?#train_tensor = train_tensor.reshape(N, C, D, H, W)"
   ]
  },
  {
   "cell_type": "code",
   "execution_count": null,
   "metadata": {},
   "outputs": [],
   "source": [
    "vol3 = vol2.reshape(N,C,D,H,W)\n",
    "print(vol3.shape)\n",
    "print(vol3[:,:,0,:,:].mean())\n",
    "print(vol3[:,:,1,:,:].mean())\n",
    "print(vol3[:,:,2,:,:].mean())"
   ]
  },
  {
   "cell_type": "code",
   "execution_count": null,
   "metadata": {},
   "outputs": [],
   "source": [
    "(vol3 == vol).all()"
   ]
  }
 ],
 "metadata": {
  "kernelspec": {
   "display_name": "torch2023",
   "language": "python",
   "name": "python3"
  },
  "language_info": {
   "codemirror_mode": {
    "name": "ipython",
    "version": 3
   },
   "file_extension": ".py",
   "mimetype": "text/x-python",
   "name": "python",
   "nbconvert_exporter": "python",
   "pygments_lexer": "ipython3",
   "version": "3.8.16"
  },
  "orig_nbformat": 4,
  "vscode": {
   "interpreter": {
    "hash": "d6e07914b3d36b3c0ae84e5e97633abec307a3dfe696e94a6042eabf44e48503"
   }
  }
 },
 "nbformat": 4,
 "nbformat_minor": 2
}
