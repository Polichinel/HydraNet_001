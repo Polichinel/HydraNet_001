{
 "cells": [
  {
   "cell_type": "code",
   "execution_count": 1,
   "metadata": {},
   "outputs": [],
   "source": [
    "import numpy as np\n",
    "#import pandas as pd\n",
    "import matplotlib.pyplot as plt\n",
    "from matplotlib.colors import LinearSegmentedColormap\n",
    "import seaborn as sns\n",
    "import pickle\n",
    "import torch"
   ]
  },
  {
   "cell_type": "code",
   "execution_count": 2,
   "metadata": {},
   "outputs": [],
   "source": [
    "#local_dir = '/home/simon/Documents/Articles/ConflictNet/data/generated/'\n",
    "#local_dir_raw = '/home/simon/Documents/Articles/ConflictNet/data/raw/'\n",
    "\n",
    "local_dir = '/home/number_one/Documents/scripts/conflictNet/data/generated'\n",
    "local_dir_raw = '/home/number_one/Documents/scripts/conflictNet/data/raw'\n",
    "\n",
    "\n",
    "with open(f'{local_dir}/posterior_dict_48_calib.pkl', 'rb') as file:\n",
    "    posterior_dict = pickle.load(file)\n",
    "\n",
    "with open(f'{local_dir}/test_tensor_48_calib.pkl', 'rb') as file:\n",
    "    test_tensor = pickle.load(file)\n",
    "\n",
    "with open(f'{local_dir_raw}/viewser_monthly_vol_calib.pkl', 'rb') as file:\n",
    "    views_vol = pickle.load(file)"
   ]
  },
  {
   "cell_type": "code",
   "execution_count": 3,
   "metadata": {},
   "outputs": [],
   "source": [
    "posterior_list = posterior_dict['posterior_list']"
   ]
  },
  {
   "cell_type": "code",
   "execution_count": 7,
   "metadata": {},
   "outputs": [
    {
     "data": {
      "text/plain": [
       "6.190189"
      ]
     },
     "execution_count": 7,
     "metadata": {},
     "output_type": "execute_result"
    }
   ],
   "source": [
    "np.max(posterior_list)"
   ]
  },
  {
   "cell_type": "code",
   "execution_count": 5,
   "metadata": {},
   "outputs": [],
   "source": [
    "# insert overall ap score.\n",
    "\n",
    "def plt_trio(test_month, timelaps_dir, posterior_dict, views_vol):\n",
    "\n",
    "    posterior_list = posterior_dict['posterior_list']\n",
    "    posterior_list_class = posterior_dict['posterior_list_class']\n",
    "    out_of_sample_tensor = posterior_dict['out_of_sample_tensor']\n",
    "    out_of_sample_numpy = out_of_sample_tensor.numpy()\n",
    "\n",
    "    mean_class_pred = np.array(posterior_list_class[test_month]).mean(axis=0)\n",
    "    mean_pred = np.array(posterior_list[test_month]).mean(axis=0)\n",
    "    true_obs = out_of_sample_numpy[:,test_month,:,:].squeeze()\n",
    "\n",
    "    std_pred = np.array(posterior_list[test_month]).std(axis=0)\n",
    "\n",
    "    # min/max for plotting\n",
    "    min_true = out_of_sample_numpy.min()\n",
    "    max_true = out_of_sample_numpy.max()\n",
    "    min_pred = np.array(posterior_list).min()\n",
    "    max_pred = np.array(posterior_list).max()\n",
    "    min_pred_class = np.array(posterior_list_class).min()\n",
    "    max_pres_class = np.array(posterior_list_class).max()\n",
    "\n",
    "    min_pred_std = np.array(posterior_list).mean(axis=0).std(axis = 0).min()\n",
    "    max_pred_std = np.array(posterior_list).mean(axis=0).std(axis = 0).max()\n",
    "\n",
    "    all_abs_error = np.abs(out_of_sample_numpy.squeeze() - np.array(posterior_list).mean(axis = 0))\n",
    "    min_error = all_abs_error.min()\n",
    "    max_error = all_abs_error.max()\n",
    "\n",
    "    # abs error\n",
    "    abs_error = np.abs(true_obs - mean_pred)\n",
    "\n",
    "\n",
    "    # Confucsion\n",
    "    threshold = 0.2 # there is a good way to do this... You have just forgotten it...\n",
    "\n",
    "    binary_pred = (mean_class_pred > threshold) * 1 \n",
    "    binary_true = (true_obs > 0)*1\n",
    "\n",
    "    TP = ((binary_pred == 1) & (binary_true == 1)).astype('int')\n",
    "    FP = ((binary_pred == 1) & (binary_true == 0)).astype('int')*2\n",
    "    FN = ((binary_pred == 0) & (binary_true == 1)).astype('int')*3\n",
    "    # TN = ((binary_pred == 0) & (binary_true == 0)).astype('int')*4\n",
    "\n",
    "\n",
    "    confusion_map = TP + FP + FN #+ TN # TN per defualt 0\n",
    "\n",
    "    # TN gray, TP green, FP blue, FN red\n",
    "    colors = [ (0.5, 0.5, 0.5), (0, 1, 0), (0, 0, 1), (1, 0, 0)]  # R, G, B\n",
    "    cmap_name = 'catagorical4'\n",
    "    cat_cmap = LinearSegmentedColormap.from_list(cmap_name, colors, N=4)\n",
    "\n",
    "    # plot\n",
    "    plt.figure(figsize=[30,20])\n",
    "\n",
    "\n",
    "    plt.subplot(2,3,1)\n",
    "    plt.title(f'true, month {test_month}')\n",
    "    true_obs_masked = np.ma.masked_where((views_vol[-48,:,:,4] == 0), true_obs)\n",
    "    plt.imshow(true_obs_masked, cmap = 'rainbow', vmin= min_true, vmax=max_true, aspect= 'equal', interpolation = None)\n",
    "    plt.colorbar(shrink = 0.6, label = 'observed magnitude y, i.e. log(best)')\n",
    "\n",
    "    plt.subplot(2,3,2)\n",
    "    plt.title(f'pred, month {test_month}')\n",
    "    mean_pred_masked = np.ma.masked_where((views_vol[-48,:,:,4] == 0), mean_pred)\n",
    "    plt.imshow(mean_pred_masked, cmap = 'rainbow', vmin= min_pred, vmax=max_pred, aspect= 'equal', interpolation = None)\n",
    "    plt.colorbar(shrink = 0.6, label = 'predictited magnitude, ŷ ')\n",
    "\n",
    "\n",
    "    plt.subplot(2,3,3)\n",
    "    plt.title(f'pred class, month {test_month}')\n",
    "    mean_class_pred_masked = np.ma.masked_where((views_vol[-48,:,:,4] == 0), mean_class_pred)\n",
    "    plt.imshow(mean_class_pred_masked, cmap = 'rainbow', vmin= min_pred_class, vmax=max_pres_class, aspect= 'equal', interpolation = None)\n",
    "    plt.colorbar(shrink = 0.6, label = 'predictited probability, ỹ')\n",
    "\n",
    "\n",
    "    plt.subplot(2,3,4)\n",
    "    plt.title(f'absolute error, month {test_month}')\n",
    "    abs_error_masked = np.ma.masked_where((views_vol[-48,:,:,4] == 0), abs_error)\n",
    "    plt.imshow(abs_error_masked, cmap = 'rainbow', vmin=min_error, vmax=max_error, aspect= 'equal', interpolation = None) # min and max are not constant here!\n",
    "    plt.colorbar(shrink = 0.6, label = 'absolute error, |y-ŷ|')\n",
    "\n",
    "\n",
    "    plt.subplot(2,3,5)\n",
    "    plt.title(f'pred std, month {test_month}')  # wonrg title\n",
    "    std_pred_masked = np.ma.masked_where((views_vol[-48,:,:,4] == 0), std_pred)\n",
    "    plt.imshow(std_pred_masked, cmap = 'rainbow', vmin=min_pred_std, vmax=max_pred_std, aspect= 'equal', interpolation = None)\n",
    "    plt.colorbar(shrink = 0.6,  label = 'ensemble std (predicted magnitude, ŷ)')\n",
    "\n",
    "\n",
    "    plt.subplot(2,3,6)\n",
    "    plt.title(f'confusion_map (T=0.2)pred std, month {test_month}')  # wonrg title\n",
    "    confusion_map_masked = np.ma.masked_where((views_vol[-48,:,:,4] == 0), confusion_map)\n",
    "    plt.imshow(confusion_map_masked, cmap = cat_cmap, vmin=0, vmax=3, aspect= 'equal', interpolation = None)\n",
    "    cbar = plt.colorbar(ticks = np.linspace(0.4,2.6,4), shrink = 0.6)\n",
    "    cbar.set_ticklabels(['TN', 'TP', 'FP', 'FN'])\n",
    "\n",
    "    plt.subplots_adjust(hspace = -0.1, wspace = 0.1)\n",
    "\n",
    "    fig_title = f'trio_{str(test_month).zfill(2)}'\n",
    "    plt.savefig(timelaps_dir + '/' + fig_title + '.JPG', bbox_inches=\"tight\")\n",
    "    plt.cla() # idk if this is also needed..\n",
    "    plt.close('all') # so they do not display or take up mem"
   ]
  },
  {
   "cell_type": "code",
   "execution_count": 6,
   "metadata": {},
   "outputs": [],
   "source": [
    "timelaps_dir = '/home/number_one/Documents/scripts/conflictNet/reports/timelapse/viewser_posterior/'\n",
    "\n",
    "for i in range(posterior_dict['out_of_sample_tensor'].shape[1]):\n",
    "    plt_trio(i, timelaps_dir, posterior_dict, views_vol)"
   ]
  }
 ],
 "metadata": {
  "kernelspec": {
   "display_name": "torch2023",
   "language": "python",
   "name": "python3"
  },
  "language_info": {
   "codemirror_mode": {
    "name": "ipython",
    "version": 3
   },
   "file_extension": ".py",
   "mimetype": "text/x-python",
   "name": "python",
   "nbconvert_exporter": "python",
   "pygments_lexer": "ipython3",
   "version": "3.10.8"
  },
  "orig_nbformat": 4,
  "vscode": {
   "interpreter": {
    "hash": "d6e07914b3d36b3c0ae84e5e97633abec307a3dfe696e94a6042eabf44e48503"
   }
  }
 },
 "nbformat": 4,
 "nbformat_minor": 2
}
