{
 "cells": [
  {
   "cell_type": "code",
   "execution_count": 6,
   "metadata": {},
   "outputs": [],
   "source": [
    "import numpy as np\n",
    "import properscoring as ps"
   ]
  },
  {
   "cell_type": "code",
   "execution_count": 7,
   "metadata": {},
   "outputs": [
    {
     "data": {
      "text/plain": [
       "0.26302700629612397"
      ]
     },
     "execution_count": 7,
     "metadata": {},
     "output_type": "execute_result"
    }
   ],
   "source": [
    "ensemble = np.random.RandomState(0).randn(128) + 20\n",
    "ps.crps_ensemble(20, ensemble)"
   ]
  },
  {
   "cell_type": "code",
   "execution_count": 8,
   "metadata": {},
   "outputs": [],
   "source": [
    "x = np.array([1,2,3,4,5])\n",
    "x_hat  = np.array([[1,1,1,1,1,1],[1,2,6,1,5,2],[3,3,3,3,2,3],[3,1,4,1,5,1],[2,1,5,2,3,1]])"
   ]
  },
  {
   "cell_type": "code",
   "execution_count": 9,
   "metadata": {},
   "outputs": [],
   "source": [
    "x = np.zeros(180*180)\n",
    "x_hat = np.random.RandomState(0).randn(180*180, 1000)"
   ]
  },
  {
   "cell_type": "code",
   "execution_count": 10,
   "metadata": {},
   "outputs": [
    {
     "ename": "MemoryError",
     "evalue": "Unable to allocate 241. GiB for an array with shape (32400, 1000, 1000) and data type float64",
     "output_type": "error",
     "traceback": [
      "\u001b[0;31m---------------------------------------------------------------------------\u001b[0m",
      "\u001b[0;31mMemoryError\u001b[0m                               Traceback (most recent call last)",
      "\u001b[1;32m/home/simon/Documents/scripts/conflictNet/notebooks/crps_test.ipynb Cell 5\u001b[0m line \u001b[0;36m1\n\u001b[0;32m----> <a href='vscode-notebook-cell:/home/simon/Documents/scripts/conflictNet/notebooks/crps_test.ipynb#W4sZmlsZQ%3D%3D?line=0'>1</a>\u001b[0m ps\u001b[39m.\u001b[39;49mcrps_ensemble(x, x_hat)\n",
      "File \u001b[0;32m~/anaconda3/envs/crps_test/lib/python3.8/site-packages/properscoring/_crps.py:347\u001b[0m, in \u001b[0;36mcrps_ensemble\u001b[0;34m(observations, forecasts, weights, issorted, axis)\u001b[0m\n\u001b[1;32m    344\u001b[0m \u001b[39mif\u001b[39;00m weights \u001b[39mis\u001b[39;00m \u001b[39mNone\u001b[39;00m:\n\u001b[1;32m    345\u001b[0m     weights \u001b[39m=\u001b[39m np\u001b[39m.\u001b[39mones_like(forecasts)\n\u001b[0;32m--> 347\u001b[0m \u001b[39mreturn\u001b[39;00m _crps_ensemble_core(observations, forecasts, weights)\n",
      "File \u001b[0;32m~/anaconda3/envs/crps_test/lib/python3.8/site-packages/properscoring/_crps.py:224\u001b[0m, in \u001b[0;36m_crps_ensemble_vectorized\u001b[0;34m(observations, forecasts, weights)\u001b[0m\n\u001b[1;32m    221\u001b[0m     score \u001b[39m=\u001b[39m np\u001b[39m.\u001b[39mnanmean(weights \u001b[39m*\u001b[39m \u001b[39mabs\u001b[39m(forecasts \u001b[39m-\u001b[39m observations), \u001b[39m-\u001b[39m\u001b[39m1\u001b[39m)\n\u001b[1;32m    222\u001b[0m \u001b[39m# insert new axes along last and second to last forecast dimensions so\u001b[39;00m\n\u001b[1;32m    223\u001b[0m \u001b[39m# forecasts_diff expands with the array broadcasting\u001b[39;00m\n\u001b[0;32m--> 224\u001b[0m forecasts_diff \u001b[39m=\u001b[39m (np\u001b[39m.\u001b[39;49mexpand_dims(forecasts, \u001b[39m-\u001b[39;49m\u001b[39m1\u001b[39;49m) \u001b[39m-\u001b[39;49m\n\u001b[1;32m    225\u001b[0m                   np\u001b[39m.\u001b[39;49mexpand_dims(forecasts, \u001b[39m-\u001b[39;49m\u001b[39m2\u001b[39;49m))\n\u001b[1;32m    226\u001b[0m weights_matrix \u001b[39m=\u001b[39m (np\u001b[39m.\u001b[39mexpand_dims(weights, \u001b[39m-\u001b[39m\u001b[39m1\u001b[39m) \u001b[39m*\u001b[39m\n\u001b[1;32m    227\u001b[0m                   np\u001b[39m.\u001b[39mexpand_dims(weights, \u001b[39m-\u001b[39m\u001b[39m2\u001b[39m))\n\u001b[1;32m    228\u001b[0m \u001b[39mwith\u001b[39;00m suppress_warnings(\u001b[39m'\u001b[39m\u001b[39mMean of empty slice\u001b[39m\u001b[39m'\u001b[39m):\n",
      "\u001b[0;31mMemoryError\u001b[0m: Unable to allocate 241. GiB for an array with shape (32400, 1000, 1000) and data type float64"
     ]
    }
   ],
   "source": [
    "ps.crps_ensemble(x, x_hat)"
   ]
  },
  {
   "cell_type": "code",
   "execution_count": 32,
   "metadata": {},
   "outputs": [],
   "source": [
    "import CRPS.CRPS as pscore\n",
    "import psutil"
   ]
  },
  {
   "cell_type": "code",
   "execution_count": 25,
   "metadata": {},
   "outputs": [
    {
     "name": "stdout",
     "output_type": "stream",
     "text": [
      "(32, 32400, 1000)\n"
     ]
    }
   ],
   "source": [
    "grid_size = 180*180 # africa and the middle east\n",
    "months = 32 # 3 years\n",
    "samples = 1000 # ensemble size\n",
    "\n",
    "x = np.zeros([months, grid_size]) # x is just a vector of zeros\n",
    "x_hat = np.random.RandomState(0).randn(months, grid_size, samples) # x_hat is a 3d array of random numbers acting as ensemble members\n",
    "\n",
    "print(x_hat.shape) # months, grids cells, samples"
   ]
  },
  {
   "cell_type": "code",
   "execution_count": 36,
   "metadata": {},
   "outputs": [
    {
     "name": "stdout",
     "output_type": "stream",
     "text": [
      "Size in gigabytes: 7.724761962890625\n"
     ]
    }
   ],
   "source": [
    "# Calculate the size in gigabytes of the ensemble matrix\n",
    "size_in_gigabytes = x_hat.nbytes / (1024 ** 3)  # 1 gigabyte = 1024^3 bytes\n",
    "print(f\"Size in gigabytes: {size_in_gigabytes}\")"
   ]
  },
  {
   "cell_type": "code",
   "execution_count": 28,
   "metadata": {},
   "outputs": [],
   "source": [
    "crps_matrix = np.zeros((x.shape[0], x.shape[1]), dtype=float) # create a matrix to store the crps values\n",
    "\n",
    "for i in range(x.shape[0]): # loop over months\n",
    "    for j in range(x.shape[1]): # loop over grid cells\n",
    "        crps_matrix[i,j] = pscore(x_hat[i,j],x[i,j]).compute()[0] # last 0 to only get the crps value, not fcrps or acrps\n"
   ]
  },
  {
   "cell_type": "code",
   "execution_count": 29,
   "metadata": {},
   "outputs": [
    {
     "name": "stdout",
     "output_type": "stream",
     "text": [
      "(32, 32400)\n",
      "(32,)\n",
      "()\n"
     ]
    }
   ],
   "source": [
    "print(crps_matrix.shape) # score for each grid cell for each month (the shape of the matrix holding the scores)\n",
    "print(np.mean(crps_matrix, axis=1).shape) # mean score for each month (the shape of the matrix holding the scores)\n",
    "print(np.mean(crps_matrix).shape) # mean score for all months (the shape of the matrix holding the scores)"
   ]
  },
  {
   "cell_type": "code",
   "execution_count": 30,
   "metadata": {},
   "outputs": [
    {
     "data": {
      "text/plain": [
       "0.23425259334336443"
      ]
     },
     "execution_count": 30,
     "metadata": {},
     "output_type": "execute_result"
    }
   ],
   "source": [
    "np.mean(crps_matrix) # the mean crps score for all months and grid cells (it is what we expect, since x is just a vector of zeros and x_hat is random numbers from a standard normal distribution)"
   ]
  },
  {
   "cell_type": "code",
   "execution_count": 35,
   "metadata": {},
   "outputs": [
    {
     "name": "stdout",
     "output_type": "stream",
     "text": [
      "Memory usage for the current Jupyter Notebook: 9.41 GB\n"
     ]
    }
   ],
   "source": [
    "# Get the process ID (PID) of the current Jupyter Notebook\n",
    "pid = psutil.Process().pid\n",
    "\n",
    "# Check memory usage using the psutil library\n",
    "process = psutil.Process(pid)\n",
    "memory_info = process.memory_info()\n",
    "memory_usage_in_gb = memory_info.rss / (1024 ** 3)  # Convert to gigabytes\n",
    "\n",
    "print(f\"Memory usage for the current Jupyter Notebook: {memory_usage_in_gb:.2f} GB\")\n"
   ]
  }
 ],
 "metadata": {
  "kernelspec": {
   "display_name": "crps_test",
   "language": "python",
   "name": "python3"
  },
  "language_info": {
   "codemirror_mode": {
    "name": "ipython",
    "version": 3
   },
   "file_extension": ".py",
   "mimetype": "text/x-python",
   "name": "python",
   "nbconvert_exporter": "python",
   "pygments_lexer": "ipython3",
   "version": "3.8.18"
  },
  "orig_nbformat": 4
 },
 "nbformat": 4,
 "nbformat_minor": 2
}
