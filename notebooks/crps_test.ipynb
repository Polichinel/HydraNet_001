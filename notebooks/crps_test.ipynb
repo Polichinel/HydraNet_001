{
 "cells": [
  {
   "cell_type": "code",
   "execution_count": 1,
   "metadata": {},
   "outputs": [],
   "source": [
    "import numpy as np\n",
    "import CRPS.CRPS as pscore\n",
    "import psutil"
   ]
  },
  {
   "cell_type": "code",
   "execution_count": 2,
   "metadata": {},
   "outputs": [
    {
     "name": "stdout",
     "output_type": "stream",
     "text": [
      "(32, 32400, 1000)\n"
     ]
    }
   ],
   "source": [
    "grid_size = 180*180 # africa and the middle east - ocean cells are included\n",
    "months = 32 # 3 years\n",
    "samples = 1000 # ensemble size\n",
    "\n",
    "x = np.zeros([months, grid_size]) # x is just a vector of zeros\n",
    "x_hat = np.random.RandomState(0).randn(months, grid_size, samples) # x_hat is a 3d array of random numbers acting as ensemble members\n",
    "\n",
    "print(x_hat.shape) # months, grids cells, samples"
   ]
  },
  {
   "cell_type": "code",
   "execution_count": 3,
   "metadata": {},
   "outputs": [
    {
     "name": "stdout",
     "output_type": "stream",
     "text": [
      "x size in gigabytes: 0.007724761962890625\n",
      "x_hat size in gigabytes: 7.724761962890625\n"
     ]
    }
   ],
   "source": [
    "# Calculate the size in gigabytes of the ensemble matrix\n",
    "size_in_gigabytes_x = x.nbytes / (1024 ** 3)  # 1 gigabyte = 1024^3 bytes\n",
    "print(f\"x size in gigabytes: {size_in_gigabytes_x}\")\n",
    "\n",
    "size_in_gigabytes_x_hat = x_hat.nbytes / (1024 ** 3)  # 1 gigabyte = 1024^3 bytes\n",
    "print(f\"x_hat size in gigabytes: {size_in_gigabytes_x_hat}\")"
   ]
  },
  {
   "cell_type": "code",
   "execution_count": 4,
   "metadata": {},
   "outputs": [],
   "source": [
    "crps_matrix = np.zeros((x.shape[0], x.shape[1]), dtype=float) # create a matrix to store the crps values\n",
    "\n",
    "for i in range(x.shape[0]): # loop over months\n",
    "    for j in range(x.shape[1]): # loop over grid cells\n",
    "        crps_matrix[i,j] = pscore(x_hat[i,j],x[i,j]).compute()[0] # last 0 to only get the crps value, not fcrps or acrps\n"
   ]
  },
  {
   "cell_type": "code",
   "execution_count": 8,
   "metadata": {},
   "outputs": [
    {
     "name": "stdout",
     "output_type": "stream",
     "text": [
      "(32, 32400)\n",
      "(32,)\n",
      "()\n"
     ]
    }
   ],
   "source": [
    "print(crps_matrix.shape) # score for each grid cell for each month (the shape of the matrix holding the scores)\n",
    "print(np.mean(crps_matrix, axis=1).shape) # mean score for each month (the shape of the matrix holding the scores)\n",
    "print(np.mean(crps_matrix).shape) # mean score for all months (the shape of the matrix holding the scores)"
   ]
  },
  {
   "cell_type": "code",
   "execution_count": 9,
   "metadata": {},
   "outputs": [
    {
     "data": {
      "text/plain": [
       "0.23425259334336443"
      ]
     },
     "execution_count": 9,
     "metadata": {},
     "output_type": "execute_result"
    }
   ],
   "source": [
    "np.mean(crps_matrix) # the mean crps score for all months and grid cells."
   ]
  },
  {
   "cell_type": "code",
   "execution_count": 15,
   "metadata": {},
   "outputs": [
    {
     "name": "stdout",
     "output_type": "stream",
     "text": [
      "Memory usage for the current Jupyter Notebook: 7.84 GB\n"
     ]
    }
   ],
   "source": [
    "# Get the process ID (PID) of the current Jupyter Notebook\n",
    "pid = psutil.Process().pid\n",
    "\n",
    "# Check memory usage using the psutil library\n",
    "process = psutil.Process(pid)\n",
    "memory_info = process.memory_info()\n",
    "memory_usage_in_gb = memory_info.rss / (1024 ** 3)  # Convert to gigabytes\n",
    "\n",
    "print(f\"Memory usage for the current Jupyter Notebook: {memory_usage_in_gb:.2f} GB\")\n"
   ]
  },
  {
   "cell_type": "code",
   "execution_count": null,
   "metadata": {},
   "outputs": [],
   "source": []
  },
  {
   "cell_type": "code",
   "execution_count": null,
   "metadata": {},
   "outputs": [],
   "source": []
  },
  {
   "cell_type": "code",
   "execution_count": null,
   "metadata": {},
   "outputs": [],
   "source": [
    "# alternative way to calculate the crps score - not fully implemented yet\n",
    "import numpy as np\n",
    "import properscoring as ps\n",
    "\n",
    "x = np.zeros(180*180)\n",
    "x_hat = np.random.RandomState(0).randn(180*180, 1000)\n",
    "\n",
    "ps.crps_ensemble(x, x_hat)"
   ]
  }
 ],
 "metadata": {
  "kernelspec": {
   "display_name": "crps_test",
   "language": "python",
   "name": "python3"
  },
  "language_info": {
   "codemirror_mode": {
    "name": "ipython",
    "version": 3
   },
   "file_extension": ".py",
   "mimetype": "text/x-python",
   "name": "python",
   "nbconvert_exporter": "python",
   "pygments_lexer": "ipython3",
   "version": "3.8.18"
  },
  "orig_nbformat": 4
 },
 "nbformat": 4,
 "nbformat_minor": 2
}
