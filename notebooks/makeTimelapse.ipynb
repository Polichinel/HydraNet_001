{
 "cells": [
  {
   "cell_type": "code",
   "execution_count": 1,
   "metadata": {},
   "outputs": [],
   "source": [
    "import numpy as np\n",
    "import matplotlib.pyplot as plt\n",
    "import pickle"
   ]
  },
  {
   "cell_type": "code",
   "execution_count": 2,
   "metadata": {},
   "outputs": [],
   "source": [
    "with open('/home/number_one/Documents/scripts/conflictNet/data/raw/viewser_monthly_vol_calib_t4.pkl', 'rb') as f:\n",
    "    vol = pickle.load(f)"
   ]
  },
  {
   "cell_type": "code",
   "execution_count": 3,
   "metadata": {},
   "outputs": [],
   "source": [
    "def plot_map(location,true_obs_masked, fig_title, vmin, vmax):\n",
    "\n",
    "    plt.figure(figsize=[16,16])\n",
    "\n",
    "    plt.imshow(true_obs_masked, cmap = 'rainbow', vmin = vmin, vmax = vmax, interpolation = 'none')\n",
    "\n",
    "    plt.title(fig_title)\n",
    "\n",
    "    plt.savefig(location + '/' + fig_title + '.JPG', bbox_inches=\"tight\")\n",
    "    plt.cla() # idk if this is also needed..\n",
    "    plt.close('all') # so they do not display or take up me"
   ]
  },
  {
   "cell_type": "code",
   "execution_count": 4,
   "metadata": {},
   "outputs": [],
   "source": [
    "location = '/home/number_one/Documents/scripts/conflictNet/reports/timelapse/viewser_calib'\n",
    "\n",
    "for i in range(vol.shape[0]):\n",
    "\n",
    "    true_obs_masked = np.ma.masked_where((vol[0,:,:,4] == 0), vol[i,:,:,5])\n",
    "    fig_title = f'{str(int(vol[i,:,:,3].mean())).zfill(3)}'\n",
    "    vmin = vol[:,:,:,5].min()\n",
    "    vmax = vol[:,:,:,5].max()\n",
    "\n",
    "    plot_map(location, true_obs_masked, fig_title, vmin, vmax)    \n",
    "\n",
    "    # plt.figure(figsize=[16,16])\n",
    "\n",
    "    # plt.imshow(true_obs_masked, cmap = 'rainbow', vmin = vmin, vmax = vmax, interpolation = 'none')\n",
    "\n",
    "    # plt.title(fig_title)\n",
    "\n",
    "    # plt.savefig(location + '/' + fig_title + '.JPG', bbox_inches=\"tight\")\n",
    "    # plt.cla() # idk if this is also needed..\n",
    "    # plt.close('all') # so they do not display or take up me"
   ]
  },
  {
   "cell_type": "code",
   "execution_count": null,
   "metadata": {},
   "outputs": [],
   "source": []
  },
  {
   "cell_type": "code",
   "execution_count": null,
   "metadata": {},
   "outputs": [],
   "source": []
  },
  {
   "cell_type": "code",
   "execution_count": null,
   "metadata": {},
   "outputs": [],
   "source": []
  },
  {
   "cell_type": "code",
   "execution_count": null,
   "metadata": {},
   "outputs": [],
   "source": []
  },
  {
   "cell_type": "code",
   "execution_count": null,
   "metadata": {},
   "outputs": [],
   "source": []
  },
  {
   "cell_type": "markdown",
   "metadata": {},
   "source": [
    "# OLD"
   ]
  },
  {
   "cell_type": "code",
   "execution_count": null,
   "metadata": {},
   "outputs": [],
   "source": [
    "def plot_maps(df):\n",
    "\n",
    "    map_dir = '/home/simon/Documents/Bodies/figures/maps/PRIO_timelaps/'\n",
    "\n",
    "    for feature in df.columns:\n",
    "\n",
    "        feature_dir = os.path.join(map_dir, feature)\n",
    "        os.makedirs(feature_dir, exist_ok = True)\n",
    "\n",
    "        for month_id in df['month_id'].unique():\n",
    "\n",
    "            x = df.loc[df['month_id'] == month_id, 'xcoord'] \n",
    "            y = df.loc[df['month_id'] == month_id, 'ycoord'] \n",
    "            c = df.loc[df['month_id'] == month_id, feature] \n",
    "\n",
    "            plt.figure(figsize=[28,12])\n",
    "            plt.scatter(x, y, c = c, cmap = 'rainbow', marker = 's', s = 2, vmin= c.min(), vmax=c.max())\n",
    "        \n",
    "            fig_title = f'{feature}_{str(month_id).zfill(3)}'\n",
    "\n",
    "            plt.title(fig_title)\n",
    "            plt.savefig(feature_dir + '/' + fig_title + '.JPG', bbox_inches=\"tight\")\n",
    "            plt.cla() # idk if this is also needed..\n",
    "            plt.close('all') # so they do not display or take up mem\n",
    "\n",
    "def make_maps():\n",
    "    df = get_data()\n",
    "    plot_maps(df)\n",
    "\n",
    "if __name__ == '__main__':\n",
    "    make_maps()"
   ]
  },
  {
   "cell_type": "code",
   "execution_count": null,
   "metadata": {},
   "outputs": [],
   "source": []
  },
  {
   "cell_type": "code",
   "execution_count": null,
   "metadata": {},
   "outputs": [],
   "source": []
  },
  {
   "cell_type": "code",
   "execution_count": null,
   "metadata": {},
   "outputs": [],
   "source": [
    "for i in range(10): #(vol.shape[0]):\n",
    "    true_obs_masked = np.ma.masked_where((vol[0,:,:,4] == 0), vol[i,:,:,5])\n",
    "    plt.imshow(true_obs_masked, cmap = 'rainbow')\n",
    "    plt.title(vol[i,:,:,3].mean())\n",
    "    plt.show()"
   ]
  }
 ],
 "metadata": {
  "kernelspec": {
   "display_name": "viewser",
   "language": "python",
   "name": "python3"
  },
  "language_info": {
   "codemirror_mode": {
    "name": "ipython",
    "version": 3
   },
   "file_extension": ".py",
   "mimetype": "text/x-python",
   "name": "python",
   "nbconvert_exporter": "python",
   "pygments_lexer": "ipython3",
   "version": "3.9.15"
  },
  "orig_nbformat": 4,
  "vscode": {
   "interpreter": {
    "hash": "7eec4667a0e19dfe5b6f29f56c555785b49556fbcf0825d71ca5a02fc9d2fb6f"
   }
  }
 },
 "nbformat": 4,
 "nbformat_minor": 2
}
