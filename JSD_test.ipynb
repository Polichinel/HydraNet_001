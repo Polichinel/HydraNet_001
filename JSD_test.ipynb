{
 "cells": [
  {
   "cell_type": "code",
   "execution_count": 15,
   "metadata": {},
   "outputs": [],
   "source": [
    "import numpy as np\n",
    "from scipy.stats import entropy # equvilant to KL if to variables are given.\n",
    "from scipy.spatial.distance import jensenshannon"
   ]
  },
  {
   "cell_type": "code",
   "execution_count": 16,
   "metadata": {},
   "outputs": [],
   "source": [
    "def get_jsd(pr , pg):\n",
    "    pa = (pr+pg)/2\n",
    "    jsd = (1/2)*entropy(pr,pa) + (1/2)*entropy(pg, pa)\n",
    "    return(jsd)\n"
   ]
  },
  {
   "cell_type": "code",
   "execution_count": null,
   "metadata": {},
   "outputs": [],
   "source": [
    "# entropy = np.sum(pk * log(pk / qk)"
   ]
  },
  {
   "cell_type": "code",
   "execution_count": 17,
   "metadata": {},
   "outputs": [],
   "source": [
    "x = np.random.random(100)\n",
    "y = np.random.random(100)"
   ]
  },
  {
   "cell_type": "code",
   "execution_count": 18,
   "metadata": {},
   "outputs": [
    {
     "name": "stdout",
     "output_type": "stream",
     "text": [
      "0.0948571056321308\n",
      "0.09479467494697182\n"
     ]
    }
   ],
   "source": [
    "print(get_jsd(x,y)) # Divergience\n",
    "print(jensenshannon(x,y)**2) # Divergience"
   ]
  },
  {
   "cell_type": "code",
   "execution_count": 19,
   "metadata": {},
   "outputs": [
    {
     "name": "stdout",
     "output_type": "stream",
     "text": [
      "0.3079888076410096\n",
      "0.3078874387612652\n"
     ]
    }
   ],
   "source": [
    "print(np.sqrt(get_jsd(x,y))) # Distance\n",
    "print(jensenshannon(x,y)) # distance"
   ]
  },
  {
   "cell_type": "markdown",
   "metadata": {},
   "source": [
    "So, indeed the distance is just hte sqrt of the divergtience."
   ]
  }
 ],
 "metadata": {
  "interpreter": {
   "hash": "7fcc707ba52361edf59c8725809d3f80fff5a023f2a5646c9753e548f7e28de1"
  },
  "kernelspec": {
   "display_name": "Python 3.8.8 ('new_torch_env')",
   "language": "python",
   "name": "python3"
  },
  "language_info": {
   "codemirror_mode": {
    "name": "ipython",
    "version": 3
   },
   "file_extension": ".py",
   "mimetype": "text/x-python",
   "name": "python",
   "nbconvert_exporter": "python",
   "pygments_lexer": "ipython3",
   "version": "3.8.8"
  },
  "orig_nbformat": 4
 },
 "nbformat": 4,
 "nbformat_minor": 2
}
